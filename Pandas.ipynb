{
 "cells": [
  {
   "cell_type": "code",
   "execution_count": 1,
   "id": "64e34e22-2580-4ea2-8ba3-6aff4735790c",
   "metadata": {},
   "outputs": [],
   "source": [
    "import pandas as pd"
   ]
  },
  {
   "cell_type": "code",
   "execution_count": 2,
   "id": "18c11f68-5541-4874-93ab-0309447ba9a3",
   "metadata": {},
   "outputs": [],
   "source": [
    "df = pd.read_csv('data/survey_results_public.csv')"
   ]
  },
  {
   "cell_type": "code",
   "execution_count": 3,
   "id": "e56cfe6d-63c4-4b3e-8c7b-8302c3cf3556",
   "metadata": {},
   "outputs": [
    {
     "data": {
      "text/html": [
       "<div>\n",
       "<style scoped>\n",
       "    .dataframe tbody tr th:only-of-type {\n",
       "        vertical-align: middle;\n",
       "    }\n",
       "\n",
       "    .dataframe tbody tr th {\n",
       "        vertical-align: top;\n",
       "    }\n",
       "\n",
       "    .dataframe thead th {\n",
       "        text-align: right;\n",
       "    }\n",
       "</style>\n",
       "<table border=\"1\" class=\"dataframe\">\n",
       "  <thead>\n",
       "    <tr style=\"text-align: right;\">\n",
       "      <th></th>\n",
       "      <th>Respondent</th>\n",
       "      <th>MainBranch</th>\n",
       "      <th>Hobbyist</th>\n",
       "      <th>OpenSourcer</th>\n",
       "      <th>OpenSource</th>\n",
       "      <th>Employment</th>\n",
       "      <th>Country</th>\n",
       "      <th>Student</th>\n",
       "      <th>EdLevel</th>\n",
       "      <th>UndergradMajor</th>\n",
       "      <th>...</th>\n",
       "      <th>WelcomeChange</th>\n",
       "      <th>SONewContent</th>\n",
       "      <th>Age</th>\n",
       "      <th>Gender</th>\n",
       "      <th>Trans</th>\n",
       "      <th>Sexuality</th>\n",
       "      <th>Ethnicity</th>\n",
       "      <th>Dependents</th>\n",
       "      <th>SurveyLength</th>\n",
       "      <th>SurveyEase</th>\n",
       "    </tr>\n",
       "  </thead>\n",
       "  <tbody>\n",
       "    <tr>\n",
       "      <th>0</th>\n",
       "      <td>1</td>\n",
       "      <td>I am a student who is learning to code</td>\n",
       "      <td>Yes</td>\n",
       "      <td>Never</td>\n",
       "      <td>The quality of OSS and closed source software ...</td>\n",
       "      <td>Not employed, and not looking for work</td>\n",
       "      <td>United Kingdom</td>\n",
       "      <td>No</td>\n",
       "      <td>Primary/elementary school</td>\n",
       "      <td>NaN</td>\n",
       "      <td>...</td>\n",
       "      <td>Just as welcome now as I felt last year</td>\n",
       "      <td>Tech articles written by other developers;Indu...</td>\n",
       "      <td>14.0</td>\n",
       "      <td>Man</td>\n",
       "      <td>No</td>\n",
       "      <td>Straight / Heterosexual</td>\n",
       "      <td>NaN</td>\n",
       "      <td>No</td>\n",
       "      <td>Appropriate in length</td>\n",
       "      <td>Neither easy nor difficult</td>\n",
       "    </tr>\n",
       "    <tr>\n",
       "      <th>1</th>\n",
       "      <td>2</td>\n",
       "      <td>I am a student who is learning to code</td>\n",
       "      <td>No</td>\n",
       "      <td>Less than once per year</td>\n",
       "      <td>The quality of OSS and closed source software ...</td>\n",
       "      <td>Not employed, but looking for work</td>\n",
       "      <td>Bosnia and Herzegovina</td>\n",
       "      <td>Yes, full-time</td>\n",
       "      <td>Secondary school (e.g. American high school, G...</td>\n",
       "      <td>NaN</td>\n",
       "      <td>...</td>\n",
       "      <td>Just as welcome now as I felt last year</td>\n",
       "      <td>Tech articles written by other developers;Indu...</td>\n",
       "      <td>19.0</td>\n",
       "      <td>Man</td>\n",
       "      <td>No</td>\n",
       "      <td>Straight / Heterosexual</td>\n",
       "      <td>NaN</td>\n",
       "      <td>No</td>\n",
       "      <td>Appropriate in length</td>\n",
       "      <td>Neither easy nor difficult</td>\n",
       "    </tr>\n",
       "    <tr>\n",
       "      <th>2</th>\n",
       "      <td>3</td>\n",
       "      <td>I am not primarily a developer, but I write co...</td>\n",
       "      <td>Yes</td>\n",
       "      <td>Never</td>\n",
       "      <td>The quality of OSS and closed source software ...</td>\n",
       "      <td>Employed full-time</td>\n",
       "      <td>Thailand</td>\n",
       "      <td>No</td>\n",
       "      <td>Bachelor’s degree (BA, BS, B.Eng., etc.)</td>\n",
       "      <td>Web development or web design</td>\n",
       "      <td>...</td>\n",
       "      <td>Just as welcome now as I felt last year</td>\n",
       "      <td>Tech meetups or events in your area;Courses on...</td>\n",
       "      <td>28.0</td>\n",
       "      <td>Man</td>\n",
       "      <td>No</td>\n",
       "      <td>Straight / Heterosexual</td>\n",
       "      <td>NaN</td>\n",
       "      <td>Yes</td>\n",
       "      <td>Appropriate in length</td>\n",
       "      <td>Neither easy nor difficult</td>\n",
       "    </tr>\n",
       "    <tr>\n",
       "      <th>3</th>\n",
       "      <td>4</td>\n",
       "      <td>I am a developer by profession</td>\n",
       "      <td>No</td>\n",
       "      <td>Never</td>\n",
       "      <td>The quality of OSS and closed source software ...</td>\n",
       "      <td>Employed full-time</td>\n",
       "      <td>United States</td>\n",
       "      <td>No</td>\n",
       "      <td>Bachelor’s degree (BA, BS, B.Eng., etc.)</td>\n",
       "      <td>Computer science, computer engineering, or sof...</td>\n",
       "      <td>...</td>\n",
       "      <td>Just as welcome now as I felt last year</td>\n",
       "      <td>Tech articles written by other developers;Indu...</td>\n",
       "      <td>22.0</td>\n",
       "      <td>Man</td>\n",
       "      <td>No</td>\n",
       "      <td>Straight / Heterosexual</td>\n",
       "      <td>White or of European descent</td>\n",
       "      <td>No</td>\n",
       "      <td>Appropriate in length</td>\n",
       "      <td>Easy</td>\n",
       "    </tr>\n",
       "    <tr>\n",
       "      <th>4</th>\n",
       "      <td>5</td>\n",
       "      <td>I am a developer by profession</td>\n",
       "      <td>Yes</td>\n",
       "      <td>Once a month or more often</td>\n",
       "      <td>OSS is, on average, of HIGHER quality than pro...</td>\n",
       "      <td>Employed full-time</td>\n",
       "      <td>Ukraine</td>\n",
       "      <td>No</td>\n",
       "      <td>Bachelor’s degree (BA, BS, B.Eng., etc.)</td>\n",
       "      <td>Computer science, computer engineering, or sof...</td>\n",
       "      <td>...</td>\n",
       "      <td>Just as welcome now as I felt last year</td>\n",
       "      <td>Tech meetups or events in your area;Courses on...</td>\n",
       "      <td>30.0</td>\n",
       "      <td>Man</td>\n",
       "      <td>No</td>\n",
       "      <td>Straight / Heterosexual</td>\n",
       "      <td>White or of European descent;Multiracial</td>\n",
       "      <td>No</td>\n",
       "      <td>Appropriate in length</td>\n",
       "      <td>Easy</td>\n",
       "    </tr>\n",
       "    <tr>\n",
       "      <th>...</th>\n",
       "      <td>...</td>\n",
       "      <td>...</td>\n",
       "      <td>...</td>\n",
       "      <td>...</td>\n",
       "      <td>...</td>\n",
       "      <td>...</td>\n",
       "      <td>...</td>\n",
       "      <td>...</td>\n",
       "      <td>...</td>\n",
       "      <td>...</td>\n",
       "      <td>...</td>\n",
       "      <td>...</td>\n",
       "      <td>...</td>\n",
       "      <td>...</td>\n",
       "      <td>...</td>\n",
       "      <td>...</td>\n",
       "      <td>...</td>\n",
       "      <td>...</td>\n",
       "      <td>...</td>\n",
       "      <td>...</td>\n",
       "      <td>...</td>\n",
       "    </tr>\n",
       "    <tr>\n",
       "      <th>88878</th>\n",
       "      <td>88377</td>\n",
       "      <td>NaN</td>\n",
       "      <td>Yes</td>\n",
       "      <td>Less than once a month but more than once per ...</td>\n",
       "      <td>The quality of OSS and closed source software ...</td>\n",
       "      <td>Not employed, and not looking for work</td>\n",
       "      <td>Canada</td>\n",
       "      <td>No</td>\n",
       "      <td>Primary/elementary school</td>\n",
       "      <td>NaN</td>\n",
       "      <td>...</td>\n",
       "      <td>NaN</td>\n",
       "      <td>Tech articles written by other developers;Tech...</td>\n",
       "      <td>NaN</td>\n",
       "      <td>Man</td>\n",
       "      <td>No</td>\n",
       "      <td>NaN</td>\n",
       "      <td>NaN</td>\n",
       "      <td>No</td>\n",
       "      <td>Appropriate in length</td>\n",
       "      <td>Easy</td>\n",
       "    </tr>\n",
       "    <tr>\n",
       "      <th>88879</th>\n",
       "      <td>88601</td>\n",
       "      <td>NaN</td>\n",
       "      <td>No</td>\n",
       "      <td>Never</td>\n",
       "      <td>The quality of OSS and closed source software ...</td>\n",
       "      <td>NaN</td>\n",
       "      <td>NaN</td>\n",
       "      <td>NaN</td>\n",
       "      <td>NaN</td>\n",
       "      <td>NaN</td>\n",
       "      <td>...</td>\n",
       "      <td>NaN</td>\n",
       "      <td>NaN</td>\n",
       "      <td>NaN</td>\n",
       "      <td>NaN</td>\n",
       "      <td>NaN</td>\n",
       "      <td>NaN</td>\n",
       "      <td>NaN</td>\n",
       "      <td>NaN</td>\n",
       "      <td>NaN</td>\n",
       "      <td>NaN</td>\n",
       "    </tr>\n",
       "    <tr>\n",
       "      <th>88880</th>\n",
       "      <td>88802</td>\n",
       "      <td>NaN</td>\n",
       "      <td>No</td>\n",
       "      <td>Never</td>\n",
       "      <td>NaN</td>\n",
       "      <td>Employed full-time</td>\n",
       "      <td>NaN</td>\n",
       "      <td>NaN</td>\n",
       "      <td>NaN</td>\n",
       "      <td>NaN</td>\n",
       "      <td>...</td>\n",
       "      <td>NaN</td>\n",
       "      <td>NaN</td>\n",
       "      <td>NaN</td>\n",
       "      <td>NaN</td>\n",
       "      <td>NaN</td>\n",
       "      <td>NaN</td>\n",
       "      <td>NaN</td>\n",
       "      <td>NaN</td>\n",
       "      <td>NaN</td>\n",
       "      <td>NaN</td>\n",
       "    </tr>\n",
       "    <tr>\n",
       "      <th>88881</th>\n",
       "      <td>88816</td>\n",
       "      <td>NaN</td>\n",
       "      <td>No</td>\n",
       "      <td>Never</td>\n",
       "      <td>OSS is, on average, of HIGHER quality than pro...</td>\n",
       "      <td>Independent contractor, freelancer, or self-em...</td>\n",
       "      <td>NaN</td>\n",
       "      <td>NaN</td>\n",
       "      <td>NaN</td>\n",
       "      <td>NaN</td>\n",
       "      <td>...</td>\n",
       "      <td>NaN</td>\n",
       "      <td>NaN</td>\n",
       "      <td>NaN</td>\n",
       "      <td>NaN</td>\n",
       "      <td>NaN</td>\n",
       "      <td>NaN</td>\n",
       "      <td>NaN</td>\n",
       "      <td>NaN</td>\n",
       "      <td>NaN</td>\n",
       "      <td>NaN</td>\n",
       "    </tr>\n",
       "    <tr>\n",
       "      <th>88882</th>\n",
       "      <td>88863</td>\n",
       "      <td>NaN</td>\n",
       "      <td>Yes</td>\n",
       "      <td>Less than once per year</td>\n",
       "      <td>OSS is, on average, of HIGHER quality than pro...</td>\n",
       "      <td>Not employed, and not looking for work</td>\n",
       "      <td>Spain</td>\n",
       "      <td>Yes, full-time</td>\n",
       "      <td>Professional degree (JD, MD, etc.)</td>\n",
       "      <td>Computer science, computer engineering, or sof...</td>\n",
       "      <td>...</td>\n",
       "      <td>Somewhat less welcome now than last year</td>\n",
       "      <td>Tech articles written by other developers;Indu...</td>\n",
       "      <td>18.0</td>\n",
       "      <td>Man</td>\n",
       "      <td>No</td>\n",
       "      <td>Straight / Heterosexual</td>\n",
       "      <td>Hispanic or Latino/Latina;White or of European...</td>\n",
       "      <td>No</td>\n",
       "      <td>Appropriate in length</td>\n",
       "      <td>Easy</td>\n",
       "    </tr>\n",
       "  </tbody>\n",
       "</table>\n",
       "<p>88883 rows × 85 columns</p>\n",
       "</div>"
      ],
      "text/plain": [
       "       Respondent                                         MainBranch Hobbyist  \\\n",
       "0               1             I am a student who is learning to code      Yes   \n",
       "1               2             I am a student who is learning to code       No   \n",
       "2               3  I am not primarily a developer, but I write co...      Yes   \n",
       "3               4                     I am a developer by profession       No   \n",
       "4               5                     I am a developer by profession      Yes   \n",
       "...           ...                                                ...      ...   \n",
       "88878       88377                                                NaN      Yes   \n",
       "88879       88601                                                NaN       No   \n",
       "88880       88802                                                NaN       No   \n",
       "88881       88816                                                NaN       No   \n",
       "88882       88863                                                NaN      Yes   \n",
       "\n",
       "                                             OpenSourcer  \\\n",
       "0                                                  Never   \n",
       "1                                Less than once per year   \n",
       "2                                                  Never   \n",
       "3                                                  Never   \n",
       "4                             Once a month or more often   \n",
       "...                                                  ...   \n",
       "88878  Less than once a month but more than once per ...   \n",
       "88879                                              Never   \n",
       "88880                                              Never   \n",
       "88881                                              Never   \n",
       "88882                            Less than once per year   \n",
       "\n",
       "                                              OpenSource  \\\n",
       "0      The quality of OSS and closed source software ...   \n",
       "1      The quality of OSS and closed source software ...   \n",
       "2      The quality of OSS and closed source software ...   \n",
       "3      The quality of OSS and closed source software ...   \n",
       "4      OSS is, on average, of HIGHER quality than pro...   \n",
       "...                                                  ...   \n",
       "88878  The quality of OSS and closed source software ...   \n",
       "88879  The quality of OSS and closed source software ...   \n",
       "88880                                                NaN   \n",
       "88881  OSS is, on average, of HIGHER quality than pro...   \n",
       "88882  OSS is, on average, of HIGHER quality than pro...   \n",
       "\n",
       "                                              Employment  \\\n",
       "0                 Not employed, and not looking for work   \n",
       "1                     Not employed, but looking for work   \n",
       "2                                     Employed full-time   \n",
       "3                                     Employed full-time   \n",
       "4                                     Employed full-time   \n",
       "...                                                  ...   \n",
       "88878             Not employed, and not looking for work   \n",
       "88879                                                NaN   \n",
       "88880                                 Employed full-time   \n",
       "88881  Independent contractor, freelancer, or self-em...   \n",
       "88882             Not employed, and not looking for work   \n",
       "\n",
       "                      Country         Student  \\\n",
       "0              United Kingdom              No   \n",
       "1      Bosnia and Herzegovina  Yes, full-time   \n",
       "2                    Thailand              No   \n",
       "3               United States              No   \n",
       "4                     Ukraine              No   \n",
       "...                       ...             ...   \n",
       "88878                  Canada              No   \n",
       "88879                     NaN             NaN   \n",
       "88880                     NaN             NaN   \n",
       "88881                     NaN             NaN   \n",
       "88882                   Spain  Yes, full-time   \n",
       "\n",
       "                                                 EdLevel  \\\n",
       "0                              Primary/elementary school   \n",
       "1      Secondary school (e.g. American high school, G...   \n",
       "2               Bachelor’s degree (BA, BS, B.Eng., etc.)   \n",
       "3               Bachelor’s degree (BA, BS, B.Eng., etc.)   \n",
       "4               Bachelor’s degree (BA, BS, B.Eng., etc.)   \n",
       "...                                                  ...   \n",
       "88878                          Primary/elementary school   \n",
       "88879                                                NaN   \n",
       "88880                                                NaN   \n",
       "88881                                                NaN   \n",
       "88882                 Professional degree (JD, MD, etc.)   \n",
       "\n",
       "                                          UndergradMajor  ...  \\\n",
       "0                                                    NaN  ...   \n",
       "1                                                    NaN  ...   \n",
       "2                          Web development or web design  ...   \n",
       "3      Computer science, computer engineering, or sof...  ...   \n",
       "4      Computer science, computer engineering, or sof...  ...   \n",
       "...                                                  ...  ...   \n",
       "88878                                                NaN  ...   \n",
       "88879                                                NaN  ...   \n",
       "88880                                                NaN  ...   \n",
       "88881                                                NaN  ...   \n",
       "88882  Computer science, computer engineering, or sof...  ...   \n",
       "\n",
       "                                  WelcomeChange  \\\n",
       "0       Just as welcome now as I felt last year   \n",
       "1       Just as welcome now as I felt last year   \n",
       "2       Just as welcome now as I felt last year   \n",
       "3       Just as welcome now as I felt last year   \n",
       "4       Just as welcome now as I felt last year   \n",
       "...                                         ...   \n",
       "88878                                       NaN   \n",
       "88879                                       NaN   \n",
       "88880                                       NaN   \n",
       "88881                                       NaN   \n",
       "88882  Somewhat less welcome now than last year   \n",
       "\n",
       "                                            SONewContent   Age Gender Trans  \\\n",
       "0      Tech articles written by other developers;Indu...  14.0    Man    No   \n",
       "1      Tech articles written by other developers;Indu...  19.0    Man    No   \n",
       "2      Tech meetups or events in your area;Courses on...  28.0    Man    No   \n",
       "3      Tech articles written by other developers;Indu...  22.0    Man    No   \n",
       "4      Tech meetups or events in your area;Courses on...  30.0    Man    No   \n",
       "...                                                  ...   ...    ...   ...   \n",
       "88878  Tech articles written by other developers;Tech...   NaN    Man    No   \n",
       "88879                                                NaN   NaN    NaN   NaN   \n",
       "88880                                                NaN   NaN    NaN   NaN   \n",
       "88881                                                NaN   NaN    NaN   NaN   \n",
       "88882  Tech articles written by other developers;Indu...  18.0    Man    No   \n",
       "\n",
       "                     Sexuality  \\\n",
       "0      Straight / Heterosexual   \n",
       "1      Straight / Heterosexual   \n",
       "2      Straight / Heterosexual   \n",
       "3      Straight / Heterosexual   \n",
       "4      Straight / Heterosexual   \n",
       "...                        ...   \n",
       "88878                      NaN   \n",
       "88879                      NaN   \n",
       "88880                      NaN   \n",
       "88881                      NaN   \n",
       "88882  Straight / Heterosexual   \n",
       "\n",
       "                                               Ethnicity Dependents  \\\n",
       "0                                                    NaN         No   \n",
       "1                                                    NaN         No   \n",
       "2                                                    NaN        Yes   \n",
       "3                           White or of European descent         No   \n",
       "4               White or of European descent;Multiracial         No   \n",
       "...                                                  ...        ...   \n",
       "88878                                                NaN         No   \n",
       "88879                                                NaN        NaN   \n",
       "88880                                                NaN        NaN   \n",
       "88881                                                NaN        NaN   \n",
       "88882  Hispanic or Latino/Latina;White or of European...         No   \n",
       "\n",
       "                SurveyLength                  SurveyEase  \n",
       "0      Appropriate in length  Neither easy nor difficult  \n",
       "1      Appropriate in length  Neither easy nor difficult  \n",
       "2      Appropriate in length  Neither easy nor difficult  \n",
       "3      Appropriate in length                        Easy  \n",
       "4      Appropriate in length                        Easy  \n",
       "...                      ...                         ...  \n",
       "88878  Appropriate in length                        Easy  \n",
       "88879                    NaN                         NaN  \n",
       "88880                    NaN                         NaN  \n",
       "88881                    NaN                         NaN  \n",
       "88882  Appropriate in length                        Easy  \n",
       "\n",
       "[88883 rows x 85 columns]"
      ]
     },
     "execution_count": 3,
     "metadata": {},
     "output_type": "execute_result"
    }
   ],
   "source": [
    "df"
   ]
  },
  {
   "cell_type": "code",
   "execution_count": 4,
   "id": "7e947670-1893-44e2-a5ba-8ab63dfb853f",
   "metadata": {},
   "outputs": [
    {
     "data": {
      "text/plain": [
       "(88883, 85)"
      ]
     },
     "execution_count": 4,
     "metadata": {},
     "output_type": "execute_result"
    }
   ],
   "source": [
    "df.shape"
   ]
  },
  {
   "cell_type": "code",
   "execution_count": 6,
   "id": "ba644634-df4f-4854-bb43-31c0dfea61c1",
   "metadata": {},
   "outputs": [
    {
     "data": {
      "text/plain": [
       "7555055"
      ]
     },
     "execution_count": 6,
     "metadata": {},
     "output_type": "execute_result"
    }
   ],
   "source": [
    "df.size"
   ]
  },
  {
   "cell_type": "code",
   "execution_count": 7,
   "id": "0b682c61-3ddf-46a8-8a04-8a913ed3c086",
   "metadata": {},
   "outputs": [
    {
     "name": "stdout",
     "output_type": "stream",
     "text": [
      "<class 'pandas.core.frame.DataFrame'>\n",
      "RangeIndex: 88883 entries, 0 to 88882\n",
      "Data columns (total 85 columns):\n",
      " #   Column                  Non-Null Count  Dtype  \n",
      "---  ------                  --------------  -----  \n",
      " 0   Respondent              88883 non-null  int64  \n",
      " 1   MainBranch              88331 non-null  object \n",
      " 2   Hobbyist                88883 non-null  object \n",
      " 3   OpenSourcer             88883 non-null  object \n",
      " 4   OpenSource              86842 non-null  object \n",
      " 5   Employment              87181 non-null  object \n",
      " 6   Country                 88751 non-null  object \n",
      " 7   Student                 87014 non-null  object \n",
      " 8   EdLevel                 86390 non-null  object \n",
      " 9   UndergradMajor          75614 non-null  object \n",
      " 10  EduOther                84260 non-null  object \n",
      " 11  OrgSize                 71791 non-null  object \n",
      " 12  DevType                 81335 non-null  object \n",
      " 13  YearsCode               87938 non-null  object \n",
      " 14  Age1stCode              87634 non-null  object \n",
      " 15  YearsCodePro            74331 non-null  object \n",
      " 16  CareerSat               72847 non-null  object \n",
      " 17  JobSat                  70988 non-null  object \n",
      " 18  MgrIdiot                61159 non-null  object \n",
      " 19  MgrMoney                61157 non-null  object \n",
      " 20  MgrWant                 61232 non-null  object \n",
      " 21  JobSeek                 80555 non-null  object \n",
      " 22  LastHireDate            79854 non-null  object \n",
      " 23  LastInt                 67155 non-null  object \n",
      " 24  FizzBuzz                71344 non-null  object \n",
      " 25  JobFactors              79371 non-null  object \n",
      " 26  ResumeUpdate            77877 non-null  object \n",
      " 27  CurrencySymbol          71392 non-null  object \n",
      " 28  CurrencyDesc            71392 non-null  object \n",
      " 29  CompTotal               55945 non-null  float64\n",
      " 30  CompFreq                63268 non-null  object \n",
      " 31  ConvertedComp           55823 non-null  float64\n",
      " 32  WorkWeekHrs             64503 non-null  float64\n",
      " 33  WorkPlan                68914 non-null  object \n",
      " 34  WorkChallenge           68141 non-null  object \n",
      " 35  WorkRemote              70284 non-null  object \n",
      " 36  WorkLoc                 70055 non-null  object \n",
      " 37  ImpSyn                  71779 non-null  object \n",
      " 38  CodeRev                 70390 non-null  object \n",
      " 39  CodeRevHrs              49790 non-null  float64\n",
      " 40  UnitTests               62668 non-null  object \n",
      " 41  PurchaseHow             61108 non-null  object \n",
      " 42  PurchaseWhat            62029 non-null  object \n",
      " 43  LanguageWorkedWith      87569 non-null  object \n",
      " 44  LanguageDesireNextYear  84088 non-null  object \n",
      " 45  DatabaseWorkedWith      76026 non-null  object \n",
      " 46  DatabaseDesireNextYear  69147 non-null  object \n",
      " 47  PlatformWorkedWith      80714 non-null  object \n",
      " 48  PlatformDesireNextYear  77443 non-null  object \n",
      " 49  WebFrameWorkedWith      65022 non-null  object \n",
      " 50  WebFrameDesireNextYear  62944 non-null  object \n",
      " 51  MiscTechWorkedWith      59586 non-null  object \n",
      " 52  MiscTechDesireNextYear  64511 non-null  object \n",
      " 53  DevEnviron              87317 non-null  object \n",
      " 54  OpSys                   87851 non-null  object \n",
      " 55  Containers              85366 non-null  object \n",
      " 56  BlockchainOrg           48175 non-null  object \n",
      " 57  BlockchainIs            60165 non-null  object \n",
      " 58  BetterLife              86269 non-null  object \n",
      " 59  ITperson                87141 non-null  object \n",
      " 60  OffOn                   86663 non-null  object \n",
      " 61  SocialMedia             84437 non-null  object \n",
      " 62  Extraversion            87305 non-null  object \n",
      " 63  ScreenName              80486 non-null  object \n",
      " 64  SOVisit1st              83877 non-null  object \n",
      " 65  SOVisitFreq             88263 non-null  object \n",
      " 66  SOVisitTo               88086 non-null  object \n",
      " 67  SOFindAnswer            87816 non-null  object \n",
      " 68  SOTimeSaved             86344 non-null  object \n",
      " 69  SOHowMuchTime           68378 non-null  object \n",
      " 70  SOAccount               87828 non-null  object \n",
      " 71  SOPartFreq              74692 non-null  object \n",
      " 72  SOJobs                  88066 non-null  object \n",
      " 73  EntTeams                87841 non-null  object \n",
      " 74  SOComm                  88131 non-null  object \n",
      " 75  WelcomeChange           85855 non-null  object \n",
      " 76  SONewContent            69560 non-null  object \n",
      " 77  Age                     79210 non-null  float64\n",
      " 78  Gender                  85406 non-null  object \n",
      " 79  Trans                   83607 non-null  object \n",
      " 80  Sexuality               76147 non-null  object \n",
      " 81  Ethnicity               76668 non-null  object \n",
      " 82  Dependents              83059 non-null  object \n",
      " 83  SurveyLength            86984 non-null  object \n",
      " 84  SurveyEase              87081 non-null  object \n",
      "dtypes: float64(5), int64(1), object(79)\n",
      "memory usage: 57.6+ MB\n"
     ]
    }
   ],
   "source": [
    "df.info()"
   ]
  },
  {
   "cell_type": "code",
   "execution_count": 4,
   "id": "880347eb-e545-4ac2-a5c9-940ab28b7c02",
   "metadata": {},
   "outputs": [],
   "source": [
    "people = {'first' : ['Smit', 'Ghanshyam', 'Guruji'],\n",
    "         'last': ['Patel', 'Sarvopari', 'Ladila'],\n",
    "         'email' : ['smit4589@gmail.com', 'akshardham@com', 'shreeji@akshardham.com']}"
   ]
  },
  {
   "cell_type": "code",
   "execution_count": 5,
   "id": "dcc2a1cc-ff83-40dd-a539-9aebf71f8b9a",
   "metadata": {},
   "outputs": [
    {
     "data": {
      "text/plain": [
       "{'first': ['Smit', 'Ghanshyam', 'Guruji'],\n",
       " 'last': ['Patel', 'Sarvopari', 'Ladila'],\n",
       " 'email': ['smit4589@gmail.com', 'akshardham@com', 'shreeji@akshardham.com']}"
      ]
     },
     "execution_count": 5,
     "metadata": {},
     "output_type": "execute_result"
    }
   ],
   "source": [
    "people"
   ]
  },
  {
   "cell_type": "code",
   "execution_count": 9,
   "id": "73b459bd-5acc-4997-8414-24d573fe379b",
   "metadata": {},
   "outputs": [],
   "source": [
    "dataframe = pd.DataFrame(people)"
   ]
  },
  {
   "cell_type": "code",
   "execution_count": 10,
   "id": "52bfb737-fe54-4dca-9db9-55f7c9062f78",
   "metadata": {},
   "outputs": [
    {
     "data": {
      "text/html": [
       "<div>\n",
       "<style scoped>\n",
       "    .dataframe tbody tr th:only-of-type {\n",
       "        vertical-align: middle;\n",
       "    }\n",
       "\n",
       "    .dataframe tbody tr th {\n",
       "        vertical-align: top;\n",
       "    }\n",
       "\n",
       "    .dataframe thead th {\n",
       "        text-align: right;\n",
       "    }\n",
       "</style>\n",
       "<table border=\"1\" class=\"dataframe\">\n",
       "  <thead>\n",
       "    <tr style=\"text-align: right;\">\n",
       "      <th></th>\n",
       "      <th>first</th>\n",
       "      <th>last</th>\n",
       "      <th>email</th>\n",
       "    </tr>\n",
       "  </thead>\n",
       "  <tbody>\n",
       "    <tr>\n",
       "      <th>0</th>\n",
       "      <td>Smit</td>\n",
       "      <td>Patel</td>\n",
       "      <td>smit4589@gmail.com</td>\n",
       "    </tr>\n",
       "    <tr>\n",
       "      <th>1</th>\n",
       "      <td>Ghanshyam</td>\n",
       "      <td>Sarvopari</td>\n",
       "      <td>akshardham@com</td>\n",
       "    </tr>\n",
       "    <tr>\n",
       "      <th>2</th>\n",
       "      <td>Guruji</td>\n",
       "      <td>Ladila</td>\n",
       "      <td>shreeji@akshardham.com</td>\n",
       "    </tr>\n",
       "  </tbody>\n",
       "</table>\n",
       "</div>"
      ],
      "text/plain": [
       "       first       last                   email\n",
       "0       Smit      Patel      smit4589@gmail.com\n",
       "1  Ghanshyam  Sarvopari          akshardham@com\n",
       "2     Guruji     Ladila  shreeji@akshardham.com"
      ]
     },
     "execution_count": 10,
     "metadata": {},
     "output_type": "execute_result"
    }
   ],
   "source": [
    "dataframe"
   ]
  },
  {
   "cell_type": "code",
   "execution_count": 11,
   "id": "eb7b6659-3d37-4b8e-882b-eef54cfa4697",
   "metadata": {},
   "outputs": [
    {
     "data": {
      "text/plain": [
       "0        Patel\n",
       "1    Sarvopari\n",
       "2       Ladila\n",
       "Name: last, dtype: object"
      ]
     },
     "execution_count": 11,
     "metadata": {},
     "output_type": "execute_result"
    }
   ],
   "source": [
    "dataframe['last']"
   ]
  },
  {
   "cell_type": "code",
   "execution_count": 13,
   "id": "34b748c9-ddb7-432d-84ae-ee3274212dd1",
   "metadata": {},
   "outputs": [
    {
     "data": {
      "text/plain": [
       "pandas.core.frame.DataFrame"
      ]
     },
     "execution_count": 13,
     "metadata": {},
     "output_type": "execute_result"
    }
   ],
   "source": [
    "type(dataframe)"
   ]
  },
  {
   "cell_type": "code",
   "execution_count": 15,
   "id": "1e8c0b7c-99ae-4bb0-b58e-f53df0a8bd64",
   "metadata": {},
   "outputs": [
    {
     "data": {
      "text/plain": [
       "pandas.core.series.Series"
      ]
     },
     "execution_count": 15,
     "metadata": {},
     "output_type": "execute_result"
    }
   ],
   "source": [
    "type(dataframe['last'])"
   ]
  },
  {
   "cell_type": "code",
   "execution_count": 17,
   "id": "388ce8ac-f67b-41f8-85b7-327f6702747a",
   "metadata": {},
   "outputs": [
    {
     "data": {
      "text/plain": [
       "<bound method NDFrame.first of        first       last                   email\n",
       "0       Smit      Patel      smit4589@gmail.com\n",
       "1  Ghanshyam  Sarvopari          akshardham@com\n",
       "2     Guruji     Ladila  shreeji@akshardham.com>"
      ]
     },
     "execution_count": 17,
     "metadata": {},
     "output_type": "execute_result"
    }
   ],
   "source": [
    "dataframe.first"
   ]
  },
  {
   "cell_type": "code",
   "execution_count": 18,
   "id": "048da422-9833-47a2-a39c-5c499411eb02",
   "metadata": {},
   "outputs": [
    {
     "data": {
      "text/html": [
       "<div>\n",
       "<style scoped>\n",
       "    .dataframe tbody tr th:only-of-type {\n",
       "        vertical-align: middle;\n",
       "    }\n",
       "\n",
       "    .dataframe tbody tr th {\n",
       "        vertical-align: top;\n",
       "    }\n",
       "\n",
       "    .dataframe thead th {\n",
       "        text-align: right;\n",
       "    }\n",
       "</style>\n",
       "<table border=\"1\" class=\"dataframe\">\n",
       "  <thead>\n",
       "    <tr style=\"text-align: right;\">\n",
       "      <th></th>\n",
       "      <th>first</th>\n",
       "      <th>last</th>\n",
       "    </tr>\n",
       "  </thead>\n",
       "  <tbody>\n",
       "    <tr>\n",
       "      <th>0</th>\n",
       "      <td>Smit</td>\n",
       "      <td>Patel</td>\n",
       "    </tr>\n",
       "    <tr>\n",
       "      <th>1</th>\n",
       "      <td>Ghanshyam</td>\n",
       "      <td>Sarvopari</td>\n",
       "    </tr>\n",
       "    <tr>\n",
       "      <th>2</th>\n",
       "      <td>Guruji</td>\n",
       "      <td>Ladila</td>\n",
       "    </tr>\n",
       "  </tbody>\n",
       "</table>\n",
       "</div>"
      ],
      "text/plain": [
       "       first       last\n",
       "0       Smit      Patel\n",
       "1  Ghanshyam  Sarvopari\n",
       "2     Guruji     Ladila"
      ]
     },
     "execution_count": 18,
     "metadata": {},
     "output_type": "execute_result"
    }
   ],
   "source": [
    "dataframe[['first', 'last']]"
   ]
  },
  {
   "cell_type": "code",
   "execution_count": 19,
   "id": "541c2289-6f66-410e-87e4-fed17c162708",
   "metadata": {},
   "outputs": [
    {
     "data": {
      "text/plain": [
       "0         Smit\n",
       "1    Ghanshyam\n",
       "2       Guruji\n",
       "Name: first, dtype: object"
      ]
     },
     "execution_count": 19,
     "metadata": {},
     "output_type": "execute_result"
    }
   ],
   "source": [
    "dataframe[['first', 'last']]['first']"
   ]
  },
  {
   "cell_type": "code",
   "execution_count": 20,
   "id": "5d26f4f5-ccfc-41a9-9c96-c1a458f71ae1",
   "metadata": {},
   "outputs": [
    {
     "data": {
      "text/plain": [
       "pandas.core.series.Series"
      ]
     },
     "execution_count": 20,
     "metadata": {},
     "output_type": "execute_result"
    }
   ],
   "source": [
    "type(dataframe[['first', 'last']]['first'])"
   ]
  },
  {
   "cell_type": "code",
   "execution_count": 21,
   "id": "7bd09b85-d686-4a2b-8265-ed8bbba928cb",
   "metadata": {},
   "outputs": [
    {
     "data": {
      "text/plain": [
       "Index(['first', 'last', 'email'], dtype='object')"
      ]
     },
     "execution_count": 21,
     "metadata": {},
     "output_type": "execute_result"
    }
   ],
   "source": [
    "dataframe.columns"
   ]
  },
  {
   "cell_type": "code",
   "execution_count": 25,
   "id": "4780fbd0-d653-4cbe-9715-2d3d9eec9583",
   "metadata": {},
   "outputs": [
    {
     "data": {
      "text/plain": [
       "first    object\n",
       "last     object\n",
       "email    object\n",
       "dtype: object"
      ]
     },
     "execution_count": 25,
     "metadata": {},
     "output_type": "execute_result"
    }
   ],
   "source": [
    "dataframe.dtypes"
   ]
  },
  {
   "cell_type": "code",
   "execution_count": 26,
   "id": "5788dc71-70b6-47e1-85ff-97fdf5022056",
   "metadata": {},
   "outputs": [
    {
     "data": {
      "text/plain": [
       "<bound method DataFrame.info of        first       last                   email\n",
       "0       Smit      Patel      smit4589@gmail.com\n",
       "1  Ghanshyam  Sarvopari          akshardham@com\n",
       "2     Guruji     Ladila  shreeji@akshardham.com>"
      ]
     },
     "execution_count": 26,
     "metadata": {},
     "output_type": "execute_result"
    }
   ],
   "source": [
    "dataframe.info"
   ]
  },
  {
   "cell_type": "code",
   "execution_count": 27,
   "id": "6ef807c2-fa6e-41c5-85bd-0c4a5880cf1a",
   "metadata": {},
   "outputs": [
    {
     "data": {
      "text/plain": [
       "array([['Smit', 'Patel', 'smit4589@gmail.com'],\n",
       "       ['Ghanshyam', 'Sarvopari', 'akshardham@com'],\n",
       "       ['Guruji', 'Ladila', 'shreeji@akshardham.com']], dtype=object)"
      ]
     },
     "execution_count": 27,
     "metadata": {},
     "output_type": "execute_result"
    }
   ],
   "source": [
    "dataframe.values"
   ]
  },
  {
   "cell_type": "code",
   "execution_count": 28,
   "id": "688682b7-25e9-4594-bf45-a28fd8c2072f",
   "metadata": {},
   "outputs": [
    {
     "data": {
      "text/plain": [
       "2"
      ]
     },
     "execution_count": 28,
     "metadata": {},
     "output_type": "execute_result"
    }
   ],
   "source": [
    "dataframe.ndim"
   ]
  },
  {
   "cell_type": "code",
   "execution_count": 30,
   "id": "fa8550c6-6c29-4eeb-afa3-ea79a23af5be",
   "metadata": {},
   "outputs": [
    {
     "data": {
      "text/plain": [
       "9"
      ]
     },
     "execution_count": 30,
     "metadata": {},
     "output_type": "execute_result"
    }
   ],
   "source": [
    "dataframe.size"
   ]
  },
  {
   "cell_type": "code",
   "execution_count": 31,
   "id": "4231322d-9294-4c5c-a48e-655ef0b022e6",
   "metadata": {},
   "outputs": [
    {
     "data": {
      "text/plain": [
       "(3, 3)"
      ]
     },
     "execution_count": 31,
     "metadata": {},
     "output_type": "execute_result"
    }
   ],
   "source": [
    "dataframe.shape"
   ]
  },
  {
   "cell_type": "code",
   "execution_count": 32,
   "id": "d94309c7-0de2-4e1c-92ee-7edc0f1519d5",
   "metadata": {},
   "outputs": [
    {
     "data": {
      "text/html": [
       "<div>\n",
       "<style scoped>\n",
       "    .dataframe tbody tr th:only-of-type {\n",
       "        vertical-align: middle;\n",
       "    }\n",
       "\n",
       "    .dataframe tbody tr th {\n",
       "        vertical-align: top;\n",
       "    }\n",
       "\n",
       "    .dataframe thead th {\n",
       "        text-align: right;\n",
       "    }\n",
       "</style>\n",
       "<table border=\"1\" class=\"dataframe\">\n",
       "  <thead>\n",
       "    <tr style=\"text-align: right;\">\n",
       "      <th></th>\n",
       "      <th>first</th>\n",
       "      <th>last</th>\n",
       "      <th>email</th>\n",
       "    </tr>\n",
       "  </thead>\n",
       "  <tbody>\n",
       "    <tr>\n",
       "      <th>0</th>\n",
       "      <td>Smit</td>\n",
       "      <td>Patel</td>\n",
       "      <td>smit4589@gmail.com</td>\n",
       "    </tr>\n",
       "    <tr>\n",
       "      <th>1</th>\n",
       "      <td>Ghanshyam</td>\n",
       "      <td>Sarvopari</td>\n",
       "      <td>akshardham@com</td>\n",
       "    </tr>\n",
       "  </tbody>\n",
       "</table>\n",
       "</div>"
      ],
      "text/plain": [
       "       first       last               email\n",
       "0       Smit      Patel  smit4589@gmail.com\n",
       "1  Ghanshyam  Sarvopari      akshardham@com"
      ]
     },
     "execution_count": 32,
     "metadata": {},
     "output_type": "execute_result"
    }
   ],
   "source": [
    "dataframe.head(2)"
   ]
  },
  {
   "cell_type": "code",
   "execution_count": 33,
   "id": "6244292e-90b4-415d-8d47-33bb1795e541",
   "metadata": {},
   "outputs": [
    {
     "data": {
      "text/html": [
       "<div>\n",
       "<style scoped>\n",
       "    .dataframe tbody tr th:only-of-type {\n",
       "        vertical-align: middle;\n",
       "    }\n",
       "\n",
       "    .dataframe tbody tr th {\n",
       "        vertical-align: top;\n",
       "    }\n",
       "\n",
       "    .dataframe thead th {\n",
       "        text-align: right;\n",
       "    }\n",
       "</style>\n",
       "<table border=\"1\" class=\"dataframe\">\n",
       "  <thead>\n",
       "    <tr style=\"text-align: right;\">\n",
       "      <th></th>\n",
       "      <th>first</th>\n",
       "      <th>last</th>\n",
       "      <th>email</th>\n",
       "    </tr>\n",
       "  </thead>\n",
       "  <tbody>\n",
       "    <tr>\n",
       "      <th>0</th>\n",
       "      <td>Smit</td>\n",
       "      <td>Patel</td>\n",
       "      <td>smit4589@gmail.com</td>\n",
       "    </tr>\n",
       "  </tbody>\n",
       "</table>\n",
       "</div>"
      ],
      "text/plain": [
       "  first   last               email\n",
       "0  Smit  Patel  smit4589@gmail.com"
      ]
     },
     "execution_count": 33,
     "metadata": {},
     "output_type": "execute_result"
    }
   ],
   "source": [
    "dataframe.head(1)"
   ]
  },
  {
   "cell_type": "code",
   "execution_count": 34,
   "id": "0150513d-9ccb-448b-8d3f-e5ffef08c79c",
   "metadata": {},
   "outputs": [
    {
     "data": {
      "text/plain": [
       "<bound method NDFrame.keys of        first       last                   email\n",
       "0       Smit      Patel      smit4589@gmail.com\n",
       "1  Ghanshyam  Sarvopari          akshardham@com\n",
       "2     Guruji     Ladila  shreeji@akshardham.com>"
      ]
     },
     "execution_count": 34,
     "metadata": {},
     "output_type": "execute_result"
    }
   ],
   "source": [
    "dataframe.keys"
   ]
  },
  {
   "cell_type": "code",
   "execution_count": 35,
   "id": "9bb294c7-c7f0-4888-bea7-69a0810e00d2",
   "metadata": {},
   "outputs": [
    {
     "data": {
      "text/html": [
       "<div>\n",
       "<style scoped>\n",
       "    .dataframe tbody tr th:only-of-type {\n",
       "        vertical-align: middle;\n",
       "    }\n",
       "\n",
       "    .dataframe tbody tr th {\n",
       "        vertical-align: top;\n",
       "    }\n",
       "\n",
       "    .dataframe thead th {\n",
       "        text-align: right;\n",
       "    }\n",
       "</style>\n",
       "<table border=\"1\" class=\"dataframe\">\n",
       "  <thead>\n",
       "    <tr style=\"text-align: right;\">\n",
       "      <th></th>\n",
       "      <th>first</th>\n",
       "      <th>last</th>\n",
       "      <th>email</th>\n",
       "    </tr>\n",
       "  </thead>\n",
       "  <tbody>\n",
       "    <tr>\n",
       "      <th>1</th>\n",
       "      <td>Ghanshyam</td>\n",
       "      <td>Sarvopari</td>\n",
       "      <td>akshardham@com</td>\n",
       "    </tr>\n",
       "    <tr>\n",
       "      <th>2</th>\n",
       "      <td>Guruji</td>\n",
       "      <td>Ladila</td>\n",
       "      <td>shreeji@akshardham.com</td>\n",
       "    </tr>\n",
       "  </tbody>\n",
       "</table>\n",
       "</div>"
      ],
      "text/plain": [
       "       first       last                   email\n",
       "1  Ghanshyam  Sarvopari          akshardham@com\n",
       "2     Guruji     Ladila  shreeji@akshardham.com"
      ]
     },
     "execution_count": 35,
     "metadata": {},
     "output_type": "execute_result"
    }
   ],
   "source": [
    "dataframe.tail(2)"
   ]
  },
  {
   "cell_type": "code",
   "execution_count": 36,
   "id": "0ed79560-cfbb-4c77-b4ab-4b8d6eccba82",
   "metadata": {},
   "outputs": [
    {
     "data": {
      "text/plain": [
       "first                  Smit\n",
       "last                  Patel\n",
       "email    smit4589@gmail.com\n",
       "Name: 0, dtype: object"
      ]
     },
     "execution_count": 36,
     "metadata": {},
     "output_type": "execute_result"
    }
   ],
   "source": [
    " dataframe.iloc[0]"
   ]
  },
  {
   "cell_type": "code",
   "execution_count": 37,
   "id": "085f5cf0-2b6e-44b1-b155-b374356e9802",
   "metadata": {},
   "outputs": [
    {
     "data": {
      "text/html": [
       "<div>\n",
       "<style scoped>\n",
       "    .dataframe tbody tr th:only-of-type {\n",
       "        vertical-align: middle;\n",
       "    }\n",
       "\n",
       "    .dataframe tbody tr th {\n",
       "        vertical-align: top;\n",
       "    }\n",
       "\n",
       "    .dataframe thead th {\n",
       "        text-align: right;\n",
       "    }\n",
       "</style>\n",
       "<table border=\"1\" class=\"dataframe\">\n",
       "  <thead>\n",
       "    <tr style=\"text-align: right;\">\n",
       "      <th></th>\n",
       "      <th>first</th>\n",
       "      <th>last</th>\n",
       "      <th>email</th>\n",
       "    </tr>\n",
       "  </thead>\n",
       "  <tbody>\n",
       "    <tr>\n",
       "      <th>0</th>\n",
       "      <td>Smit</td>\n",
       "      <td>Patel</td>\n",
       "      <td>smit4589@gmail.com</td>\n",
       "    </tr>\n",
       "    <tr>\n",
       "      <th>1</th>\n",
       "      <td>Ghanshyam</td>\n",
       "      <td>Sarvopari</td>\n",
       "      <td>akshardham@com</td>\n",
       "    </tr>\n",
       "  </tbody>\n",
       "</table>\n",
       "</div>"
      ],
      "text/plain": [
       "       first       last               email\n",
       "0       Smit      Patel  smit4589@gmail.com\n",
       "1  Ghanshyam  Sarvopari      akshardham@com"
      ]
     },
     "execution_count": 37,
     "metadata": {},
     "output_type": "execute_result"
    }
   ],
   "source": [
    "dataframe.iloc[[0,1]]"
   ]
  },
  {
   "cell_type": "code",
   "execution_count": 38,
   "id": "500144c6-6c6d-4098-bbe7-2bb56f83e032",
   "metadata": {},
   "outputs": [
    {
     "data": {
      "text/plain": [
       "first                    Guruji\n",
       "last                     Ladila\n",
       "email    shreeji@akshardham.com\n",
       "Name: 2, dtype: object"
      ]
     },
     "execution_count": 38,
     "metadata": {},
     "output_type": "execute_result"
    }
   ],
   "source": [
    "dataframe.iloc[2]"
   ]
  },
  {
   "cell_type": "code",
   "execution_count": 42,
   "id": "4ae959a7-b60e-42d6-b41e-91acc5641106",
   "metadata": {},
   "outputs": [
    {
     "data": {
      "text/html": [
       "<div>\n",
       "<style scoped>\n",
       "    .dataframe tbody tr th:only-of-type {\n",
       "        vertical-align: middle;\n",
       "    }\n",
       "\n",
       "    .dataframe tbody tr th {\n",
       "        vertical-align: top;\n",
       "    }\n",
       "\n",
       "    .dataframe thead th {\n",
       "        text-align: right;\n",
       "    }\n",
       "</style>\n",
       "<table border=\"1\" class=\"dataframe\">\n",
       "  <thead>\n",
       "    <tr style=\"text-align: right;\">\n",
       "      <th></th>\n",
       "      <th>first</th>\n",
       "      <th>last</th>\n",
       "      <th>email</th>\n",
       "    </tr>\n",
       "  </thead>\n",
       "  <tbody>\n",
       "    <tr>\n",
       "      <th>0</th>\n",
       "      <td>Smit</td>\n",
       "      <td>Patel</td>\n",
       "      <td>smit4589@gmail.com</td>\n",
       "    </tr>\n",
       "    <tr>\n",
       "      <th>1</th>\n",
       "      <td>Ghanshyam</td>\n",
       "      <td>Sarvopari</td>\n",
       "      <td>akshardham@com</td>\n",
       "    </tr>\n",
       "  </tbody>\n",
       "</table>\n",
       "</div>"
      ],
      "text/plain": [
       "       first       last               email\n",
       "0       Smit      Patel  smit4589@gmail.com\n",
       "1  Ghanshyam  Sarvopari      akshardham@com"
      ]
     },
     "execution_count": 42,
     "metadata": {},
     "output_type": "execute_result"
    }
   ],
   "source": [
    "dataframe.iloc[[True, True, False]]"
   ]
  },
  {
   "cell_type": "code",
   "execution_count": 44,
   "id": "f1c80a92-50cb-4e48-a671-b8eac66b5fe2",
   "metadata": {},
   "outputs": [
    {
     "data": {
      "text/html": [
       "<div>\n",
       "<style scoped>\n",
       "    .dataframe tbody tr th:only-of-type {\n",
       "        vertical-align: middle;\n",
       "    }\n",
       "\n",
       "    .dataframe tbody tr th {\n",
       "        vertical-align: top;\n",
       "    }\n",
       "\n",
       "    .dataframe thead th {\n",
       "        text-align: right;\n",
       "    }\n",
       "</style>\n",
       "<table border=\"1\" class=\"dataframe\">\n",
       "  <thead>\n",
       "    <tr style=\"text-align: right;\">\n",
       "      <th></th>\n",
       "      <th>first</th>\n",
       "    </tr>\n",
       "  </thead>\n",
       "  <tbody>\n",
       "    <tr>\n",
       "      <th>0</th>\n",
       "      <td>Smit</td>\n",
       "    </tr>\n",
       "    <tr>\n",
       "      <th>1</th>\n",
       "      <td>Ghanshyam</td>\n",
       "    </tr>\n",
       "  </tbody>\n",
       "</table>\n",
       "</div>"
      ],
      "text/plain": [
       "       first\n",
       "0       Smit\n",
       "1  Ghanshyam"
      ]
     },
     "execution_count": 44,
     "metadata": {},
     "output_type": "execute_result"
    }
   ],
   "source": [
    "dataframe.iloc[[0,1], [0]]"
   ]
  },
  {
   "cell_type": "code",
   "execution_count": 46,
   "id": "a43cccc4-a778-49d1-9bf9-601e832958e1",
   "metadata": {},
   "outputs": [
    {
     "data": {
      "text/html": [
       "<div>\n",
       "<style scoped>\n",
       "    .dataframe tbody tr th:only-of-type {\n",
       "        vertical-align: middle;\n",
       "    }\n",
       "\n",
       "    .dataframe tbody tr th {\n",
       "        vertical-align: top;\n",
       "    }\n",
       "\n",
       "    .dataframe thead th {\n",
       "        text-align: right;\n",
       "    }\n",
       "</style>\n",
       "<table border=\"1\" class=\"dataframe\">\n",
       "  <thead>\n",
       "    <tr style=\"text-align: right;\">\n",
       "      <th></th>\n",
       "      <th>first</th>\n",
       "      <th>last</th>\n",
       "      <th>email</th>\n",
       "    </tr>\n",
       "  </thead>\n",
       "  <tbody>\n",
       "    <tr>\n",
       "      <th>0</th>\n",
       "      <td>Smit</td>\n",
       "      <td>Patel</td>\n",
       "      <td>smit4589@gmail.com</td>\n",
       "    </tr>\n",
       "    <tr>\n",
       "      <th>1</th>\n",
       "      <td>Ghanshyam</td>\n",
       "      <td>Sarvopari</td>\n",
       "      <td>akshardham@com</td>\n",
       "    </tr>\n",
       "  </tbody>\n",
       "</table>\n",
       "</div>"
      ],
      "text/plain": [
       "       first       last               email\n",
       "0       Smit      Patel  smit4589@gmail.com\n",
       "1  Ghanshyam  Sarvopari      akshardham@com"
      ]
     },
     "execution_count": 46,
     "metadata": {},
     "output_type": "execute_result"
    }
   ],
   "source": [
    "dataframe.loc[[0,1]]"
   ]
  },
  {
   "cell_type": "markdown",
   "id": "f9493136-50fd-4841-a2a5-d277bf20a5b4",
   "metadata": {},
   "source": [
    "dataframe.loc[[0,1], ['first', 'last']]"
   ]
  },
  {
   "cell_type": "code",
   "execution_count": 5,
   "id": "ab7d6795-3011-40d3-9cfa-06eb49775d4b",
   "metadata": {},
   "outputs": [],
   "source": [
    "df = pd.read_csv('data/survey_results_public.csv')"
   ]
  },
  {
   "cell_type": "code",
   "execution_count": 6,
   "id": "885ecfc0-f73a-4656-98ce-98e004b6030e",
   "metadata": {},
   "outputs": [
    {
     "data": {
      "text/html": [
       "<div>\n",
       "<style scoped>\n",
       "    .dataframe tbody tr th:only-of-type {\n",
       "        vertical-align: middle;\n",
       "    }\n",
       "\n",
       "    .dataframe tbody tr th {\n",
       "        vertical-align: top;\n",
       "    }\n",
       "\n",
       "    .dataframe thead th {\n",
       "        text-align: right;\n",
       "    }\n",
       "</style>\n",
       "<table border=\"1\" class=\"dataframe\">\n",
       "  <thead>\n",
       "    <tr style=\"text-align: right;\">\n",
       "      <th></th>\n",
       "      <th>Respondent</th>\n",
       "      <th>MainBranch</th>\n",
       "      <th>Hobbyist</th>\n",
       "      <th>OpenSourcer</th>\n",
       "      <th>OpenSource</th>\n",
       "      <th>Employment</th>\n",
       "      <th>Country</th>\n",
       "      <th>Student</th>\n",
       "      <th>EdLevel</th>\n",
       "      <th>UndergradMajor</th>\n",
       "      <th>...</th>\n",
       "      <th>WelcomeChange</th>\n",
       "      <th>SONewContent</th>\n",
       "      <th>Age</th>\n",
       "      <th>Gender</th>\n",
       "      <th>Trans</th>\n",
       "      <th>Sexuality</th>\n",
       "      <th>Ethnicity</th>\n",
       "      <th>Dependents</th>\n",
       "      <th>SurveyLength</th>\n",
       "      <th>SurveyEase</th>\n",
       "    </tr>\n",
       "  </thead>\n",
       "  <tbody>\n",
       "    <tr>\n",
       "      <th>0</th>\n",
       "      <td>1</td>\n",
       "      <td>I am a student who is learning to code</td>\n",
       "      <td>Yes</td>\n",
       "      <td>Never</td>\n",
       "      <td>The quality of OSS and closed source software ...</td>\n",
       "      <td>Not employed, and not looking for work</td>\n",
       "      <td>United Kingdom</td>\n",
       "      <td>No</td>\n",
       "      <td>Primary/elementary school</td>\n",
       "      <td>NaN</td>\n",
       "      <td>...</td>\n",
       "      <td>Just as welcome now as I felt last year</td>\n",
       "      <td>Tech articles written by other developers;Indu...</td>\n",
       "      <td>14.0</td>\n",
       "      <td>Man</td>\n",
       "      <td>No</td>\n",
       "      <td>Straight / Heterosexual</td>\n",
       "      <td>NaN</td>\n",
       "      <td>No</td>\n",
       "      <td>Appropriate in length</td>\n",
       "      <td>Neither easy nor difficult</td>\n",
       "    </tr>\n",
       "    <tr>\n",
       "      <th>1</th>\n",
       "      <td>2</td>\n",
       "      <td>I am a student who is learning to code</td>\n",
       "      <td>No</td>\n",
       "      <td>Less than once per year</td>\n",
       "      <td>The quality of OSS and closed source software ...</td>\n",
       "      <td>Not employed, but looking for work</td>\n",
       "      <td>Bosnia and Herzegovina</td>\n",
       "      <td>Yes, full-time</td>\n",
       "      <td>Secondary school (e.g. American high school, G...</td>\n",
       "      <td>NaN</td>\n",
       "      <td>...</td>\n",
       "      <td>Just as welcome now as I felt last year</td>\n",
       "      <td>Tech articles written by other developers;Indu...</td>\n",
       "      <td>19.0</td>\n",
       "      <td>Man</td>\n",
       "      <td>No</td>\n",
       "      <td>Straight / Heterosexual</td>\n",
       "      <td>NaN</td>\n",
       "      <td>No</td>\n",
       "      <td>Appropriate in length</td>\n",
       "      <td>Neither easy nor difficult</td>\n",
       "    </tr>\n",
       "    <tr>\n",
       "      <th>2</th>\n",
       "      <td>3</td>\n",
       "      <td>I am not primarily a developer, but I write co...</td>\n",
       "      <td>Yes</td>\n",
       "      <td>Never</td>\n",
       "      <td>The quality of OSS and closed source software ...</td>\n",
       "      <td>Employed full-time</td>\n",
       "      <td>Thailand</td>\n",
       "      <td>No</td>\n",
       "      <td>Bachelor’s degree (BA, BS, B.Eng., etc.)</td>\n",
       "      <td>Web development or web design</td>\n",
       "      <td>...</td>\n",
       "      <td>Just as welcome now as I felt last year</td>\n",
       "      <td>Tech meetups or events in your area;Courses on...</td>\n",
       "      <td>28.0</td>\n",
       "      <td>Man</td>\n",
       "      <td>No</td>\n",
       "      <td>Straight / Heterosexual</td>\n",
       "      <td>NaN</td>\n",
       "      <td>Yes</td>\n",
       "      <td>Appropriate in length</td>\n",
       "      <td>Neither easy nor difficult</td>\n",
       "    </tr>\n",
       "    <tr>\n",
       "      <th>3</th>\n",
       "      <td>4</td>\n",
       "      <td>I am a developer by profession</td>\n",
       "      <td>No</td>\n",
       "      <td>Never</td>\n",
       "      <td>The quality of OSS and closed source software ...</td>\n",
       "      <td>Employed full-time</td>\n",
       "      <td>United States</td>\n",
       "      <td>No</td>\n",
       "      <td>Bachelor’s degree (BA, BS, B.Eng., etc.)</td>\n",
       "      <td>Computer science, computer engineering, or sof...</td>\n",
       "      <td>...</td>\n",
       "      <td>Just as welcome now as I felt last year</td>\n",
       "      <td>Tech articles written by other developers;Indu...</td>\n",
       "      <td>22.0</td>\n",
       "      <td>Man</td>\n",
       "      <td>No</td>\n",
       "      <td>Straight / Heterosexual</td>\n",
       "      <td>White or of European descent</td>\n",
       "      <td>No</td>\n",
       "      <td>Appropriate in length</td>\n",
       "      <td>Easy</td>\n",
       "    </tr>\n",
       "    <tr>\n",
       "      <th>4</th>\n",
       "      <td>5</td>\n",
       "      <td>I am a developer by profession</td>\n",
       "      <td>Yes</td>\n",
       "      <td>Once a month or more often</td>\n",
       "      <td>OSS is, on average, of HIGHER quality than pro...</td>\n",
       "      <td>Employed full-time</td>\n",
       "      <td>Ukraine</td>\n",
       "      <td>No</td>\n",
       "      <td>Bachelor’s degree (BA, BS, B.Eng., etc.)</td>\n",
       "      <td>Computer science, computer engineering, or sof...</td>\n",
       "      <td>...</td>\n",
       "      <td>Just as welcome now as I felt last year</td>\n",
       "      <td>Tech meetups or events in your area;Courses on...</td>\n",
       "      <td>30.0</td>\n",
       "      <td>Man</td>\n",
       "      <td>No</td>\n",
       "      <td>Straight / Heterosexual</td>\n",
       "      <td>White or of European descent;Multiracial</td>\n",
       "      <td>No</td>\n",
       "      <td>Appropriate in length</td>\n",
       "      <td>Easy</td>\n",
       "    </tr>\n",
       "    <tr>\n",
       "      <th>...</th>\n",
       "      <td>...</td>\n",
       "      <td>...</td>\n",
       "      <td>...</td>\n",
       "      <td>...</td>\n",
       "      <td>...</td>\n",
       "      <td>...</td>\n",
       "      <td>...</td>\n",
       "      <td>...</td>\n",
       "      <td>...</td>\n",
       "      <td>...</td>\n",
       "      <td>...</td>\n",
       "      <td>...</td>\n",
       "      <td>...</td>\n",
       "      <td>...</td>\n",
       "      <td>...</td>\n",
       "      <td>...</td>\n",
       "      <td>...</td>\n",
       "      <td>...</td>\n",
       "      <td>...</td>\n",
       "      <td>...</td>\n",
       "      <td>...</td>\n",
       "    </tr>\n",
       "    <tr>\n",
       "      <th>88878</th>\n",
       "      <td>88377</td>\n",
       "      <td>NaN</td>\n",
       "      <td>Yes</td>\n",
       "      <td>Less than once a month but more than once per ...</td>\n",
       "      <td>The quality of OSS and closed source software ...</td>\n",
       "      <td>Not employed, and not looking for work</td>\n",
       "      <td>Canada</td>\n",
       "      <td>No</td>\n",
       "      <td>Primary/elementary school</td>\n",
       "      <td>NaN</td>\n",
       "      <td>...</td>\n",
       "      <td>NaN</td>\n",
       "      <td>Tech articles written by other developers;Tech...</td>\n",
       "      <td>NaN</td>\n",
       "      <td>Man</td>\n",
       "      <td>No</td>\n",
       "      <td>NaN</td>\n",
       "      <td>NaN</td>\n",
       "      <td>No</td>\n",
       "      <td>Appropriate in length</td>\n",
       "      <td>Easy</td>\n",
       "    </tr>\n",
       "    <tr>\n",
       "      <th>88879</th>\n",
       "      <td>88601</td>\n",
       "      <td>NaN</td>\n",
       "      <td>No</td>\n",
       "      <td>Never</td>\n",
       "      <td>The quality of OSS and closed source software ...</td>\n",
       "      <td>NaN</td>\n",
       "      <td>NaN</td>\n",
       "      <td>NaN</td>\n",
       "      <td>NaN</td>\n",
       "      <td>NaN</td>\n",
       "      <td>...</td>\n",
       "      <td>NaN</td>\n",
       "      <td>NaN</td>\n",
       "      <td>NaN</td>\n",
       "      <td>NaN</td>\n",
       "      <td>NaN</td>\n",
       "      <td>NaN</td>\n",
       "      <td>NaN</td>\n",
       "      <td>NaN</td>\n",
       "      <td>NaN</td>\n",
       "      <td>NaN</td>\n",
       "    </tr>\n",
       "    <tr>\n",
       "      <th>88880</th>\n",
       "      <td>88802</td>\n",
       "      <td>NaN</td>\n",
       "      <td>No</td>\n",
       "      <td>Never</td>\n",
       "      <td>NaN</td>\n",
       "      <td>Employed full-time</td>\n",
       "      <td>NaN</td>\n",
       "      <td>NaN</td>\n",
       "      <td>NaN</td>\n",
       "      <td>NaN</td>\n",
       "      <td>...</td>\n",
       "      <td>NaN</td>\n",
       "      <td>NaN</td>\n",
       "      <td>NaN</td>\n",
       "      <td>NaN</td>\n",
       "      <td>NaN</td>\n",
       "      <td>NaN</td>\n",
       "      <td>NaN</td>\n",
       "      <td>NaN</td>\n",
       "      <td>NaN</td>\n",
       "      <td>NaN</td>\n",
       "    </tr>\n",
       "    <tr>\n",
       "      <th>88881</th>\n",
       "      <td>88816</td>\n",
       "      <td>NaN</td>\n",
       "      <td>No</td>\n",
       "      <td>Never</td>\n",
       "      <td>OSS is, on average, of HIGHER quality than pro...</td>\n",
       "      <td>Independent contractor, freelancer, or self-em...</td>\n",
       "      <td>NaN</td>\n",
       "      <td>NaN</td>\n",
       "      <td>NaN</td>\n",
       "      <td>NaN</td>\n",
       "      <td>...</td>\n",
       "      <td>NaN</td>\n",
       "      <td>NaN</td>\n",
       "      <td>NaN</td>\n",
       "      <td>NaN</td>\n",
       "      <td>NaN</td>\n",
       "      <td>NaN</td>\n",
       "      <td>NaN</td>\n",
       "      <td>NaN</td>\n",
       "      <td>NaN</td>\n",
       "      <td>NaN</td>\n",
       "    </tr>\n",
       "    <tr>\n",
       "      <th>88882</th>\n",
       "      <td>88863</td>\n",
       "      <td>NaN</td>\n",
       "      <td>Yes</td>\n",
       "      <td>Less than once per year</td>\n",
       "      <td>OSS is, on average, of HIGHER quality than pro...</td>\n",
       "      <td>Not employed, and not looking for work</td>\n",
       "      <td>Spain</td>\n",
       "      <td>Yes, full-time</td>\n",
       "      <td>Professional degree (JD, MD, etc.)</td>\n",
       "      <td>Computer science, computer engineering, or sof...</td>\n",
       "      <td>...</td>\n",
       "      <td>Somewhat less welcome now than last year</td>\n",
       "      <td>Tech articles written by other developers;Indu...</td>\n",
       "      <td>18.0</td>\n",
       "      <td>Man</td>\n",
       "      <td>No</td>\n",
       "      <td>Straight / Heterosexual</td>\n",
       "      <td>Hispanic or Latino/Latina;White or of European...</td>\n",
       "      <td>No</td>\n",
       "      <td>Appropriate in length</td>\n",
       "      <td>Easy</td>\n",
       "    </tr>\n",
       "  </tbody>\n",
       "</table>\n",
       "<p>88883 rows × 85 columns</p>\n",
       "</div>"
      ],
      "text/plain": [
       "       Respondent                                         MainBranch Hobbyist  \\\n",
       "0               1             I am a student who is learning to code      Yes   \n",
       "1               2             I am a student who is learning to code       No   \n",
       "2               3  I am not primarily a developer, but I write co...      Yes   \n",
       "3               4                     I am a developer by profession       No   \n",
       "4               5                     I am a developer by profession      Yes   \n",
       "...           ...                                                ...      ...   \n",
       "88878       88377                                                NaN      Yes   \n",
       "88879       88601                                                NaN       No   \n",
       "88880       88802                                                NaN       No   \n",
       "88881       88816                                                NaN       No   \n",
       "88882       88863                                                NaN      Yes   \n",
       "\n",
       "                                             OpenSourcer  \\\n",
       "0                                                  Never   \n",
       "1                                Less than once per year   \n",
       "2                                                  Never   \n",
       "3                                                  Never   \n",
       "4                             Once a month or more often   \n",
       "...                                                  ...   \n",
       "88878  Less than once a month but more than once per ...   \n",
       "88879                                              Never   \n",
       "88880                                              Never   \n",
       "88881                                              Never   \n",
       "88882                            Less than once per year   \n",
       "\n",
       "                                              OpenSource  \\\n",
       "0      The quality of OSS and closed source software ...   \n",
       "1      The quality of OSS and closed source software ...   \n",
       "2      The quality of OSS and closed source software ...   \n",
       "3      The quality of OSS and closed source software ...   \n",
       "4      OSS is, on average, of HIGHER quality than pro...   \n",
       "...                                                  ...   \n",
       "88878  The quality of OSS and closed source software ...   \n",
       "88879  The quality of OSS and closed source software ...   \n",
       "88880                                                NaN   \n",
       "88881  OSS is, on average, of HIGHER quality than pro...   \n",
       "88882  OSS is, on average, of HIGHER quality than pro...   \n",
       "\n",
       "                                              Employment  \\\n",
       "0                 Not employed, and not looking for work   \n",
       "1                     Not employed, but looking for work   \n",
       "2                                     Employed full-time   \n",
       "3                                     Employed full-time   \n",
       "4                                     Employed full-time   \n",
       "...                                                  ...   \n",
       "88878             Not employed, and not looking for work   \n",
       "88879                                                NaN   \n",
       "88880                                 Employed full-time   \n",
       "88881  Independent contractor, freelancer, or self-em...   \n",
       "88882             Not employed, and not looking for work   \n",
       "\n",
       "                      Country         Student  \\\n",
       "0              United Kingdom              No   \n",
       "1      Bosnia and Herzegovina  Yes, full-time   \n",
       "2                    Thailand              No   \n",
       "3               United States              No   \n",
       "4                     Ukraine              No   \n",
       "...                       ...             ...   \n",
       "88878                  Canada              No   \n",
       "88879                     NaN             NaN   \n",
       "88880                     NaN             NaN   \n",
       "88881                     NaN             NaN   \n",
       "88882                   Spain  Yes, full-time   \n",
       "\n",
       "                                                 EdLevel  \\\n",
       "0                              Primary/elementary school   \n",
       "1      Secondary school (e.g. American high school, G...   \n",
       "2               Bachelor’s degree (BA, BS, B.Eng., etc.)   \n",
       "3               Bachelor’s degree (BA, BS, B.Eng., etc.)   \n",
       "4               Bachelor’s degree (BA, BS, B.Eng., etc.)   \n",
       "...                                                  ...   \n",
       "88878                          Primary/elementary school   \n",
       "88879                                                NaN   \n",
       "88880                                                NaN   \n",
       "88881                                                NaN   \n",
       "88882                 Professional degree (JD, MD, etc.)   \n",
       "\n",
       "                                          UndergradMajor  ...  \\\n",
       "0                                                    NaN  ...   \n",
       "1                                                    NaN  ...   \n",
       "2                          Web development or web design  ...   \n",
       "3      Computer science, computer engineering, or sof...  ...   \n",
       "4      Computer science, computer engineering, or sof...  ...   \n",
       "...                                                  ...  ...   \n",
       "88878                                                NaN  ...   \n",
       "88879                                                NaN  ...   \n",
       "88880                                                NaN  ...   \n",
       "88881                                                NaN  ...   \n",
       "88882  Computer science, computer engineering, or sof...  ...   \n",
       "\n",
       "                                  WelcomeChange  \\\n",
       "0       Just as welcome now as I felt last year   \n",
       "1       Just as welcome now as I felt last year   \n",
       "2       Just as welcome now as I felt last year   \n",
       "3       Just as welcome now as I felt last year   \n",
       "4       Just as welcome now as I felt last year   \n",
       "...                                         ...   \n",
       "88878                                       NaN   \n",
       "88879                                       NaN   \n",
       "88880                                       NaN   \n",
       "88881                                       NaN   \n",
       "88882  Somewhat less welcome now than last year   \n",
       "\n",
       "                                            SONewContent   Age Gender Trans  \\\n",
       "0      Tech articles written by other developers;Indu...  14.0    Man    No   \n",
       "1      Tech articles written by other developers;Indu...  19.0    Man    No   \n",
       "2      Tech meetups or events in your area;Courses on...  28.0    Man    No   \n",
       "3      Tech articles written by other developers;Indu...  22.0    Man    No   \n",
       "4      Tech meetups or events in your area;Courses on...  30.0    Man    No   \n",
       "...                                                  ...   ...    ...   ...   \n",
       "88878  Tech articles written by other developers;Tech...   NaN    Man    No   \n",
       "88879                                                NaN   NaN    NaN   NaN   \n",
       "88880                                                NaN   NaN    NaN   NaN   \n",
       "88881                                                NaN   NaN    NaN   NaN   \n",
       "88882  Tech articles written by other developers;Indu...  18.0    Man    No   \n",
       "\n",
       "                     Sexuality  \\\n",
       "0      Straight / Heterosexual   \n",
       "1      Straight / Heterosexual   \n",
       "2      Straight / Heterosexual   \n",
       "3      Straight / Heterosexual   \n",
       "4      Straight / Heterosexual   \n",
       "...                        ...   \n",
       "88878                      NaN   \n",
       "88879                      NaN   \n",
       "88880                      NaN   \n",
       "88881                      NaN   \n",
       "88882  Straight / Heterosexual   \n",
       "\n",
       "                                               Ethnicity Dependents  \\\n",
       "0                                                    NaN         No   \n",
       "1                                                    NaN         No   \n",
       "2                                                    NaN        Yes   \n",
       "3                           White or of European descent         No   \n",
       "4               White or of European descent;Multiracial         No   \n",
       "...                                                  ...        ...   \n",
       "88878                                                NaN         No   \n",
       "88879                                                NaN        NaN   \n",
       "88880                                                NaN        NaN   \n",
       "88881                                                NaN        NaN   \n",
       "88882  Hispanic or Latino/Latina;White or of European...         No   \n",
       "\n",
       "                SurveyLength                  SurveyEase  \n",
       "0      Appropriate in length  Neither easy nor difficult  \n",
       "1      Appropriate in length  Neither easy nor difficult  \n",
       "2      Appropriate in length  Neither easy nor difficult  \n",
       "3      Appropriate in length                        Easy  \n",
       "4      Appropriate in length                        Easy  \n",
       "...                      ...                         ...  \n",
       "88878  Appropriate in length                        Easy  \n",
       "88879                    NaN                         NaN  \n",
       "88880                    NaN                         NaN  \n",
       "88881                    NaN                         NaN  \n",
       "88882  Appropriate in length                        Easy  \n",
       "\n",
       "[88883 rows x 85 columns]"
      ]
     },
     "execution_count": 6,
     "metadata": {},
     "output_type": "execute_result"
    }
   ],
   "source": [
    "df"
   ]
  },
  {
   "cell_type": "code",
   "execution_count": 57,
   "id": "8ab62bb9-9133-484d-a714-d9e83af4961e",
   "metadata": {},
   "outputs": [
    {
     "data": {
      "text/plain": [
       "(88883, 85)"
      ]
     },
     "execution_count": 57,
     "metadata": {},
     "output_type": "execute_result"
    }
   ],
   "source": [
    "df.shape"
   ]
  },
  {
   "cell_type": "code",
   "execution_count": 58,
   "id": "9410ccc7-5c1b-4f33-b816-d7f97d4884d0",
   "metadata": {},
   "outputs": [
    {
     "data": {
      "text/plain": [
       "0        Yes\n",
       "1         No\n",
       "2        Yes\n",
       "3         No\n",
       "4        Yes\n",
       "        ... \n",
       "88878    Yes\n",
       "88879     No\n",
       "88880     No\n",
       "88881     No\n",
       "88882    Yes\n",
       "Name: Hobbyist, Length: 88883, dtype: object"
      ]
     },
     "execution_count": 58,
     "metadata": {},
     "output_type": "execute_result"
    }
   ],
   "source": [
    "df['Hobbyist']"
   ]
  },
  {
   "cell_type": "code",
   "execution_count": 60,
   "id": "ac0526df-58c4-4226-ab9a-4adeae651804",
   "metadata": {},
   "outputs": [
    {
     "data": {
      "text/plain": [
       "Yes    71257\n",
       "No     17626\n",
       "Name: Hobbyist, dtype: int64"
      ]
     },
     "execution_count": 60,
     "metadata": {},
     "output_type": "execute_result"
    }
   ],
   "source": [
    "df['Hobbyist'].value_counts()"
   ]
  },
  {
   "cell_type": "code",
   "execution_count": 1,
   "id": "db600b3d-1c48-4718-b451-879c9c9c7f69",
   "metadata": {},
   "outputs": [],
   "source": [
    "import pandas as pd"
   ]
  },
  {
   "cell_type": "code",
   "execution_count": 2,
   "id": "e41a9720-e0e7-4fd2-aa74-0808038cc8de",
   "metadata": {},
   "outputs": [
    {
     "name": "stdout",
     "output_type": "stream",
     "text": [
      "Hello\n"
     ]
    }
   ],
   "source": [
    "print('Hello')"
   ]
  },
  {
   "cell_type": "code",
   "execution_count": 9,
   "id": "3d3b3f80-8fc9-4809-8fce-88d203fbf62e",
   "metadata": {},
   "outputs": [],
   "source": [
    "df = pd.read_csv('data/survey_results_public.csv')"
   ]
  },
  {
   "cell_type": "code",
   "execution_count": 10,
   "id": "333bdb34-3765-4375-bec0-fed50a417a91",
   "metadata": {},
   "outputs": [
    {
     "data": {
      "text/html": [
       "<div>\n",
       "<style scoped>\n",
       "    .dataframe tbody tr th:only-of-type {\n",
       "        vertical-align: middle;\n",
       "    }\n",
       "\n",
       "    .dataframe tbody tr th {\n",
       "        vertical-align: top;\n",
       "    }\n",
       "\n",
       "    .dataframe thead th {\n",
       "        text-align: right;\n",
       "    }\n",
       "</style>\n",
       "<table border=\"1\" class=\"dataframe\">\n",
       "  <thead>\n",
       "    <tr style=\"text-align: right;\">\n",
       "      <th></th>\n",
       "      <th>Respondent</th>\n",
       "      <th>MainBranch</th>\n",
       "      <th>Hobbyist</th>\n",
       "      <th>OpenSourcer</th>\n",
       "      <th>OpenSource</th>\n",
       "      <th>Employment</th>\n",
       "      <th>Country</th>\n",
       "      <th>Student</th>\n",
       "      <th>EdLevel</th>\n",
       "      <th>UndergradMajor</th>\n",
       "      <th>...</th>\n",
       "      <th>WelcomeChange</th>\n",
       "      <th>SONewContent</th>\n",
       "      <th>Age</th>\n",
       "      <th>Gender</th>\n",
       "      <th>Trans</th>\n",
       "      <th>Sexuality</th>\n",
       "      <th>Ethnicity</th>\n",
       "      <th>Dependents</th>\n",
       "      <th>SurveyLength</th>\n",
       "      <th>SurveyEase</th>\n",
       "    </tr>\n",
       "  </thead>\n",
       "  <tbody>\n",
       "    <tr>\n",
       "      <th>0</th>\n",
       "      <td>1</td>\n",
       "      <td>I am a student who is learning to code</td>\n",
       "      <td>Yes</td>\n",
       "      <td>Never</td>\n",
       "      <td>The quality of OSS and closed source software ...</td>\n",
       "      <td>Not employed, and not looking for work</td>\n",
       "      <td>United Kingdom</td>\n",
       "      <td>No</td>\n",
       "      <td>Primary/elementary school</td>\n",
       "      <td>NaN</td>\n",
       "      <td>...</td>\n",
       "      <td>Just as welcome now as I felt last year</td>\n",
       "      <td>Tech articles written by other developers;Indu...</td>\n",
       "      <td>14.0</td>\n",
       "      <td>Man</td>\n",
       "      <td>No</td>\n",
       "      <td>Straight / Heterosexual</td>\n",
       "      <td>NaN</td>\n",
       "      <td>No</td>\n",
       "      <td>Appropriate in length</td>\n",
       "      <td>Neither easy nor difficult</td>\n",
       "    </tr>\n",
       "    <tr>\n",
       "      <th>1</th>\n",
       "      <td>2</td>\n",
       "      <td>I am a student who is learning to code</td>\n",
       "      <td>No</td>\n",
       "      <td>Less than once per year</td>\n",
       "      <td>The quality of OSS and closed source software ...</td>\n",
       "      <td>Not employed, but looking for work</td>\n",
       "      <td>Bosnia and Herzegovina</td>\n",
       "      <td>Yes, full-time</td>\n",
       "      <td>Secondary school (e.g. American high school, G...</td>\n",
       "      <td>NaN</td>\n",
       "      <td>...</td>\n",
       "      <td>Just as welcome now as I felt last year</td>\n",
       "      <td>Tech articles written by other developers;Indu...</td>\n",
       "      <td>19.0</td>\n",
       "      <td>Man</td>\n",
       "      <td>No</td>\n",
       "      <td>Straight / Heterosexual</td>\n",
       "      <td>NaN</td>\n",
       "      <td>No</td>\n",
       "      <td>Appropriate in length</td>\n",
       "      <td>Neither easy nor difficult</td>\n",
       "    </tr>\n",
       "    <tr>\n",
       "      <th>2</th>\n",
       "      <td>3</td>\n",
       "      <td>I am not primarily a developer, but I write co...</td>\n",
       "      <td>Yes</td>\n",
       "      <td>Never</td>\n",
       "      <td>The quality of OSS and closed source software ...</td>\n",
       "      <td>Employed full-time</td>\n",
       "      <td>Thailand</td>\n",
       "      <td>No</td>\n",
       "      <td>Bachelor’s degree (BA, BS, B.Eng., etc.)</td>\n",
       "      <td>Web development or web design</td>\n",
       "      <td>...</td>\n",
       "      <td>Just as welcome now as I felt last year</td>\n",
       "      <td>Tech meetups or events in your area;Courses on...</td>\n",
       "      <td>28.0</td>\n",
       "      <td>Man</td>\n",
       "      <td>No</td>\n",
       "      <td>Straight / Heterosexual</td>\n",
       "      <td>NaN</td>\n",
       "      <td>Yes</td>\n",
       "      <td>Appropriate in length</td>\n",
       "      <td>Neither easy nor difficult</td>\n",
       "    </tr>\n",
       "    <tr>\n",
       "      <th>3</th>\n",
       "      <td>4</td>\n",
       "      <td>I am a developer by profession</td>\n",
       "      <td>No</td>\n",
       "      <td>Never</td>\n",
       "      <td>The quality of OSS and closed source software ...</td>\n",
       "      <td>Employed full-time</td>\n",
       "      <td>United States</td>\n",
       "      <td>No</td>\n",
       "      <td>Bachelor’s degree (BA, BS, B.Eng., etc.)</td>\n",
       "      <td>Computer science, computer engineering, or sof...</td>\n",
       "      <td>...</td>\n",
       "      <td>Just as welcome now as I felt last year</td>\n",
       "      <td>Tech articles written by other developers;Indu...</td>\n",
       "      <td>22.0</td>\n",
       "      <td>Man</td>\n",
       "      <td>No</td>\n",
       "      <td>Straight / Heterosexual</td>\n",
       "      <td>White or of European descent</td>\n",
       "      <td>No</td>\n",
       "      <td>Appropriate in length</td>\n",
       "      <td>Easy</td>\n",
       "    </tr>\n",
       "    <tr>\n",
       "      <th>4</th>\n",
       "      <td>5</td>\n",
       "      <td>I am a developer by profession</td>\n",
       "      <td>Yes</td>\n",
       "      <td>Once a month or more often</td>\n",
       "      <td>OSS is, on average, of HIGHER quality than pro...</td>\n",
       "      <td>Employed full-time</td>\n",
       "      <td>Ukraine</td>\n",
       "      <td>No</td>\n",
       "      <td>Bachelor’s degree (BA, BS, B.Eng., etc.)</td>\n",
       "      <td>Computer science, computer engineering, or sof...</td>\n",
       "      <td>...</td>\n",
       "      <td>Just as welcome now as I felt last year</td>\n",
       "      <td>Tech meetups or events in your area;Courses on...</td>\n",
       "      <td>30.0</td>\n",
       "      <td>Man</td>\n",
       "      <td>No</td>\n",
       "      <td>Straight / Heterosexual</td>\n",
       "      <td>White or of European descent;Multiracial</td>\n",
       "      <td>No</td>\n",
       "      <td>Appropriate in length</td>\n",
       "      <td>Easy</td>\n",
       "    </tr>\n",
       "    <tr>\n",
       "      <th>...</th>\n",
       "      <td>...</td>\n",
       "      <td>...</td>\n",
       "      <td>...</td>\n",
       "      <td>...</td>\n",
       "      <td>...</td>\n",
       "      <td>...</td>\n",
       "      <td>...</td>\n",
       "      <td>...</td>\n",
       "      <td>...</td>\n",
       "      <td>...</td>\n",
       "      <td>...</td>\n",
       "      <td>...</td>\n",
       "      <td>...</td>\n",
       "      <td>...</td>\n",
       "      <td>...</td>\n",
       "      <td>...</td>\n",
       "      <td>...</td>\n",
       "      <td>...</td>\n",
       "      <td>...</td>\n",
       "      <td>...</td>\n",
       "      <td>...</td>\n",
       "    </tr>\n",
       "    <tr>\n",
       "      <th>88878</th>\n",
       "      <td>88377</td>\n",
       "      <td>NaN</td>\n",
       "      <td>Yes</td>\n",
       "      <td>Less than once a month but more than once per ...</td>\n",
       "      <td>The quality of OSS and closed source software ...</td>\n",
       "      <td>Not employed, and not looking for work</td>\n",
       "      <td>Canada</td>\n",
       "      <td>No</td>\n",
       "      <td>Primary/elementary school</td>\n",
       "      <td>NaN</td>\n",
       "      <td>...</td>\n",
       "      <td>NaN</td>\n",
       "      <td>Tech articles written by other developers;Tech...</td>\n",
       "      <td>NaN</td>\n",
       "      <td>Man</td>\n",
       "      <td>No</td>\n",
       "      <td>NaN</td>\n",
       "      <td>NaN</td>\n",
       "      <td>No</td>\n",
       "      <td>Appropriate in length</td>\n",
       "      <td>Easy</td>\n",
       "    </tr>\n",
       "    <tr>\n",
       "      <th>88879</th>\n",
       "      <td>88601</td>\n",
       "      <td>NaN</td>\n",
       "      <td>No</td>\n",
       "      <td>Never</td>\n",
       "      <td>The quality of OSS and closed source software ...</td>\n",
       "      <td>NaN</td>\n",
       "      <td>NaN</td>\n",
       "      <td>NaN</td>\n",
       "      <td>NaN</td>\n",
       "      <td>NaN</td>\n",
       "      <td>...</td>\n",
       "      <td>NaN</td>\n",
       "      <td>NaN</td>\n",
       "      <td>NaN</td>\n",
       "      <td>NaN</td>\n",
       "      <td>NaN</td>\n",
       "      <td>NaN</td>\n",
       "      <td>NaN</td>\n",
       "      <td>NaN</td>\n",
       "      <td>NaN</td>\n",
       "      <td>NaN</td>\n",
       "    </tr>\n",
       "    <tr>\n",
       "      <th>88880</th>\n",
       "      <td>88802</td>\n",
       "      <td>NaN</td>\n",
       "      <td>No</td>\n",
       "      <td>Never</td>\n",
       "      <td>NaN</td>\n",
       "      <td>Employed full-time</td>\n",
       "      <td>NaN</td>\n",
       "      <td>NaN</td>\n",
       "      <td>NaN</td>\n",
       "      <td>NaN</td>\n",
       "      <td>...</td>\n",
       "      <td>NaN</td>\n",
       "      <td>NaN</td>\n",
       "      <td>NaN</td>\n",
       "      <td>NaN</td>\n",
       "      <td>NaN</td>\n",
       "      <td>NaN</td>\n",
       "      <td>NaN</td>\n",
       "      <td>NaN</td>\n",
       "      <td>NaN</td>\n",
       "      <td>NaN</td>\n",
       "    </tr>\n",
       "    <tr>\n",
       "      <th>88881</th>\n",
       "      <td>88816</td>\n",
       "      <td>NaN</td>\n",
       "      <td>No</td>\n",
       "      <td>Never</td>\n",
       "      <td>OSS is, on average, of HIGHER quality than pro...</td>\n",
       "      <td>Independent contractor, freelancer, or self-em...</td>\n",
       "      <td>NaN</td>\n",
       "      <td>NaN</td>\n",
       "      <td>NaN</td>\n",
       "      <td>NaN</td>\n",
       "      <td>...</td>\n",
       "      <td>NaN</td>\n",
       "      <td>NaN</td>\n",
       "      <td>NaN</td>\n",
       "      <td>NaN</td>\n",
       "      <td>NaN</td>\n",
       "      <td>NaN</td>\n",
       "      <td>NaN</td>\n",
       "      <td>NaN</td>\n",
       "      <td>NaN</td>\n",
       "      <td>NaN</td>\n",
       "    </tr>\n",
       "    <tr>\n",
       "      <th>88882</th>\n",
       "      <td>88863</td>\n",
       "      <td>NaN</td>\n",
       "      <td>Yes</td>\n",
       "      <td>Less than once per year</td>\n",
       "      <td>OSS is, on average, of HIGHER quality than pro...</td>\n",
       "      <td>Not employed, and not looking for work</td>\n",
       "      <td>Spain</td>\n",
       "      <td>Yes, full-time</td>\n",
       "      <td>Professional degree (JD, MD, etc.)</td>\n",
       "      <td>Computer science, computer engineering, or sof...</td>\n",
       "      <td>...</td>\n",
       "      <td>Somewhat less welcome now than last year</td>\n",
       "      <td>Tech articles written by other developers;Indu...</td>\n",
       "      <td>18.0</td>\n",
       "      <td>Man</td>\n",
       "      <td>No</td>\n",
       "      <td>Straight / Heterosexual</td>\n",
       "      <td>Hispanic or Latino/Latina;White or of European...</td>\n",
       "      <td>No</td>\n",
       "      <td>Appropriate in length</td>\n",
       "      <td>Easy</td>\n",
       "    </tr>\n",
       "  </tbody>\n",
       "</table>\n",
       "<p>88883 rows × 85 columns</p>\n",
       "</div>"
      ],
      "text/plain": [
       "       Respondent                                         MainBranch Hobbyist  \\\n",
       "0               1             I am a student who is learning to code      Yes   \n",
       "1               2             I am a student who is learning to code       No   \n",
       "2               3  I am not primarily a developer, but I write co...      Yes   \n",
       "3               4                     I am a developer by profession       No   \n",
       "4               5                     I am a developer by profession      Yes   \n",
       "...           ...                                                ...      ...   \n",
       "88878       88377                                                NaN      Yes   \n",
       "88879       88601                                                NaN       No   \n",
       "88880       88802                                                NaN       No   \n",
       "88881       88816                                                NaN       No   \n",
       "88882       88863                                                NaN      Yes   \n",
       "\n",
       "                                             OpenSourcer  \\\n",
       "0                                                  Never   \n",
       "1                                Less than once per year   \n",
       "2                                                  Never   \n",
       "3                                                  Never   \n",
       "4                             Once a month or more often   \n",
       "...                                                  ...   \n",
       "88878  Less than once a month but more than once per ...   \n",
       "88879                                              Never   \n",
       "88880                                              Never   \n",
       "88881                                              Never   \n",
       "88882                            Less than once per year   \n",
       "\n",
       "                                              OpenSource  \\\n",
       "0      The quality of OSS and closed source software ...   \n",
       "1      The quality of OSS and closed source software ...   \n",
       "2      The quality of OSS and closed source software ...   \n",
       "3      The quality of OSS and closed source software ...   \n",
       "4      OSS is, on average, of HIGHER quality than pro...   \n",
       "...                                                  ...   \n",
       "88878  The quality of OSS and closed source software ...   \n",
       "88879  The quality of OSS and closed source software ...   \n",
       "88880                                                NaN   \n",
       "88881  OSS is, on average, of HIGHER quality than pro...   \n",
       "88882  OSS is, on average, of HIGHER quality than pro...   \n",
       "\n",
       "                                              Employment  \\\n",
       "0                 Not employed, and not looking for work   \n",
       "1                     Not employed, but looking for work   \n",
       "2                                     Employed full-time   \n",
       "3                                     Employed full-time   \n",
       "4                                     Employed full-time   \n",
       "...                                                  ...   \n",
       "88878             Not employed, and not looking for work   \n",
       "88879                                                NaN   \n",
       "88880                                 Employed full-time   \n",
       "88881  Independent contractor, freelancer, or self-em...   \n",
       "88882             Not employed, and not looking for work   \n",
       "\n",
       "                      Country         Student  \\\n",
       "0              United Kingdom              No   \n",
       "1      Bosnia and Herzegovina  Yes, full-time   \n",
       "2                    Thailand              No   \n",
       "3               United States              No   \n",
       "4                     Ukraine              No   \n",
       "...                       ...             ...   \n",
       "88878                  Canada              No   \n",
       "88879                     NaN             NaN   \n",
       "88880                     NaN             NaN   \n",
       "88881                     NaN             NaN   \n",
       "88882                   Spain  Yes, full-time   \n",
       "\n",
       "                                                 EdLevel  \\\n",
       "0                              Primary/elementary school   \n",
       "1      Secondary school (e.g. American high school, G...   \n",
       "2               Bachelor’s degree (BA, BS, B.Eng., etc.)   \n",
       "3               Bachelor’s degree (BA, BS, B.Eng., etc.)   \n",
       "4               Bachelor’s degree (BA, BS, B.Eng., etc.)   \n",
       "...                                                  ...   \n",
       "88878                          Primary/elementary school   \n",
       "88879                                                NaN   \n",
       "88880                                                NaN   \n",
       "88881                                                NaN   \n",
       "88882                 Professional degree (JD, MD, etc.)   \n",
       "\n",
       "                                          UndergradMajor  ...  \\\n",
       "0                                                    NaN  ...   \n",
       "1                                                    NaN  ...   \n",
       "2                          Web development or web design  ...   \n",
       "3      Computer science, computer engineering, or sof...  ...   \n",
       "4      Computer science, computer engineering, or sof...  ...   \n",
       "...                                                  ...  ...   \n",
       "88878                                                NaN  ...   \n",
       "88879                                                NaN  ...   \n",
       "88880                                                NaN  ...   \n",
       "88881                                                NaN  ...   \n",
       "88882  Computer science, computer engineering, or sof...  ...   \n",
       "\n",
       "                                  WelcomeChange  \\\n",
       "0       Just as welcome now as I felt last year   \n",
       "1       Just as welcome now as I felt last year   \n",
       "2       Just as welcome now as I felt last year   \n",
       "3       Just as welcome now as I felt last year   \n",
       "4       Just as welcome now as I felt last year   \n",
       "...                                         ...   \n",
       "88878                                       NaN   \n",
       "88879                                       NaN   \n",
       "88880                                       NaN   \n",
       "88881                                       NaN   \n",
       "88882  Somewhat less welcome now than last year   \n",
       "\n",
       "                                            SONewContent   Age Gender Trans  \\\n",
       "0      Tech articles written by other developers;Indu...  14.0    Man    No   \n",
       "1      Tech articles written by other developers;Indu...  19.0    Man    No   \n",
       "2      Tech meetups or events in your area;Courses on...  28.0    Man    No   \n",
       "3      Tech articles written by other developers;Indu...  22.0    Man    No   \n",
       "4      Tech meetups or events in your area;Courses on...  30.0    Man    No   \n",
       "...                                                  ...   ...    ...   ...   \n",
       "88878  Tech articles written by other developers;Tech...   NaN    Man    No   \n",
       "88879                                                NaN   NaN    NaN   NaN   \n",
       "88880                                                NaN   NaN    NaN   NaN   \n",
       "88881                                                NaN   NaN    NaN   NaN   \n",
       "88882  Tech articles written by other developers;Indu...  18.0    Man    No   \n",
       "\n",
       "                     Sexuality  \\\n",
       "0      Straight / Heterosexual   \n",
       "1      Straight / Heterosexual   \n",
       "2      Straight / Heterosexual   \n",
       "3      Straight / Heterosexual   \n",
       "4      Straight / Heterosexual   \n",
       "...                        ...   \n",
       "88878                      NaN   \n",
       "88879                      NaN   \n",
       "88880                      NaN   \n",
       "88881                      NaN   \n",
       "88882  Straight / Heterosexual   \n",
       "\n",
       "                                               Ethnicity Dependents  \\\n",
       "0                                                    NaN         No   \n",
       "1                                                    NaN         No   \n",
       "2                                                    NaN        Yes   \n",
       "3                           White or of European descent         No   \n",
       "4               White or of European descent;Multiracial         No   \n",
       "...                                                  ...        ...   \n",
       "88878                                                NaN         No   \n",
       "88879                                                NaN        NaN   \n",
       "88880                                                NaN        NaN   \n",
       "88881                                                NaN        NaN   \n",
       "88882  Hispanic or Latino/Latina;White or of European...         No   \n",
       "\n",
       "                SurveyLength                  SurveyEase  \n",
       "0      Appropriate in length  Neither easy nor difficult  \n",
       "1      Appropriate in length  Neither easy nor difficult  \n",
       "2      Appropriate in length  Neither easy nor difficult  \n",
       "3      Appropriate in length                        Easy  \n",
       "4      Appropriate in length                        Easy  \n",
       "...                      ...                         ...  \n",
       "88878  Appropriate in length                        Easy  \n",
       "88879                    NaN                         NaN  \n",
       "88880                    NaN                         NaN  \n",
       "88881                    NaN                         NaN  \n",
       "88882  Appropriate in length                        Easy  \n",
       "\n",
       "[88883 rows x 85 columns]"
      ]
     },
     "execution_count": 10,
     "metadata": {},
     "output_type": "execute_result"
    }
   ],
   "source": [
    "df"
   ]
  },
  {
   "cell_type": "code",
   "execution_count": 11,
   "id": "349ddab6-874b-4f37-becf-751002ad1809",
   "metadata": {},
   "outputs": [
    {
     "data": {
      "text/plain": [
       "Index(['Respondent', 'MainBranch', 'Hobbyist', 'OpenSourcer', 'OpenSource',\n",
       "       'Employment', 'Country', 'Student', 'EdLevel', 'UndergradMajor',\n",
       "       'EduOther', 'OrgSize', 'DevType', 'YearsCode', 'Age1stCode',\n",
       "       'YearsCodePro', 'CareerSat', 'JobSat', 'MgrIdiot', 'MgrMoney',\n",
       "       'MgrWant', 'JobSeek', 'LastHireDate', 'LastInt', 'FizzBuzz',\n",
       "       'JobFactors', 'ResumeUpdate', 'CurrencySymbol', 'CurrencyDesc',\n",
       "       'CompTotal', 'CompFreq', 'ConvertedComp', 'WorkWeekHrs', 'WorkPlan',\n",
       "       'WorkChallenge', 'WorkRemote', 'WorkLoc', 'ImpSyn', 'CodeRev',\n",
       "       'CodeRevHrs', 'UnitTests', 'PurchaseHow', 'PurchaseWhat',\n",
       "       'LanguageWorkedWith', 'LanguageDesireNextYear', 'DatabaseWorkedWith',\n",
       "       'DatabaseDesireNextYear', 'PlatformWorkedWith',\n",
       "       'PlatformDesireNextYear', 'WebFrameWorkedWith',\n",
       "       'WebFrameDesireNextYear', 'MiscTechWorkedWith',\n",
       "       'MiscTechDesireNextYear', 'DevEnviron', 'OpSys', 'Containers',\n",
       "       'BlockchainOrg', 'BlockchainIs', 'BetterLife', 'ITperson', 'OffOn',\n",
       "       'SocialMedia', 'Extraversion', 'ScreenName', 'SOVisit1st',\n",
       "       'SOVisitFreq', 'SOVisitTo', 'SOFindAnswer', 'SOTimeSaved',\n",
       "       'SOHowMuchTime', 'SOAccount', 'SOPartFreq', 'SOJobs', 'EntTeams',\n",
       "       'SOComm', 'WelcomeChange', 'SONewContent', 'Age', 'Gender', 'Trans',\n",
       "       'Sexuality', 'Ethnicity', 'Dependents', 'SurveyLength', 'SurveyEase'],\n",
       "      dtype='object')"
      ]
     },
     "execution_count": 11,
     "metadata": {},
     "output_type": "execute_result"
    }
   ],
   "source": [
    "df.columns"
   ]
  },
  {
   "cell_type": "code",
   "execution_count": 12,
   "id": "a05d008a-1ccc-4c46-b845-f73575137202",
   "metadata": {},
   "outputs": [
    {
     "data": {
      "text/plain": [
       "Respondent       int64\n",
       "MainBranch      object\n",
       "Hobbyist        object\n",
       "OpenSourcer     object\n",
       "OpenSource      object\n",
       "                 ...  \n",
       "Sexuality       object\n",
       "Ethnicity       object\n",
       "Dependents      object\n",
       "SurveyLength    object\n",
       "SurveyEase      object\n",
       "Length: 85, dtype: object"
      ]
     },
     "execution_count": 12,
     "metadata": {},
     "output_type": "execute_result"
    }
   ],
   "source": [
    "df.dtypes"
   ]
  },
  {
   "cell_type": "code",
   "execution_count": 13,
   "id": "1ef8bc85-78d1-4b5a-9715-bc71d53793f9",
   "metadata": {},
   "outputs": [
    {
     "data": {
      "text/plain": [
       "2"
      ]
     },
     "execution_count": 13,
     "metadata": {},
     "output_type": "execute_result"
    }
   ],
   "source": [
    "df.ndim"
   ]
  },
  {
   "cell_type": "code",
   "execution_count": 14,
   "id": "c30a27ec-4075-498e-8dae-386da233ff6f",
   "metadata": {},
   "outputs": [
    {
     "data": {
      "text/plain": [
       "(88883, 85)"
      ]
     },
     "execution_count": 14,
     "metadata": {},
     "output_type": "execute_result"
    }
   ],
   "source": [
    "df.shape"
   ]
  },
  {
   "cell_type": "code",
   "execution_count": 15,
   "id": "e40e8384-c6b0-4719-9067-a049497c2f35",
   "metadata": {},
   "outputs": [
    {
     "data": {
      "text/plain": [
       "7555055"
      ]
     },
     "execution_count": 15,
     "metadata": {},
     "output_type": "execute_result"
    }
   ],
   "source": [
    "df.size"
   ]
  },
  {
   "cell_type": "code",
   "execution_count": 16,
   "id": "5cf76a33-a1ae-463b-a758-f6827e180cc9",
   "metadata": {},
   "outputs": [
    {
     "data": {
      "text/plain": [
       "array([[1, 'I am a student who is learning to code', 'Yes', ..., 'No',\n",
       "        'Appropriate in length', 'Neither easy nor difficult'],\n",
       "       [2, 'I am a student who is learning to code', 'No', ..., 'No',\n",
       "        'Appropriate in length', 'Neither easy nor difficult'],\n",
       "       [3,\n",
       "        'I am not primarily a developer, but I write code sometimes as part of my work',\n",
       "        'Yes', ..., 'Yes', 'Appropriate in length',\n",
       "        'Neither easy nor difficult'],\n",
       "       ...,\n",
       "       [88802, nan, 'No', ..., nan, nan, nan],\n",
       "       [88816, nan, 'No', ..., nan, nan, nan],\n",
       "       [88863, nan, 'Yes', ..., 'No', 'Appropriate in length', 'Easy']],\n",
       "      dtype=object)"
      ]
     },
     "execution_count": 16,
     "metadata": {},
     "output_type": "execute_result"
    }
   ],
   "source": [
    "df.values"
   ]
  },
  {
   "cell_type": "code",
   "execution_count": 17,
   "id": "fe6b8cc2-f335-4ae3-bce6-9f684469dc64",
   "metadata": {},
   "outputs": [
    {
     "data": {
      "text/plain": [
       "Respondent                                                      1\n",
       "MainBranch                 I am a student who is learning to code\n",
       "Hobbyist                                                      Yes\n",
       "OpenSourcer                                                 Never\n",
       "OpenSource      The quality of OSS and closed source software ...\n",
       "                                      ...                        \n",
       "Sexuality                                 Straight / Heterosexual\n",
       "Ethnicity                                                     NaN\n",
       "Dependents                                                     No\n",
       "SurveyLength                                Appropriate in length\n",
       "SurveyEase                             Neither easy nor difficult\n",
       "Name: 0, Length: 85, dtype: object"
      ]
     },
     "execution_count": 17,
     "metadata": {},
     "output_type": "execute_result"
    }
   ],
   "source": [
    "df.iloc[0]"
   ]
  },
  {
   "cell_type": "code",
   "execution_count": 18,
   "id": "98609256-abcc-4e6f-bbd8-e1f2b83e8b2e",
   "metadata": {},
   "outputs": [],
   "source": [
    "mydict = [{'a': 1, 'b': 2, 'c': 3, 'd': 4},\n",
    "          {'a': 100, 'b': 200, 'c': 300, 'd': 400},\n",
    "          {'a': 1000, 'b': 2000, 'c': 3000, 'd': 4000 }]"
   ]
  },
  {
   "cell_type": "code",
   "execution_count": 20,
   "id": "b5e1d782-7da6-437c-b4b0-6181727f55c0",
   "metadata": {},
   "outputs": [],
   "source": [
    "df_ji = pd.DataFrame(mydict)"
   ]
  },
  {
   "cell_type": "code",
   "execution_count": 21,
   "id": "adde3cf6-efca-40c6-ab95-6c5e71637b9c",
   "metadata": {},
   "outputs": [
    {
     "data": {
      "text/html": [
       "<div>\n",
       "<style scoped>\n",
       "    .dataframe tbody tr th:only-of-type {\n",
       "        vertical-align: middle;\n",
       "    }\n",
       "\n",
       "    .dataframe tbody tr th {\n",
       "        vertical-align: top;\n",
       "    }\n",
       "\n",
       "    .dataframe thead th {\n",
       "        text-align: right;\n",
       "    }\n",
       "</style>\n",
       "<table border=\"1\" class=\"dataframe\">\n",
       "  <thead>\n",
       "    <tr style=\"text-align: right;\">\n",
       "      <th></th>\n",
       "      <th>a</th>\n",
       "      <th>b</th>\n",
       "      <th>c</th>\n",
       "      <th>d</th>\n",
       "    </tr>\n",
       "  </thead>\n",
       "  <tbody>\n",
       "    <tr>\n",
       "      <th>0</th>\n",
       "      <td>1</td>\n",
       "      <td>2</td>\n",
       "      <td>3</td>\n",
       "      <td>4</td>\n",
       "    </tr>\n",
       "    <tr>\n",
       "      <th>1</th>\n",
       "      <td>100</td>\n",
       "      <td>200</td>\n",
       "      <td>300</td>\n",
       "      <td>400</td>\n",
       "    </tr>\n",
       "    <tr>\n",
       "      <th>2</th>\n",
       "      <td>1000</td>\n",
       "      <td>2000</td>\n",
       "      <td>3000</td>\n",
       "      <td>4000</td>\n",
       "    </tr>\n",
       "  </tbody>\n",
       "</table>\n",
       "</div>"
      ],
      "text/plain": [
       "      a     b     c     d\n",
       "0     1     2     3     4\n",
       "1   100   200   300   400\n",
       "2  1000  2000  3000  4000"
      ]
     },
     "execution_count": 21,
     "metadata": {},
     "output_type": "execute_result"
    }
   ],
   "source": [
    "df_ji"
   ]
  },
  {
   "cell_type": "code",
   "execution_count": 23,
   "id": "fd2f5847-e203-4bbf-b906-01781de9df2e",
   "metadata": {},
   "outputs": [
    {
     "data": {
      "text/html": [
       "<div>\n",
       "<style scoped>\n",
       "    .dataframe tbody tr th:only-of-type {\n",
       "        vertical-align: middle;\n",
       "    }\n",
       "\n",
       "    .dataframe tbody tr th {\n",
       "        vertical-align: top;\n",
       "    }\n",
       "\n",
       "    .dataframe thead th {\n",
       "        text-align: right;\n",
       "    }\n",
       "</style>\n",
       "<table border=\"1\" class=\"dataframe\">\n",
       "  <thead>\n",
       "    <tr style=\"text-align: right;\">\n",
       "      <th></th>\n",
       "      <th>a</th>\n",
       "      <th>b</th>\n",
       "      <th>c</th>\n",
       "      <th>d</th>\n",
       "    </tr>\n",
       "  </thead>\n",
       "  <tbody>\n",
       "    <tr>\n",
       "      <th>0</th>\n",
       "      <td>1</td>\n",
       "      <td>2</td>\n",
       "      <td>3</td>\n",
       "      <td>4</td>\n",
       "    </tr>\n",
       "    <tr>\n",
       "      <th>2</th>\n",
       "      <td>1000</td>\n",
       "      <td>2000</td>\n",
       "      <td>3000</td>\n",
       "      <td>4000</td>\n",
       "    </tr>\n",
       "  </tbody>\n",
       "</table>\n",
       "</div>"
      ],
      "text/plain": [
       "      a     b     c     d\n",
       "0     1     2     3     4\n",
       "2  1000  2000  3000  4000"
      ]
     },
     "execution_count": 23,
     "metadata": {},
     "output_type": "execute_result"
    }
   ],
   "source": [
    "df_ji.loc[[0,2]]"
   ]
  },
  {
   "cell_type": "code",
   "execution_count": 28,
   "id": "85c2a9bf-f56d-4591-95ef-08c1df56cfcb",
   "metadata": {},
   "outputs": [
    {
     "data": {
      "text/html": [
       "<div>\n",
       "<style scoped>\n",
       "    .dataframe tbody tr th:only-of-type {\n",
       "        vertical-align: middle;\n",
       "    }\n",
       "\n",
       "    .dataframe tbody tr th {\n",
       "        vertical-align: top;\n",
       "    }\n",
       "\n",
       "    .dataframe thead th {\n",
       "        text-align: right;\n",
       "    }\n",
       "</style>\n",
       "<table border=\"1\" class=\"dataframe\">\n",
       "  <thead>\n",
       "    <tr style=\"text-align: right;\">\n",
       "      <th></th>\n",
       "      <th>a</th>\n",
       "      <th>b</th>\n",
       "    </tr>\n",
       "  </thead>\n",
       "  <tbody>\n",
       "    <tr>\n",
       "      <th>0</th>\n",
       "      <td>1</td>\n",
       "      <td>2</td>\n",
       "    </tr>\n",
       "    <tr>\n",
       "      <th>1</th>\n",
       "      <td>100</td>\n",
       "      <td>200</td>\n",
       "    </tr>\n",
       "    <tr>\n",
       "      <th>2</th>\n",
       "      <td>1000</td>\n",
       "      <td>2000</td>\n",
       "    </tr>\n",
       "  </tbody>\n",
       "</table>\n",
       "</div>"
      ],
      "text/plain": [
       "      a     b\n",
       "0     1     2\n",
       "1   100   200\n",
       "2  1000  2000"
      ]
     },
     "execution_count": 28,
     "metadata": {},
     "output_type": "execute_result"
    }
   ],
   "source": [
    "df_ji.iloc[[0,1,2], [0,1]]"
   ]
  },
  {
   "cell_type": "code",
   "execution_count": 29,
   "id": "630a92ea-d339-42c0-b6a4-58da74b75e80",
   "metadata": {},
   "outputs": [],
   "source": [
    "t = {'First': ['Guruji', 'Ghanshyam', 'Smit'],\n",
    "         'Last': ['Anadi-mukt', 'Sarvopari', 'Dasanudas'],\n",
    "         'Email': ['guruji@akshardham.com', 'Ghanshyam@akshardham.com', 'smit3569@gmail.com']}"
   ]
  },
  {
   "cell_type": "code",
   "execution_count": 32,
   "id": "0e32f75d-b237-402d-9548-12f29826b0ce",
   "metadata": {},
   "outputs": [],
   "source": [
    "df_ji = pd.DataFrame({'First': ['Guruji', 'Ghanshyam', 'Smit'],\n",
    "         'Last': ['Anadi-mukt', 'Sarvopari', 'Dasanudas'],\n",
    "         'Email': ['guruji@akshardham.com', 'Ghanshyam@akshardham.com', 'smit3569@gmail.com']})"
   ]
  },
  {
   "cell_type": "code",
   "execution_count": 33,
   "id": "2ffe9d17-72d9-4ed2-86be-4cb67eb88250",
   "metadata": {},
   "outputs": [
    {
     "data": {
      "text/html": [
       "<div>\n",
       "<style scoped>\n",
       "    .dataframe tbody tr th:only-of-type {\n",
       "        vertical-align: middle;\n",
       "    }\n",
       "\n",
       "    .dataframe tbody tr th {\n",
       "        vertical-align: top;\n",
       "    }\n",
       "\n",
       "    .dataframe thead th {\n",
       "        text-align: right;\n",
       "    }\n",
       "</style>\n",
       "<table border=\"1\" class=\"dataframe\">\n",
       "  <thead>\n",
       "    <tr style=\"text-align: right;\">\n",
       "      <th></th>\n",
       "      <th>First</th>\n",
       "      <th>Last</th>\n",
       "      <th>Email</th>\n",
       "    </tr>\n",
       "  </thead>\n",
       "  <tbody>\n",
       "    <tr>\n",
       "      <th>0</th>\n",
       "      <td>Guruji</td>\n",
       "      <td>Anadi-mukt</td>\n",
       "      <td>guruji@akshardham.com</td>\n",
       "    </tr>\n",
       "    <tr>\n",
       "      <th>1</th>\n",
       "      <td>Ghanshyam</td>\n",
       "      <td>Sarvopari</td>\n",
       "      <td>Ghanshyam@akshardham.com</td>\n",
       "    </tr>\n",
       "    <tr>\n",
       "      <th>2</th>\n",
       "      <td>Smit</td>\n",
       "      <td>Dasanudas</td>\n",
       "      <td>smit3569@gmail.com</td>\n",
       "    </tr>\n",
       "  </tbody>\n",
       "</table>\n",
       "</div>"
      ],
      "text/plain": [
       "       First        Last                     Email\n",
       "0     Guruji  Anadi-mukt     guruji@akshardham.com\n",
       "1  Ghanshyam   Sarvopari  Ghanshyam@akshardham.com\n",
       "2       Smit   Dasanudas        smit3569@gmail.com"
      ]
     },
     "execution_count": 33,
     "metadata": {},
     "output_type": "execute_result"
    }
   ],
   "source": [
    "df_ji"
   ]
  },
  {
   "cell_type": "code",
   "execution_count": 34,
   "id": "66b9f2a8-47c9-462a-b466-b986f1334358",
   "metadata": {},
   "outputs": [
    {
     "data": {
      "text/html": [
       "<div>\n",
       "<style scoped>\n",
       "    .dataframe tbody tr th:only-of-type {\n",
       "        vertical-align: middle;\n",
       "    }\n",
       "\n",
       "    .dataframe tbody tr th {\n",
       "        vertical-align: top;\n",
       "    }\n",
       "\n",
       "    .dataframe thead th {\n",
       "        text-align: right;\n",
       "    }\n",
       "</style>\n",
       "<table border=\"1\" class=\"dataframe\">\n",
       "  <thead>\n",
       "    <tr style=\"text-align: right;\">\n",
       "      <th></th>\n",
       "      <th>First</th>\n",
       "      <th>Last</th>\n",
       "    </tr>\n",
       "    <tr>\n",
       "      <th>Email</th>\n",
       "      <th></th>\n",
       "      <th></th>\n",
       "    </tr>\n",
       "  </thead>\n",
       "  <tbody>\n",
       "    <tr>\n",
       "      <th>guruji@akshardham.com</th>\n",
       "      <td>Guruji</td>\n",
       "      <td>Anadi-mukt</td>\n",
       "    </tr>\n",
       "    <tr>\n",
       "      <th>Ghanshyam@akshardham.com</th>\n",
       "      <td>Ghanshyam</td>\n",
       "      <td>Sarvopari</td>\n",
       "    </tr>\n",
       "    <tr>\n",
       "      <th>smit3569@gmail.com</th>\n",
       "      <td>Smit</td>\n",
       "      <td>Dasanudas</td>\n",
       "    </tr>\n",
       "  </tbody>\n",
       "</table>\n",
       "</div>"
      ],
      "text/plain": [
       "                              First        Last\n",
       "Email                                          \n",
       "guruji@akshardham.com        Guruji  Anadi-mukt\n",
       "Ghanshyam@akshardham.com  Ghanshyam   Sarvopari\n",
       "smit3569@gmail.com             Smit   Dasanudas"
      ]
     },
     "execution_count": 34,
     "metadata": {},
     "output_type": "execute_result"
    }
   ],
   "source": [
    "df_ji.set_index('Email')"
   ]
  },
  {
   "cell_type": "code",
   "execution_count": 36,
   "id": "c1c9c2b9-aef8-4a7b-b07f-871fc85373e7",
   "metadata": {},
   "outputs": [
    {
     "data": {
      "text/html": [
       "<div>\n",
       "<style scoped>\n",
       "    .dataframe tbody tr th:only-of-type {\n",
       "        vertical-align: middle;\n",
       "    }\n",
       "\n",
       "    .dataframe tbody tr th {\n",
       "        vertical-align: top;\n",
       "    }\n",
       "\n",
       "    .dataframe thead th {\n",
       "        text-align: right;\n",
       "    }\n",
       "</style>\n",
       "<table border=\"1\" class=\"dataframe\">\n",
       "  <thead>\n",
       "    <tr style=\"text-align: right;\">\n",
       "      <th></th>\n",
       "      <th>First</th>\n",
       "      <th>Last</th>\n",
       "    </tr>\n",
       "    <tr>\n",
       "      <th>Email</th>\n",
       "      <th></th>\n",
       "      <th></th>\n",
       "    </tr>\n",
       "  </thead>\n",
       "  <tbody>\n",
       "    <tr>\n",
       "      <th>guruji@akshardham.com</th>\n",
       "      <td>Guruji</td>\n",
       "      <td>Anadi-mukt</td>\n",
       "    </tr>\n",
       "    <tr>\n",
       "      <th>Ghanshyam@akshardham.com</th>\n",
       "      <td>Ghanshyam</td>\n",
       "      <td>Sarvopari</td>\n",
       "    </tr>\n",
       "    <tr>\n",
       "      <th>smit3569@gmail.com</th>\n",
       "      <td>Smit</td>\n",
       "      <td>Dasanudas</td>\n",
       "    </tr>\n",
       "  </tbody>\n",
       "</table>\n",
       "</div>"
      ],
      "text/plain": [
       "                              First        Last\n",
       "Email                                          \n",
       "guruji@akshardham.com        Guruji  Anadi-mukt\n",
       "Ghanshyam@akshardham.com  Ghanshyam   Sarvopari\n",
       "smit3569@gmail.com             Smit   Dasanudas"
      ]
     },
     "execution_count": 36,
     "metadata": {},
     "output_type": "execute_result"
    }
   ],
   "source": [
    "df_ji.set_index('Email')"
   ]
  },
  {
   "cell_type": "code",
   "execution_count": 37,
   "id": "3436cbeb-3515-49e5-9965-0dae84d22506",
   "metadata": {},
   "outputs": [
    {
     "data": {
      "text/html": [
       "<div>\n",
       "<style scoped>\n",
       "    .dataframe tbody tr th:only-of-type {\n",
       "        vertical-align: middle;\n",
       "    }\n",
       "\n",
       "    .dataframe tbody tr th {\n",
       "        vertical-align: top;\n",
       "    }\n",
       "\n",
       "    .dataframe thead th {\n",
       "        text-align: right;\n",
       "    }\n",
       "</style>\n",
       "<table border=\"1\" class=\"dataframe\">\n",
       "  <thead>\n",
       "    <tr style=\"text-align: right;\">\n",
       "      <th></th>\n",
       "      <th>First</th>\n",
       "      <th>Last</th>\n",
       "      <th>Email</th>\n",
       "    </tr>\n",
       "  </thead>\n",
       "  <tbody>\n",
       "    <tr>\n",
       "      <th>0</th>\n",
       "      <td>Guruji</td>\n",
       "      <td>Anadi-mukt</td>\n",
       "      <td>guruji@akshardham.com</td>\n",
       "    </tr>\n",
       "    <tr>\n",
       "      <th>1</th>\n",
       "      <td>Ghanshyam</td>\n",
       "      <td>Sarvopari</td>\n",
       "      <td>Ghanshyam@akshardham.com</td>\n",
       "    </tr>\n",
       "    <tr>\n",
       "      <th>2</th>\n",
       "      <td>Smit</td>\n",
       "      <td>Dasanudas</td>\n",
       "      <td>smit3569@gmail.com</td>\n",
       "    </tr>\n",
       "  </tbody>\n",
       "</table>\n",
       "</div>"
      ],
      "text/plain": [
       "       First        Last                     Email\n",
       "0     Guruji  Anadi-mukt     guruji@akshardham.com\n",
       "1  Ghanshyam   Sarvopari  Ghanshyam@akshardham.com\n",
       "2       Smit   Dasanudas        smit3569@gmail.com"
      ]
     },
     "execution_count": 37,
     "metadata": {},
     "output_type": "execute_result"
    }
   ],
   "source": [
    "df_ji"
   ]
  },
  {
   "cell_type": "code",
   "execution_count": 39,
   "id": "7e7fbafa-6504-4669-91c6-582eef58e10b",
   "metadata": {},
   "outputs": [],
   "source": [
    "df_ji.set_index('Email', inplace = True)"
   ]
  },
  {
   "cell_type": "code",
   "execution_count": 40,
   "id": "f88c99b5-1dec-4189-9fea-82a2b2154447",
   "metadata": {},
   "outputs": [
    {
     "data": {
      "text/html": [
       "<div>\n",
       "<style scoped>\n",
       "    .dataframe tbody tr th:only-of-type {\n",
       "        vertical-align: middle;\n",
       "    }\n",
       "\n",
       "    .dataframe tbody tr th {\n",
       "        vertical-align: top;\n",
       "    }\n",
       "\n",
       "    .dataframe thead th {\n",
       "        text-align: right;\n",
       "    }\n",
       "</style>\n",
       "<table border=\"1\" class=\"dataframe\">\n",
       "  <thead>\n",
       "    <tr style=\"text-align: right;\">\n",
       "      <th></th>\n",
       "      <th>First</th>\n",
       "      <th>Last</th>\n",
       "    </tr>\n",
       "    <tr>\n",
       "      <th>Email</th>\n",
       "      <th></th>\n",
       "      <th></th>\n",
       "    </tr>\n",
       "  </thead>\n",
       "  <tbody>\n",
       "    <tr>\n",
       "      <th>guruji@akshardham.com</th>\n",
       "      <td>Guruji</td>\n",
       "      <td>Anadi-mukt</td>\n",
       "    </tr>\n",
       "    <tr>\n",
       "      <th>Ghanshyam@akshardham.com</th>\n",
       "      <td>Ghanshyam</td>\n",
       "      <td>Sarvopari</td>\n",
       "    </tr>\n",
       "    <tr>\n",
       "      <th>smit3569@gmail.com</th>\n",
       "      <td>Smit</td>\n",
       "      <td>Dasanudas</td>\n",
       "    </tr>\n",
       "  </tbody>\n",
       "</table>\n",
       "</div>"
      ],
      "text/plain": [
       "                              First        Last\n",
       "Email                                          \n",
       "guruji@akshardham.com        Guruji  Anadi-mukt\n",
       "Ghanshyam@akshardham.com  Ghanshyam   Sarvopari\n",
       "smit3569@gmail.com             Smit   Dasanudas"
      ]
     },
     "execution_count": 40,
     "metadata": {},
     "output_type": "execute_result"
    }
   ],
   "source": [
    "df_ji"
   ]
  },
  {
   "cell_type": "code",
   "execution_count": 41,
   "id": "a4ebb42e-a287-42d6-9fcf-2d9459dc0db8",
   "metadata": {},
   "outputs": [
    {
     "data": {
      "text/html": [
       "<div>\n",
       "<style scoped>\n",
       "    .dataframe tbody tr th:only-of-type {\n",
       "        vertical-align: middle;\n",
       "    }\n",
       "\n",
       "    .dataframe tbody tr th {\n",
       "        vertical-align: top;\n",
       "    }\n",
       "\n",
       "    .dataframe thead th {\n",
       "        text-align: right;\n",
       "    }\n",
       "</style>\n",
       "<table border=\"1\" class=\"dataframe\">\n",
       "  <thead>\n",
       "    <tr style=\"text-align: right;\">\n",
       "      <th></th>\n",
       "      <th>First</th>\n",
       "      <th>Last</th>\n",
       "    </tr>\n",
       "    <tr>\n",
       "      <th>Email</th>\n",
       "      <th></th>\n",
       "      <th></th>\n",
       "    </tr>\n",
       "  </thead>\n",
       "  <tbody>\n",
       "    <tr>\n",
       "      <th>guruji@akshardham.com</th>\n",
       "      <td>Guruji</td>\n",
       "      <td>Anadi-mukt</td>\n",
       "    </tr>\n",
       "    <tr>\n",
       "      <th>Ghanshyam@akshardham.com</th>\n",
       "      <td>Ghanshyam</td>\n",
       "      <td>Sarvopari</td>\n",
       "    </tr>\n",
       "    <tr>\n",
       "      <th>smit3569@gmail.com</th>\n",
       "      <td>Smit</td>\n",
       "      <td>Dasanudas</td>\n",
       "    </tr>\n",
       "  </tbody>\n",
       "</table>\n",
       "</div>"
      ],
      "text/plain": [
       "                              First        Last\n",
       "Email                                          \n",
       "guruji@akshardham.com        Guruji  Anadi-mukt\n",
       "Ghanshyam@akshardham.com  Ghanshyam   Sarvopari\n",
       "smit3569@gmail.com             Smit   Dasanudas"
      ]
     },
     "execution_count": 41,
     "metadata": {},
     "output_type": "execute_result"
    }
   ],
   "source": [
    "df_ji"
   ]
  },
  {
   "cell_type": "code",
   "execution_count": 46,
   "id": "3581b33f-ef4f-467a-a5ae-d90c568ce7d3",
   "metadata": {},
   "outputs": [
    {
     "data": {
      "text/html": [
       "<div>\n",
       "<style scoped>\n",
       "    .dataframe tbody tr th:only-of-type {\n",
       "        vertical-align: middle;\n",
       "    }\n",
       "\n",
       "    .dataframe tbody tr th {\n",
       "        vertical-align: top;\n",
       "    }\n",
       "\n",
       "    .dataframe thead th {\n",
       "        text-align: right;\n",
       "    }\n",
       "</style>\n",
       "<table border=\"1\" class=\"dataframe\">\n",
       "  <thead>\n",
       "    <tr style=\"text-align: right;\">\n",
       "      <th></th>\n",
       "      <th>index</th>\n",
       "      <th>Email</th>\n",
       "      <th>First</th>\n",
       "      <th>Last</th>\n",
       "    </tr>\n",
       "  </thead>\n",
       "  <tbody>\n",
       "    <tr>\n",
       "      <th>0</th>\n",
       "      <td>0</td>\n",
       "      <td>guruji@akshardham.com</td>\n",
       "      <td>Guruji</td>\n",
       "      <td>Anadi-mukt</td>\n",
       "    </tr>\n",
       "    <tr>\n",
       "      <th>1</th>\n",
       "      <td>1</td>\n",
       "      <td>Ghanshyam@akshardham.com</td>\n",
       "      <td>Ghanshyam</td>\n",
       "      <td>Sarvopari</td>\n",
       "    </tr>\n",
       "    <tr>\n",
       "      <th>2</th>\n",
       "      <td>2</td>\n",
       "      <td>smit3569@gmail.com</td>\n",
       "      <td>Smit</td>\n",
       "      <td>Dasanudas</td>\n",
       "    </tr>\n",
       "  </tbody>\n",
       "</table>\n",
       "</div>"
      ],
      "text/plain": [
       "   index                     Email      First        Last\n",
       "0      0     guruji@akshardham.com     Guruji  Anadi-mukt\n",
       "1      1  Ghanshyam@akshardham.com  Ghanshyam   Sarvopari\n",
       "2      2        smit3569@gmail.com       Smit   Dasanudas"
      ]
     },
     "execution_count": 46,
     "metadata": {},
     "output_type": "execute_result"
    }
   ],
   "source": [
    "df_ji.reset_index()"
   ]
  },
  {
   "cell_type": "code",
   "execution_count": 48,
   "id": "3d1ed90d-73fc-4a89-bb0d-87bb13c0d8e2",
   "metadata": {},
   "outputs": [
    {
     "data": {
      "text/html": [
       "<div>\n",
       "<style scoped>\n",
       "    .dataframe tbody tr th:only-of-type {\n",
       "        vertical-align: middle;\n",
       "    }\n",
       "\n",
       "    .dataframe tbody tr th {\n",
       "        vertical-align: top;\n",
       "    }\n",
       "\n",
       "    .dataframe thead th {\n",
       "        text-align: right;\n",
       "    }\n",
       "</style>\n",
       "<table border=\"1\" class=\"dataframe\">\n",
       "  <thead>\n",
       "    <tr style=\"text-align: right;\">\n",
       "      <th></th>\n",
       "      <th>Email</th>\n",
       "      <th>First</th>\n",
       "      <th>Last</th>\n",
       "    </tr>\n",
       "  </thead>\n",
       "  <tbody>\n",
       "    <tr>\n",
       "      <th>0</th>\n",
       "      <td>guruji@akshardham.com</td>\n",
       "      <td>Guruji</td>\n",
       "      <td>Anadi-mukt</td>\n",
       "    </tr>\n",
       "    <tr>\n",
       "      <th>1</th>\n",
       "      <td>Ghanshyam@akshardham.com</td>\n",
       "      <td>Ghanshyam</td>\n",
       "      <td>Sarvopari</td>\n",
       "    </tr>\n",
       "  </tbody>\n",
       "</table>\n",
       "</div>"
      ],
      "text/plain": [
       "                      Email      First        Last\n",
       "0     guruji@akshardham.com     Guruji  Anadi-mukt\n",
       "1  Ghanshyam@akshardham.com  Ghanshyam   Sarvopari"
      ]
     },
     "execution_count": 48,
     "metadata": {},
     "output_type": "execute_result"
    }
   ],
   "source": [
    "df_ji.iloc[[0,1]]"
   ]
  },
  {
   "cell_type": "code",
   "execution_count": 51,
   "id": "94701999-0e75-4d5c-b035-942a8a55dc2d",
   "metadata": {},
   "outputs": [
    {
     "data": {
      "text/html": [
       "<div>\n",
       "<style scoped>\n",
       "    .dataframe tbody tr th:only-of-type {\n",
       "        vertical-align: middle;\n",
       "    }\n",
       "\n",
       "    .dataframe tbody tr th {\n",
       "        vertical-align: top;\n",
       "    }\n",
       "\n",
       "    .dataframe thead th {\n",
       "        text-align: right;\n",
       "    }\n",
       "</style>\n",
       "<table border=\"1\" class=\"dataframe\">\n",
       "  <thead>\n",
       "    <tr style=\"text-align: right;\">\n",
       "      <th></th>\n",
       "      <th>Email</th>\n",
       "      <th>First</th>\n",
       "      <th>Last</th>\n",
       "    </tr>\n",
       "  </thead>\n",
       "  <tbody>\n",
       "    <tr>\n",
       "      <th>0</th>\n",
       "      <td>guruji@akshardham.com</td>\n",
       "      <td>Guruji</td>\n",
       "      <td>Anadi-mukt</td>\n",
       "    </tr>\n",
       "    <tr>\n",
       "      <th>1</th>\n",
       "      <td>Ghanshyam@akshardham.com</td>\n",
       "      <td>Ghanshyam</td>\n",
       "      <td>Sarvopari</td>\n",
       "    </tr>\n",
       "    <tr>\n",
       "      <th>2</th>\n",
       "      <td>smit3569@gmail.com</td>\n",
       "      <td>Smit</td>\n",
       "      <td>Dasanudas</td>\n",
       "    </tr>\n",
       "  </tbody>\n",
       "</table>\n",
       "</div>"
      ],
      "text/plain": [
       "                      Email      First        Last\n",
       "0     guruji@akshardham.com     Guruji  Anadi-mukt\n",
       "1  Ghanshyam@akshardham.com  Ghanshyam   Sarvopari\n",
       "2        smit3569@gmail.com       Smit   Dasanudas"
      ]
     },
     "execution_count": 51,
     "metadata": {},
     "output_type": "execute_result"
    }
   ],
   "source": [
    "df_ji"
   ]
  },
  {
   "cell_type": "code",
   "execution_count": 55,
   "id": "c56ebb48-d488-4064-91bc-91d0d67300d5",
   "metadata": {},
   "outputs": [
    {
     "data": {
      "text/html": [
       "<div>\n",
       "<style scoped>\n",
       "    .dataframe tbody tr th:only-of-type {\n",
       "        vertical-align: middle;\n",
       "    }\n",
       "\n",
       "    .dataframe tbody tr th {\n",
       "        vertical-align: top;\n",
       "    }\n",
       "\n",
       "    .dataframe thead th {\n",
       "        text-align: right;\n",
       "    }\n",
       "</style>\n",
       "<table border=\"1\" class=\"dataframe\">\n",
       "  <thead>\n",
       "    <tr style=\"text-align: right;\">\n",
       "      <th></th>\n",
       "      <th>First</th>\n",
       "      <th>Last</th>\n",
       "    </tr>\n",
       "    <tr>\n",
       "      <th>Email</th>\n",
       "      <th></th>\n",
       "      <th></th>\n",
       "    </tr>\n",
       "  </thead>\n",
       "  <tbody>\n",
       "    <tr>\n",
       "      <th>guruji@akshardham.com</th>\n",
       "      <td>Guruji</td>\n",
       "      <td>Anadi-mukt</td>\n",
       "    </tr>\n",
       "    <tr>\n",
       "      <th>Ghanshyam@akshardham.com</th>\n",
       "      <td>Ghanshyam</td>\n",
       "      <td>Sarvopari</td>\n",
       "    </tr>\n",
       "    <tr>\n",
       "      <th>smit3569@gmail.com</th>\n",
       "      <td>Smit</td>\n",
       "      <td>Dasanudas</td>\n",
       "    </tr>\n",
       "  </tbody>\n",
       "</table>\n",
       "</div>"
      ],
      "text/plain": [
       "                              First        Last\n",
       "Email                                          \n",
       "guruji@akshardham.com        Guruji  Anadi-mukt\n",
       "Ghanshyam@akshardham.com  Ghanshyam   Sarvopari\n",
       "smit3569@gmail.com             Smit   Dasanudas"
      ]
     },
     "execution_count": 55,
     "metadata": {},
     "output_type": "execute_result"
    }
   ],
   "source": [
    "df_ji"
   ]
  },
  {
   "cell_type": "code",
   "execution_count": 56,
   "id": "a16322c5-5fba-4c0b-9c01-c167d21db2d7",
   "metadata": {},
   "outputs": [
    {
     "data": {
      "text/html": [
       "<div>\n",
       "<style scoped>\n",
       "    .dataframe tbody tr th:only-of-type {\n",
       "        vertical-align: middle;\n",
       "    }\n",
       "\n",
       "    .dataframe tbody tr th {\n",
       "        vertical-align: top;\n",
       "    }\n",
       "\n",
       "    .dataframe thead th {\n",
       "        text-align: right;\n",
       "    }\n",
       "</style>\n",
       "<table border=\"1\" class=\"dataframe\">\n",
       "  <thead>\n",
       "    <tr style=\"text-align: right;\">\n",
       "      <th></th>\n",
       "      <th>Email</th>\n",
       "      <th>First</th>\n",
       "      <th>Last</th>\n",
       "    </tr>\n",
       "  </thead>\n",
       "  <tbody>\n",
       "    <tr>\n",
       "      <th>0</th>\n",
       "      <td>guruji@akshardham.com</td>\n",
       "      <td>Guruji</td>\n",
       "      <td>Anadi-mukt</td>\n",
       "    </tr>\n",
       "    <tr>\n",
       "      <th>1</th>\n",
       "      <td>Ghanshyam@akshardham.com</td>\n",
       "      <td>Ghanshyam</td>\n",
       "      <td>Sarvopari</td>\n",
       "    </tr>\n",
       "    <tr>\n",
       "      <th>2</th>\n",
       "      <td>smit3569@gmail.com</td>\n",
       "      <td>Smit</td>\n",
       "      <td>Dasanudas</td>\n",
       "    </tr>\n",
       "  </tbody>\n",
       "</table>\n",
       "</div>"
      ],
      "text/plain": [
       "                      Email      First        Last\n",
       "0     guruji@akshardham.com     Guruji  Anadi-mukt\n",
       "1  Ghanshyam@akshardham.com  Ghanshyam   Sarvopari\n",
       "2        smit3569@gmail.com       Smit   Dasanudas"
      ]
     },
     "execution_count": 56,
     "metadata": {},
     "output_type": "execute_result"
    }
   ],
   "source": [
    "df_ji.reset_index()"
   ]
  },
  {
   "cell_type": "code",
   "execution_count": 57,
   "id": "53052578-e279-4db5-b7e0-76e8009b0b0f",
   "metadata": {},
   "outputs": [
    {
     "data": {
      "text/html": [
       "<div>\n",
       "<style scoped>\n",
       "    .dataframe tbody tr th:only-of-type {\n",
       "        vertical-align: middle;\n",
       "    }\n",
       "\n",
       "    .dataframe tbody tr th {\n",
       "        vertical-align: top;\n",
       "    }\n",
       "\n",
       "    .dataframe thead th {\n",
       "        text-align: right;\n",
       "    }\n",
       "</style>\n",
       "<table border=\"1\" class=\"dataframe\">\n",
       "  <thead>\n",
       "    <tr style=\"text-align: right;\">\n",
       "      <th></th>\n",
       "      <th>First</th>\n",
       "      <th>Last</th>\n",
       "    </tr>\n",
       "    <tr>\n",
       "      <th>Email</th>\n",
       "      <th></th>\n",
       "      <th></th>\n",
       "    </tr>\n",
       "  </thead>\n",
       "  <tbody>\n",
       "    <tr>\n",
       "      <th>guruji@akshardham.com</th>\n",
       "      <td>Guruji</td>\n",
       "      <td>Anadi-mukt</td>\n",
       "    </tr>\n",
       "    <tr>\n",
       "      <th>Ghanshyam@akshardham.com</th>\n",
       "      <td>Ghanshyam</td>\n",
       "      <td>Sarvopari</td>\n",
       "    </tr>\n",
       "    <tr>\n",
       "      <th>smit3569@gmail.com</th>\n",
       "      <td>Smit</td>\n",
       "      <td>Dasanudas</td>\n",
       "    </tr>\n",
       "  </tbody>\n",
       "</table>\n",
       "</div>"
      ],
      "text/plain": [
       "                              First        Last\n",
       "Email                                          \n",
       "guruji@akshardham.com        Guruji  Anadi-mukt\n",
       "Ghanshyam@akshardham.com  Ghanshyam   Sarvopari\n",
       "smit3569@gmail.com             Smit   Dasanudas"
      ]
     },
     "execution_count": 57,
     "metadata": {},
     "output_type": "execute_result"
    }
   ],
   "source": [
    "df_ji"
   ]
  },
  {
   "cell_type": "code",
   "execution_count": 58,
   "id": "6f89ea55-32ab-490a-a832-a309f1f2e534",
   "metadata": {},
   "outputs": [],
   "source": [
    "df_ji.reset_index(inplace = True)"
   ]
  },
  {
   "cell_type": "code",
   "execution_count": 59,
   "id": "50432a18-9aa3-4eac-bc7f-731755a8cbfe",
   "metadata": {},
   "outputs": [
    {
     "data": {
      "text/html": [
       "<div>\n",
       "<style scoped>\n",
       "    .dataframe tbody tr th:only-of-type {\n",
       "        vertical-align: middle;\n",
       "    }\n",
       "\n",
       "    .dataframe tbody tr th {\n",
       "        vertical-align: top;\n",
       "    }\n",
       "\n",
       "    .dataframe thead th {\n",
       "        text-align: right;\n",
       "    }\n",
       "</style>\n",
       "<table border=\"1\" class=\"dataframe\">\n",
       "  <thead>\n",
       "    <tr style=\"text-align: right;\">\n",
       "      <th></th>\n",
       "      <th>Email</th>\n",
       "      <th>First</th>\n",
       "      <th>Last</th>\n",
       "    </tr>\n",
       "  </thead>\n",
       "  <tbody>\n",
       "    <tr>\n",
       "      <th>0</th>\n",
       "      <td>guruji@akshardham.com</td>\n",
       "      <td>Guruji</td>\n",
       "      <td>Anadi-mukt</td>\n",
       "    </tr>\n",
       "    <tr>\n",
       "      <th>1</th>\n",
       "      <td>Ghanshyam@akshardham.com</td>\n",
       "      <td>Ghanshyam</td>\n",
       "      <td>Sarvopari</td>\n",
       "    </tr>\n",
       "    <tr>\n",
       "      <th>2</th>\n",
       "      <td>smit3569@gmail.com</td>\n",
       "      <td>Smit</td>\n",
       "      <td>Dasanudas</td>\n",
       "    </tr>\n",
       "  </tbody>\n",
       "</table>\n",
       "</div>"
      ],
      "text/plain": [
       "                      Email      First        Last\n",
       "0     guruji@akshardham.com     Guruji  Anadi-mukt\n",
       "1  Ghanshyam@akshardham.com  Ghanshyam   Sarvopari\n",
       "2        smit3569@gmail.com       Smit   Dasanudas"
      ]
     },
     "execution_count": 59,
     "metadata": {},
     "output_type": "execute_result"
    }
   ],
   "source": [
    "df_ji"
   ]
  },
  {
   "cell_type": "code",
   "execution_count": 60,
   "id": "ea424b2b-cd82-4520-9742-3c2442144101",
   "metadata": {},
   "outputs": [
    {
     "data": {
      "text/html": [
       "<div>\n",
       "<style scoped>\n",
       "    .dataframe tbody tr th:only-of-type {\n",
       "        vertical-align: middle;\n",
       "    }\n",
       "\n",
       "    .dataframe tbody tr th {\n",
       "        vertical-align: top;\n",
       "    }\n",
       "\n",
       "    .dataframe thead th {\n",
       "        text-align: right;\n",
       "    }\n",
       "</style>\n",
       "<table border=\"1\" class=\"dataframe\">\n",
       "  <thead>\n",
       "    <tr style=\"text-align: right;\">\n",
       "      <th></th>\n",
       "      <th>Email</th>\n",
       "      <th>First</th>\n",
       "      <th>Last</th>\n",
       "    </tr>\n",
       "  </thead>\n",
       "  <tbody>\n",
       "    <tr>\n",
       "      <th>0</th>\n",
       "      <td>guruji@akshardham.com</td>\n",
       "      <td>Guruji</td>\n",
       "      <td>Anadi-mukt</td>\n",
       "    </tr>\n",
       "    <tr>\n",
       "      <th>1</th>\n",
       "      <td>Ghanshyam@akshardham.com</td>\n",
       "      <td>Ghanshyam</td>\n",
       "      <td>Sarvopari</td>\n",
       "    </tr>\n",
       "    <tr>\n",
       "      <th>2</th>\n",
       "      <td>smit3569@gmail.com</td>\n",
       "      <td>Smit</td>\n",
       "      <td>Dasanudas</td>\n",
       "    </tr>\n",
       "  </tbody>\n",
       "</table>\n",
       "</div>"
      ],
      "text/plain": [
       "                      Email      First        Last\n",
       "0     guruji@akshardham.com     Guruji  Anadi-mukt\n",
       "1  Ghanshyam@akshardham.com  Ghanshyam   Sarvopari\n",
       "2        smit3569@gmail.com       Smit   Dasanudas"
      ]
     },
     "execution_count": 60,
     "metadata": {},
     "output_type": "execute_result"
    }
   ],
   "source": [
    "df_ji"
   ]
  },
  {
   "cell_type": "code",
   "execution_count": 61,
   "id": "1c806df1-5ee8-443c-96da-0668f53af53d",
   "metadata": {},
   "outputs": [],
   "source": [
    "df_ji.set_index('Email', inplace=True)"
   ]
  },
  {
   "cell_type": "code",
   "execution_count": 62,
   "id": "8300e0ca-1ff2-4947-8045-0cae8d103844",
   "metadata": {},
   "outputs": [
    {
     "data": {
      "text/html": [
       "<div>\n",
       "<style scoped>\n",
       "    .dataframe tbody tr th:only-of-type {\n",
       "        vertical-align: middle;\n",
       "    }\n",
       "\n",
       "    .dataframe tbody tr th {\n",
       "        vertical-align: top;\n",
       "    }\n",
       "\n",
       "    .dataframe thead th {\n",
       "        text-align: right;\n",
       "    }\n",
       "</style>\n",
       "<table border=\"1\" class=\"dataframe\">\n",
       "  <thead>\n",
       "    <tr style=\"text-align: right;\">\n",
       "      <th></th>\n",
       "      <th>First</th>\n",
       "      <th>Last</th>\n",
       "    </tr>\n",
       "    <tr>\n",
       "      <th>Email</th>\n",
       "      <th></th>\n",
       "      <th></th>\n",
       "    </tr>\n",
       "  </thead>\n",
       "  <tbody>\n",
       "    <tr>\n",
       "      <th>guruji@akshardham.com</th>\n",
       "      <td>Guruji</td>\n",
       "      <td>Anadi-mukt</td>\n",
       "    </tr>\n",
       "    <tr>\n",
       "      <th>Ghanshyam@akshardham.com</th>\n",
       "      <td>Ghanshyam</td>\n",
       "      <td>Sarvopari</td>\n",
       "    </tr>\n",
       "    <tr>\n",
       "      <th>smit3569@gmail.com</th>\n",
       "      <td>Smit</td>\n",
       "      <td>Dasanudas</td>\n",
       "    </tr>\n",
       "  </tbody>\n",
       "</table>\n",
       "</div>"
      ],
      "text/plain": [
       "                              First        Last\n",
       "Email                                          \n",
       "guruji@akshardham.com        Guruji  Anadi-mukt\n",
       "Ghanshyam@akshardham.com  Ghanshyam   Sarvopari\n",
       "smit3569@gmail.com             Smit   Dasanudas"
      ]
     },
     "execution_count": 62,
     "metadata": {},
     "output_type": "execute_result"
    }
   ],
   "source": [
    "df_ji"
   ]
  },
  {
   "cell_type": "code",
   "execution_count": 64,
   "id": "0097d02a-db91-4cb0-8896-653e3d18cccc",
   "metadata": {},
   "outputs": [
    {
     "data": {
      "text/html": [
       "<div>\n",
       "<style scoped>\n",
       "    .dataframe tbody tr th:only-of-type {\n",
       "        vertical-align: middle;\n",
       "    }\n",
       "\n",
       "    .dataframe tbody tr th {\n",
       "        vertical-align: top;\n",
       "    }\n",
       "\n",
       "    .dataframe thead th {\n",
       "        text-align: right;\n",
       "    }\n",
       "</style>\n",
       "<table border=\"1\" class=\"dataframe\">\n",
       "  <thead>\n",
       "    <tr style=\"text-align: right;\">\n",
       "      <th></th>\n",
       "      <th>First</th>\n",
       "      <th>Last</th>\n",
       "    </tr>\n",
       "    <tr>\n",
       "      <th>Email</th>\n",
       "      <th></th>\n",
       "      <th></th>\n",
       "    </tr>\n",
       "  </thead>\n",
       "  <tbody>\n",
       "    <tr>\n",
       "      <th>Ghanshyam@akshardham.com</th>\n",
       "      <td>Ghanshyam</td>\n",
       "      <td>Sarvopari</td>\n",
       "    </tr>\n",
       "    <tr>\n",
       "      <th>guruji@akshardham.com</th>\n",
       "      <td>Guruji</td>\n",
       "      <td>Anadi-mukt</td>\n",
       "    </tr>\n",
       "    <tr>\n",
       "      <th>smit3569@gmail.com</th>\n",
       "      <td>Smit</td>\n",
       "      <td>Dasanudas</td>\n",
       "    </tr>\n",
       "  </tbody>\n",
       "</table>\n",
       "</div>"
      ],
      "text/plain": [
       "                              First        Last\n",
       "Email                                          \n",
       "Ghanshyam@akshardham.com  Ghanshyam   Sarvopari\n",
       "guruji@akshardham.com        Guruji  Anadi-mukt\n",
       "smit3569@gmail.com             Smit   Dasanudas"
      ]
     },
     "execution_count": 64,
     "metadata": {},
     "output_type": "execute_result"
    }
   ],
   "source": [
    "df_ji.sort_index()"
   ]
  },
  {
   "cell_type": "code",
   "execution_count": 65,
   "id": "d93e214b-699b-4146-9dd2-bf615b500dac",
   "metadata": {},
   "outputs": [
    {
     "data": {
      "text/plain": [
       "'Anadi-mukt'"
      ]
     },
     "execution_count": 65,
     "metadata": {},
     "output_type": "execute_result"
    }
   ],
   "source": [
    "df_ji.iloc[0,1]"
   ]
  },
  {
   "cell_type": "code",
   "execution_count": 2,
   "id": "5e986bf6-30a2-4133-a558-2d2795831a7f",
   "metadata": {},
   "outputs": [],
   "source": [
    "t = {'First': ['Guruji', 'Ghanshyam', 'Smit'],\n",
    "         'Last': ['Anadi-mukt', 'Sarvopari', 'Dasanudas'],\n",
    "         'Email': ['guruji@akshardham.com', 'Ghanshyam@akshardham.com', 'smit3569@gmail.com']}"
   ]
  },
  {
   "cell_type": "code",
   "execution_count": 4,
   "id": "d07835b2-a09e-4bdd-b291-1cc703a13ae6",
   "metadata": {},
   "outputs": [],
   "source": [
    "import pandas as pd"
   ]
  },
  {
   "cell_type": "code",
   "execution_count": 6,
   "id": "57d883ac-77e7-40e7-9022-4f049b03abcc",
   "metadata": {},
   "outputs": [],
   "source": [
    "df = pd.DataFrame(t)"
   ]
  },
  {
   "cell_type": "code",
   "execution_count": 7,
   "id": "a4532850-e70e-4562-9cc8-567bd969a7d0",
   "metadata": {},
   "outputs": [
    {
     "data": {
      "text/html": [
       "<div>\n",
       "<style scoped>\n",
       "    .dataframe tbody tr th:only-of-type {\n",
       "        vertical-align: middle;\n",
       "    }\n",
       "\n",
       "    .dataframe tbody tr th {\n",
       "        vertical-align: top;\n",
       "    }\n",
       "\n",
       "    .dataframe thead th {\n",
       "        text-align: right;\n",
       "    }\n",
       "</style>\n",
       "<table border=\"1\" class=\"dataframe\">\n",
       "  <thead>\n",
       "    <tr style=\"text-align: right;\">\n",
       "      <th></th>\n",
       "      <th>First</th>\n",
       "      <th>Last</th>\n",
       "      <th>Email</th>\n",
       "    </tr>\n",
       "  </thead>\n",
       "  <tbody>\n",
       "    <tr>\n",
       "      <th>0</th>\n",
       "      <td>Guruji</td>\n",
       "      <td>Anadi-mukt</td>\n",
       "      <td>guruji@akshardham.com</td>\n",
       "    </tr>\n",
       "    <tr>\n",
       "      <th>1</th>\n",
       "      <td>Ghanshyam</td>\n",
       "      <td>Sarvopari</td>\n",
       "      <td>Ghanshyam@akshardham.com</td>\n",
       "    </tr>\n",
       "    <tr>\n",
       "      <th>2</th>\n",
       "      <td>Smit</td>\n",
       "      <td>Dasanudas</td>\n",
       "      <td>smit3569@gmail.com</td>\n",
       "    </tr>\n",
       "  </tbody>\n",
       "</table>\n",
       "</div>"
      ],
      "text/plain": [
       "       First        Last                     Email\n",
       "0     Guruji  Anadi-mukt     guruji@akshardham.com\n",
       "1  Ghanshyam   Sarvopari  Ghanshyam@akshardham.com\n",
       "2       Smit   Dasanudas        smit3569@gmail.com"
      ]
     },
     "execution_count": 7,
     "metadata": {},
     "output_type": "execute_result"
    }
   ],
   "source": [
    "df"
   ]
  },
  {
   "cell_type": "code",
   "execution_count": 10,
   "id": "57d27871-a8b6-4944-bea9-abc81e05c4b0",
   "metadata": {},
   "outputs": [],
   "source": [
    "df['Full_Name'] = df['First'] + ' ' + df['Last']"
   ]
  },
  {
   "cell_type": "code",
   "execution_count": 11,
   "id": "32d21631-d2b4-440b-a4a9-3bbde8942d68",
   "metadata": {},
   "outputs": [
    {
     "data": {
      "text/html": [
       "<div>\n",
       "<style scoped>\n",
       "    .dataframe tbody tr th:only-of-type {\n",
       "        vertical-align: middle;\n",
       "    }\n",
       "\n",
       "    .dataframe tbody tr th {\n",
       "        vertical-align: top;\n",
       "    }\n",
       "\n",
       "    .dataframe thead th {\n",
       "        text-align: right;\n",
       "    }\n",
       "</style>\n",
       "<table border=\"1\" class=\"dataframe\">\n",
       "  <thead>\n",
       "    <tr style=\"text-align: right;\">\n",
       "      <th></th>\n",
       "      <th>First</th>\n",
       "      <th>Last</th>\n",
       "      <th>Email</th>\n",
       "      <th>Full_Name</th>\n",
       "    </tr>\n",
       "  </thead>\n",
       "  <tbody>\n",
       "    <tr>\n",
       "      <th>0</th>\n",
       "      <td>Guruji</td>\n",
       "      <td>Anadi-mukt</td>\n",
       "      <td>guruji@akshardham.com</td>\n",
       "      <td>Guruji Anadi-mukt</td>\n",
       "    </tr>\n",
       "    <tr>\n",
       "      <th>1</th>\n",
       "      <td>Ghanshyam</td>\n",
       "      <td>Sarvopari</td>\n",
       "      <td>Ghanshyam@akshardham.com</td>\n",
       "      <td>Ghanshyam Sarvopari</td>\n",
       "    </tr>\n",
       "    <tr>\n",
       "      <th>2</th>\n",
       "      <td>Smit</td>\n",
       "      <td>Dasanudas</td>\n",
       "      <td>smit3569@gmail.com</td>\n",
       "      <td>Smit Dasanudas</td>\n",
       "    </tr>\n",
       "  </tbody>\n",
       "</table>\n",
       "</div>"
      ],
      "text/plain": [
       "       First        Last                     Email            Full_Name\n",
       "0     Guruji  Anadi-mukt     guruji@akshardham.com    Guruji Anadi-mukt\n",
       "1  Ghanshyam   Sarvopari  Ghanshyam@akshardham.com  Ghanshyam Sarvopari\n",
       "2       Smit   Dasanudas        smit3569@gmail.com       Smit Dasanudas"
      ]
     },
     "execution_count": 11,
     "metadata": {},
     "output_type": "execute_result"
    }
   ],
   "source": [
    "df"
   ]
  },
  {
   "cell_type": "code",
   "execution_count": 15,
   "id": "d7907af2-5ad5-47fa-b12a-de7861980b49",
   "metadata": {},
   "outputs": [],
   "source": [
    "df = df[['First', 'Last', 'Full_Name', 'Email']]"
   ]
  },
  {
   "cell_type": "code",
   "execution_count": 16,
   "id": "242a33ef-c292-415e-bde0-699804238900",
   "metadata": {},
   "outputs": [
    {
     "data": {
      "text/html": [
       "<div>\n",
       "<style scoped>\n",
       "    .dataframe tbody tr th:only-of-type {\n",
       "        vertical-align: middle;\n",
       "    }\n",
       "\n",
       "    .dataframe tbody tr th {\n",
       "        vertical-align: top;\n",
       "    }\n",
       "\n",
       "    .dataframe thead th {\n",
       "        text-align: right;\n",
       "    }\n",
       "</style>\n",
       "<table border=\"1\" class=\"dataframe\">\n",
       "  <thead>\n",
       "    <tr style=\"text-align: right;\">\n",
       "      <th></th>\n",
       "      <th>First</th>\n",
       "      <th>Last</th>\n",
       "      <th>Full_Name</th>\n",
       "      <th>Email</th>\n",
       "    </tr>\n",
       "  </thead>\n",
       "  <tbody>\n",
       "    <tr>\n",
       "      <th>0</th>\n",
       "      <td>Guruji</td>\n",
       "      <td>Anadi-mukt</td>\n",
       "      <td>Guruji Anadi-mukt</td>\n",
       "      <td>guruji@akshardham.com</td>\n",
       "    </tr>\n",
       "    <tr>\n",
       "      <th>1</th>\n",
       "      <td>Ghanshyam</td>\n",
       "      <td>Sarvopari</td>\n",
       "      <td>Ghanshyam Sarvopari</td>\n",
       "      <td>Ghanshyam@akshardham.com</td>\n",
       "    </tr>\n",
       "    <tr>\n",
       "      <th>2</th>\n",
       "      <td>Smit</td>\n",
       "      <td>Dasanudas</td>\n",
       "      <td>Smit Dasanudas</td>\n",
       "      <td>smit3569@gmail.com</td>\n",
       "    </tr>\n",
       "  </tbody>\n",
       "</table>\n",
       "</div>"
      ],
      "text/plain": [
       "       First        Last            Full_Name                     Email\n",
       "0     Guruji  Anadi-mukt    Guruji Anadi-mukt     guruji@akshardham.com\n",
       "1  Ghanshyam   Sarvopari  Ghanshyam Sarvopari  Ghanshyam@akshardham.com\n",
       "2       Smit   Dasanudas       Smit Dasanudas        smit3569@gmail.com"
      ]
     },
     "execution_count": 16,
     "metadata": {},
     "output_type": "execute_result"
    }
   ],
   "source": [
    "df"
   ]
  },
  {
   "cell_type": "code",
   "execution_count": 17,
   "id": "6de2bb79-22d4-4dd3-b2b2-3b7aed3c0ae6",
   "metadata": {},
   "outputs": [
    {
     "data": {
      "text/html": [
       "<div>\n",
       "<style scoped>\n",
       "    .dataframe tbody tr th:only-of-type {\n",
       "        vertical-align: middle;\n",
       "    }\n",
       "\n",
       "    .dataframe tbody tr th {\n",
       "        vertical-align: top;\n",
       "    }\n",
       "\n",
       "    .dataframe thead th {\n",
       "        text-align: right;\n",
       "    }\n",
       "</style>\n",
       "<table border=\"1\" class=\"dataframe\">\n",
       "  <thead>\n",
       "    <tr style=\"text-align: right;\">\n",
       "      <th></th>\n",
       "      <th>First</th>\n",
       "      <th>Last</th>\n",
       "      <th>Full_Name</th>\n",
       "      <th>Email</th>\n",
       "    </tr>\n",
       "  </thead>\n",
       "  <tbody>\n",
       "    <tr>\n",
       "      <th>0</th>\n",
       "      <td>Guruji</td>\n",
       "      <td>Anadi-mukt</td>\n",
       "      <td>Guruji Anadi-mukt</td>\n",
       "      <td>guruji@akshardham.com</td>\n",
       "    </tr>\n",
       "    <tr>\n",
       "      <th>1</th>\n",
       "      <td>Ghanshyam</td>\n",
       "      <td>Sarvopari</td>\n",
       "      <td>Ghanshyam Sarvopari</td>\n",
       "      <td>Ghanshyam@akshardham.com</td>\n",
       "    </tr>\n",
       "    <tr>\n",
       "      <th>2</th>\n",
       "      <td>Smit</td>\n",
       "      <td>Dasanudas</td>\n",
       "      <td>Smit Dasanudas</td>\n",
       "      <td>smit3569@gmail.com</td>\n",
       "    </tr>\n",
       "  </tbody>\n",
       "</table>\n",
       "</div>"
      ],
      "text/plain": [
       "       First        Last            Full_Name                     Email\n",
       "0     Guruji  Anadi-mukt    Guruji Anadi-mukt     guruji@akshardham.com\n",
       "1  Ghanshyam   Sarvopari  Ghanshyam Sarvopari  Ghanshyam@akshardham.com\n",
       "2       Smit   Dasanudas       Smit Dasanudas        smit3569@gmail.com"
      ]
     },
     "execution_count": 17,
     "metadata": {},
     "output_type": "execute_result"
    }
   ],
   "source": [
    "df"
   ]
  },
  {
   "cell_type": "code",
   "execution_count": 19,
   "id": "15db3a9e-356c-412f-8030-0e229a396b28",
   "metadata": {},
   "outputs": [],
   "source": [
    "df['Favorite_color'] = ['White', 'White', 'White']"
   ]
  },
  {
   "cell_type": "code",
   "execution_count": 20,
   "id": "d7b99895-2aab-41ae-a392-65b092c57ec4",
   "metadata": {},
   "outputs": [
    {
     "data": {
      "text/html": [
       "<div>\n",
       "<style scoped>\n",
       "    .dataframe tbody tr th:only-of-type {\n",
       "        vertical-align: middle;\n",
       "    }\n",
       "\n",
       "    .dataframe tbody tr th {\n",
       "        vertical-align: top;\n",
       "    }\n",
       "\n",
       "    .dataframe thead th {\n",
       "        text-align: right;\n",
       "    }\n",
       "</style>\n",
       "<table border=\"1\" class=\"dataframe\">\n",
       "  <thead>\n",
       "    <tr style=\"text-align: right;\">\n",
       "      <th></th>\n",
       "      <th>First</th>\n",
       "      <th>Last</th>\n",
       "      <th>Full_Name</th>\n",
       "      <th>Email</th>\n",
       "      <th>Favorite_color</th>\n",
       "    </tr>\n",
       "  </thead>\n",
       "  <tbody>\n",
       "    <tr>\n",
       "      <th>0</th>\n",
       "      <td>Guruji</td>\n",
       "      <td>Anadi-mukt</td>\n",
       "      <td>Guruji Anadi-mukt</td>\n",
       "      <td>guruji@akshardham.com</td>\n",
       "      <td>White</td>\n",
       "    </tr>\n",
       "    <tr>\n",
       "      <th>1</th>\n",
       "      <td>Ghanshyam</td>\n",
       "      <td>Sarvopari</td>\n",
       "      <td>Ghanshyam Sarvopari</td>\n",
       "      <td>Ghanshyam@akshardham.com</td>\n",
       "      <td>White</td>\n",
       "    </tr>\n",
       "    <tr>\n",
       "      <th>2</th>\n",
       "      <td>Smit</td>\n",
       "      <td>Dasanudas</td>\n",
       "      <td>Smit Dasanudas</td>\n",
       "      <td>smit3569@gmail.com</td>\n",
       "      <td>White</td>\n",
       "    </tr>\n",
       "  </tbody>\n",
       "</table>\n",
       "</div>"
      ],
      "text/plain": [
       "       First        Last            Full_Name                     Email  \\\n",
       "0     Guruji  Anadi-mukt    Guruji Anadi-mukt     guruji@akshardham.com   \n",
       "1  Ghanshyam   Sarvopari  Ghanshyam Sarvopari  Ghanshyam@akshardham.com   \n",
       "2       Smit   Dasanudas       Smit Dasanudas        smit3569@gmail.com   \n",
       "\n",
       "  Favorite_color  \n",
       "0          White  \n",
       "1          White  \n",
       "2          White  "
      ]
     },
     "execution_count": 20,
     "metadata": {},
     "output_type": "execute_result"
    }
   ],
   "source": [
    "df"
   ]
  },
  {
   "cell_type": "code",
   "execution_count": 21,
   "id": "25f3bb31-f0e3-456e-a660-3193b71e5cc1",
   "metadata": {},
   "outputs": [
    {
     "data": {
      "text/html": [
       "<div>\n",
       "<style scoped>\n",
       "    .dataframe tbody tr th:only-of-type {\n",
       "        vertical-align: middle;\n",
       "    }\n",
       "\n",
       "    .dataframe tbody tr th {\n",
       "        vertical-align: top;\n",
       "    }\n",
       "\n",
       "    .dataframe thead th {\n",
       "        text-align: right;\n",
       "    }\n",
       "</style>\n",
       "<table border=\"1\" class=\"dataframe\">\n",
       "  <thead>\n",
       "    <tr style=\"text-align: right;\">\n",
       "      <th></th>\n",
       "      <th>First</th>\n",
       "      <th>Last</th>\n",
       "      <th>Full_Name</th>\n",
       "      <th>Email</th>\n",
       "      <th>Favorite_color</th>\n",
       "    </tr>\n",
       "  </thead>\n",
       "  <tbody>\n",
       "    <tr>\n",
       "      <th>0</th>\n",
       "      <td>Guruji</td>\n",
       "      <td>Anadi-mukt</td>\n",
       "      <td>Guruji Anadi-mukt</td>\n",
       "      <td>guruji@akshardham.com</td>\n",
       "      <td>White</td>\n",
       "    </tr>\n",
       "    <tr>\n",
       "      <th>1</th>\n",
       "      <td>Ghanshyam</td>\n",
       "      <td>Sarvopari</td>\n",
       "      <td>Ghanshyam Sarvopari</td>\n",
       "      <td>Ghanshyam@akshardham.com</td>\n",
       "      <td>White</td>\n",
       "    </tr>\n",
       "    <tr>\n",
       "      <th>2</th>\n",
       "      <td>Smit</td>\n",
       "      <td>Dasanudas</td>\n",
       "      <td>Smit Dasanudas</td>\n",
       "      <td>smit3569@gmail.com</td>\n",
       "      <td>White</td>\n",
       "    </tr>\n",
       "  </tbody>\n",
       "</table>\n",
       "</div>"
      ],
      "text/plain": [
       "       First        Last            Full_Name                     Email  \\\n",
       "0     Guruji  Anadi-mukt    Guruji Anadi-mukt     guruji@akshardham.com   \n",
       "1  Ghanshyam   Sarvopari  Ghanshyam Sarvopari  Ghanshyam@akshardham.com   \n",
       "2       Smit   Dasanudas       Smit Dasanudas        smit3569@gmail.com   \n",
       "\n",
       "  Favorite_color  \n",
       "0          White  \n",
       "1          White  \n",
       "2          White  "
      ]
     },
     "execution_count": 21,
     "metadata": {},
     "output_type": "execute_result"
    }
   ],
   "source": [
    "df"
   ]
  },
  {
   "cell_type": "code",
   "execution_count": 22,
   "id": "930a8e23-f2c5-4a04-ac67-177f73804ce7",
   "metadata": {},
   "outputs": [
    {
     "data": {
      "text/plain": [
       "0       Guruji\n",
       "1    Ghanshyam\n",
       "2         Smit\n",
       "Name: First, dtype: object"
      ]
     },
     "execution_count": 22,
     "metadata": {},
     "output_type": "execute_result"
    }
   ],
   "source": [
    "df['First']"
   ]
  },
  {
   "cell_type": "code",
   "execution_count": 23,
   "id": "4bd8e7b8-e956-45be-9dd6-58c8c8eeefe9",
   "metadata": {},
   "outputs": [
    {
     "data": {
      "text/plain": [
       "First                            Ghanshyam\n",
       "Last                             Sarvopari\n",
       "Full_Name              Ghanshyam Sarvopari\n",
       "Email             Ghanshyam@akshardham.com\n",
       "Favorite_color                       White\n",
       "Name: 1, dtype: object"
      ]
     },
     "execution_count": 23,
     "metadata": {},
     "output_type": "execute_result"
    }
   ],
   "source": [
    "df.iloc[1]"
   ]
  },
  {
   "cell_type": "code",
   "execution_count": 25,
   "id": "95eab4e2-a7e5-4d5f-a20f-b06e05959697",
   "metadata": {},
   "outputs": [
    {
     "data": {
      "text/html": [
       "<div>\n",
       "<style scoped>\n",
       "    .dataframe tbody tr th:only-of-type {\n",
       "        vertical-align: middle;\n",
       "    }\n",
       "\n",
       "    .dataframe tbody tr th {\n",
       "        vertical-align: top;\n",
       "    }\n",
       "\n",
       "    .dataframe thead th {\n",
       "        text-align: right;\n",
       "    }\n",
       "</style>\n",
       "<table border=\"1\" class=\"dataframe\">\n",
       "  <thead>\n",
       "    <tr style=\"text-align: right;\">\n",
       "      <th></th>\n",
       "      <th>Email</th>\n",
       "      <th>Favorite_color</th>\n",
       "    </tr>\n",
       "  </thead>\n",
       "  <tbody>\n",
       "    <tr>\n",
       "      <th>1</th>\n",
       "      <td>Ghanshyam@akshardham.com</td>\n",
       "      <td>White</td>\n",
       "    </tr>\n",
       "    <tr>\n",
       "      <th>2</th>\n",
       "      <td>smit3569@gmail.com</td>\n",
       "      <td>White</td>\n",
       "    </tr>\n",
       "  </tbody>\n",
       "</table>\n",
       "</div>"
      ],
      "text/plain": [
       "                      Email Favorite_color\n",
       "1  Ghanshyam@akshardham.com          White\n",
       "2        smit3569@gmail.com          White"
      ]
     },
     "execution_count": 25,
     "metadata": {},
     "output_type": "execute_result"
    }
   ],
   "source": [
    "df.iloc[1:, 3:]"
   ]
  },
  {
   "cell_type": "code",
   "execution_count": 26,
   "id": "5b4f9e6a-500e-47cc-80b5-8e8c0f9e1acc",
   "metadata": {},
   "outputs": [
    {
     "data": {
      "text/html": [
       "<div>\n",
       "<style scoped>\n",
       "    .dataframe tbody tr th:only-of-type {\n",
       "        vertical-align: middle;\n",
       "    }\n",
       "\n",
       "    .dataframe tbody tr th {\n",
       "        vertical-align: top;\n",
       "    }\n",
       "\n",
       "    .dataframe thead th {\n",
       "        text-align: right;\n",
       "    }\n",
       "</style>\n",
       "<table border=\"1\" class=\"dataframe\">\n",
       "  <thead>\n",
       "    <tr style=\"text-align: right;\">\n",
       "      <th></th>\n",
       "      <th>Email</th>\n",
       "      <th>Favorite_color</th>\n",
       "    </tr>\n",
       "  </thead>\n",
       "  <tbody>\n",
       "    <tr>\n",
       "      <th>1</th>\n",
       "      <td>Ghanshyam@akshardham.com</td>\n",
       "      <td>White</td>\n",
       "    </tr>\n",
       "    <tr>\n",
       "      <th>2</th>\n",
       "      <td>smit3569@gmail.com</td>\n",
       "      <td>White</td>\n",
       "    </tr>\n",
       "  </tbody>\n",
       "</table>\n",
       "</div>"
      ],
      "text/plain": [
       "                      Email Favorite_color\n",
       "1  Ghanshyam@akshardham.com          White\n",
       "2        smit3569@gmail.com          White"
      ]
     },
     "execution_count": 26,
     "metadata": {},
     "output_type": "execute_result"
    }
   ],
   "source": [
    "df.loc[1:, ['Email', 'Favorite_color']]"
   ]
  },
  {
   "cell_type": "code",
   "execution_count": 27,
   "id": "0c552b64-1d6d-4459-915e-e603ec07ba29",
   "metadata": {},
   "outputs": [
    {
     "data": {
      "text/html": [
       "<div>\n",
       "<style scoped>\n",
       "    .dataframe tbody tr th:only-of-type {\n",
       "        vertical-align: middle;\n",
       "    }\n",
       "\n",
       "    .dataframe tbody tr th {\n",
       "        vertical-align: top;\n",
       "    }\n",
       "\n",
       "    .dataframe thead th {\n",
       "        text-align: right;\n",
       "    }\n",
       "</style>\n",
       "<table border=\"1\" class=\"dataframe\">\n",
       "  <thead>\n",
       "    <tr style=\"text-align: right;\">\n",
       "      <th></th>\n",
       "      <th>First</th>\n",
       "      <th>Last</th>\n",
       "      <th>Full_Name</th>\n",
       "      <th>Email</th>\n",
       "      <th>Favorite_color</th>\n",
       "    </tr>\n",
       "  </thead>\n",
       "  <tbody>\n",
       "    <tr>\n",
       "      <th>0</th>\n",
       "      <td>Guruji</td>\n",
       "      <td>Anadi-mukt</td>\n",
       "      <td>Guruji Anadi-mukt</td>\n",
       "      <td>guruji@akshardham.com</td>\n",
       "      <td>White</td>\n",
       "    </tr>\n",
       "    <tr>\n",
       "      <th>1</th>\n",
       "      <td>Ghanshyam</td>\n",
       "      <td>Sarvopari</td>\n",
       "      <td>Ghanshyam Sarvopari</td>\n",
       "      <td>Ghanshyam@akshardham.com</td>\n",
       "      <td>White</td>\n",
       "    </tr>\n",
       "    <tr>\n",
       "      <th>2</th>\n",
       "      <td>Smit</td>\n",
       "      <td>Dasanudas</td>\n",
       "      <td>Smit Dasanudas</td>\n",
       "      <td>smit3569@gmail.com</td>\n",
       "      <td>White</td>\n",
       "    </tr>\n",
       "  </tbody>\n",
       "</table>\n",
       "</div>"
      ],
      "text/plain": [
       "       First        Last            Full_Name                     Email  \\\n",
       "0     Guruji  Anadi-mukt    Guruji Anadi-mukt     guruji@akshardham.com   \n",
       "1  Ghanshyam   Sarvopari  Ghanshyam Sarvopari  Ghanshyam@akshardham.com   \n",
       "2       Smit   Dasanudas       Smit Dasanudas        smit3569@gmail.com   \n",
       "\n",
       "  Favorite_color  \n",
       "0          White  \n",
       "1          White  \n",
       "2          White  "
      ]
     },
     "execution_count": 27,
     "metadata": {},
     "output_type": "execute_result"
    }
   ],
   "source": [
    "df"
   ]
  },
  {
   "cell_type": "code",
   "execution_count": 29,
   "id": "4ea3197b-56c3-412d-9f10-bc9e3060f64e",
   "metadata": {},
   "outputs": [],
   "source": [
    "t2 = {\n",
    "    'First'  : ['Shree Hari', 'Tapuji'],\n",
    "    'Last' : ['Akshardhamatipati', 'Vadtal Vihari'],\n",
    "    'Email' : ['Shreehari@akshardham.com', 'VadtalVihari@purshottam.com']\n",
    "}"
   ]
  },
  {
   "cell_type": "code",
   "execution_count": 30,
   "id": "5962fb28-e3e1-4c0c-8723-1a03342b966c",
   "metadata": {},
   "outputs": [],
   "source": [
    "df_2 = pd.DataFrame(t2)"
   ]
  },
  {
   "cell_type": "code",
   "execution_count": 31,
   "id": "b044680d-6079-4438-abb1-e83b1d1ccba3",
   "metadata": {},
   "outputs": [
    {
     "data": {
      "text/html": [
       "<div>\n",
       "<style scoped>\n",
       "    .dataframe tbody tr th:only-of-type {\n",
       "        vertical-align: middle;\n",
       "    }\n",
       "\n",
       "    .dataframe tbody tr th {\n",
       "        vertical-align: top;\n",
       "    }\n",
       "\n",
       "    .dataframe thead th {\n",
       "        text-align: right;\n",
       "    }\n",
       "</style>\n",
       "<table border=\"1\" class=\"dataframe\">\n",
       "  <thead>\n",
       "    <tr style=\"text-align: right;\">\n",
       "      <th></th>\n",
       "      <th>First</th>\n",
       "      <th>Last</th>\n",
       "      <th>Email</th>\n",
       "    </tr>\n",
       "  </thead>\n",
       "  <tbody>\n",
       "    <tr>\n",
       "      <th>0</th>\n",
       "      <td>Shree Hari</td>\n",
       "      <td>Akshardhamatipati</td>\n",
       "      <td>Shreehari@akshardham.com</td>\n",
       "    </tr>\n",
       "    <tr>\n",
       "      <th>1</th>\n",
       "      <td>Tapuji</td>\n",
       "      <td>Vadtal Vihari</td>\n",
       "      <td>VadtalVihari@purshottam.com</td>\n",
       "    </tr>\n",
       "  </tbody>\n",
       "</table>\n",
       "</div>"
      ],
      "text/plain": [
       "        First               Last                        Email\n",
       "0  Shree Hari  Akshardhamatipati     Shreehari@akshardham.com\n",
       "1      Tapuji      Vadtal Vihari  VadtalVihari@purshottam.com"
      ]
     },
     "execution_count": 31,
     "metadata": {},
     "output_type": "execute_result"
    }
   ],
   "source": [
    "df_2"
   ]
  },
  {
   "cell_type": "code",
   "execution_count": 33,
   "id": "3c4cbb5a-b4dd-4e62-b6e3-8618653d9708",
   "metadata": {},
   "outputs": [
    {
     "data": {
      "text/html": [
       "<div>\n",
       "<style scoped>\n",
       "    .dataframe tbody tr th:only-of-type {\n",
       "        vertical-align: middle;\n",
       "    }\n",
       "\n",
       "    .dataframe tbody tr th {\n",
       "        vertical-align: top;\n",
       "    }\n",
       "\n",
       "    .dataframe thead th {\n",
       "        text-align: right;\n",
       "    }\n",
       "</style>\n",
       "<table border=\"1\" class=\"dataframe\">\n",
       "  <thead>\n",
       "    <tr style=\"text-align: right;\">\n",
       "      <th></th>\n",
       "      <th>First</th>\n",
       "      <th>Last</th>\n",
       "      <th>Full_Name</th>\n",
       "      <th>Email</th>\n",
       "      <th>Favorite_color</th>\n",
       "    </tr>\n",
       "  </thead>\n",
       "  <tbody>\n",
       "    <tr>\n",
       "      <th>0</th>\n",
       "      <td>Guruji</td>\n",
       "      <td>Anadi-mukt</td>\n",
       "      <td>Guruji Anadi-mukt</td>\n",
       "      <td>guruji@akshardham.com</td>\n",
       "      <td>White</td>\n",
       "    </tr>\n",
       "    <tr>\n",
       "      <th>1</th>\n",
       "      <td>Ghanshyam</td>\n",
       "      <td>Sarvopari</td>\n",
       "      <td>Ghanshyam Sarvopari</td>\n",
       "      <td>Ghanshyam@akshardham.com</td>\n",
       "      <td>White</td>\n",
       "    </tr>\n",
       "    <tr>\n",
       "      <th>2</th>\n",
       "      <td>Smit</td>\n",
       "      <td>Dasanudas</td>\n",
       "      <td>Smit Dasanudas</td>\n",
       "      <td>smit3569@gmail.com</td>\n",
       "      <td>White</td>\n",
       "    </tr>\n",
       "    <tr>\n",
       "      <th>0</th>\n",
       "      <td>Shree Hari</td>\n",
       "      <td>Akshardhamatipati</td>\n",
       "      <td>NaN</td>\n",
       "      <td>Shreehari@akshardham.com</td>\n",
       "      <td>NaN</td>\n",
       "    </tr>\n",
       "    <tr>\n",
       "      <th>1</th>\n",
       "      <td>Tapuji</td>\n",
       "      <td>Vadtal Vihari</td>\n",
       "      <td>NaN</td>\n",
       "      <td>VadtalVihari@purshottam.com</td>\n",
       "      <td>NaN</td>\n",
       "    </tr>\n",
       "  </tbody>\n",
       "</table>\n",
       "</div>"
      ],
      "text/plain": [
       "        First               Last            Full_Name  \\\n",
       "0      Guruji         Anadi-mukt    Guruji Anadi-mukt   \n",
       "1   Ghanshyam          Sarvopari  Ghanshyam Sarvopari   \n",
       "2        Smit          Dasanudas       Smit Dasanudas   \n",
       "0  Shree Hari  Akshardhamatipati                  NaN   \n",
       "1      Tapuji      Vadtal Vihari                  NaN   \n",
       "\n",
       "                         Email Favorite_color  \n",
       "0        guruji@akshardham.com          White  \n",
       "1     Ghanshyam@akshardham.com          White  \n",
       "2           smit3569@gmail.com          White  \n",
       "0     Shreehari@akshardham.com            NaN  \n",
       "1  VadtalVihari@purshottam.com            NaN  "
      ]
     },
     "execution_count": 33,
     "metadata": {},
     "output_type": "execute_result"
    }
   ],
   "source": [
    "df.append(df_2)"
   ]
  },
  {
   "cell_type": "code",
   "execution_count": 34,
   "id": "57e31b00-781c-4bbe-934a-2660755aa83c",
   "metadata": {},
   "outputs": [],
   "source": [
    "df = df.append(df_2)"
   ]
  },
  {
   "cell_type": "code",
   "execution_count": 35,
   "id": "ac10dd14-951e-49cb-af0f-3faa7806d78e",
   "metadata": {},
   "outputs": [
    {
     "data": {
      "text/html": [
       "<div>\n",
       "<style scoped>\n",
       "    .dataframe tbody tr th:only-of-type {\n",
       "        vertical-align: middle;\n",
       "    }\n",
       "\n",
       "    .dataframe tbody tr th {\n",
       "        vertical-align: top;\n",
       "    }\n",
       "\n",
       "    .dataframe thead th {\n",
       "        text-align: right;\n",
       "    }\n",
       "</style>\n",
       "<table border=\"1\" class=\"dataframe\">\n",
       "  <thead>\n",
       "    <tr style=\"text-align: right;\">\n",
       "      <th></th>\n",
       "      <th>First</th>\n",
       "      <th>Last</th>\n",
       "      <th>Full_Name</th>\n",
       "      <th>Email</th>\n",
       "      <th>Favorite_color</th>\n",
       "    </tr>\n",
       "  </thead>\n",
       "  <tbody>\n",
       "    <tr>\n",
       "      <th>0</th>\n",
       "      <td>Guruji</td>\n",
       "      <td>Anadi-mukt</td>\n",
       "      <td>Guruji Anadi-mukt</td>\n",
       "      <td>guruji@akshardham.com</td>\n",
       "      <td>White</td>\n",
       "    </tr>\n",
       "    <tr>\n",
       "      <th>1</th>\n",
       "      <td>Ghanshyam</td>\n",
       "      <td>Sarvopari</td>\n",
       "      <td>Ghanshyam Sarvopari</td>\n",
       "      <td>Ghanshyam@akshardham.com</td>\n",
       "      <td>White</td>\n",
       "    </tr>\n",
       "    <tr>\n",
       "      <th>2</th>\n",
       "      <td>Smit</td>\n",
       "      <td>Dasanudas</td>\n",
       "      <td>Smit Dasanudas</td>\n",
       "      <td>smit3569@gmail.com</td>\n",
       "      <td>White</td>\n",
       "    </tr>\n",
       "    <tr>\n",
       "      <th>0</th>\n",
       "      <td>Shree Hari</td>\n",
       "      <td>Akshardhamatipati</td>\n",
       "      <td>NaN</td>\n",
       "      <td>Shreehari@akshardham.com</td>\n",
       "      <td>NaN</td>\n",
       "    </tr>\n",
       "    <tr>\n",
       "      <th>1</th>\n",
       "      <td>Tapuji</td>\n",
       "      <td>Vadtal Vihari</td>\n",
       "      <td>NaN</td>\n",
       "      <td>VadtalVihari@purshottam.com</td>\n",
       "      <td>NaN</td>\n",
       "    </tr>\n",
       "  </tbody>\n",
       "</table>\n",
       "</div>"
      ],
      "text/plain": [
       "        First               Last            Full_Name  \\\n",
       "0      Guruji         Anadi-mukt    Guruji Anadi-mukt   \n",
       "1   Ghanshyam          Sarvopari  Ghanshyam Sarvopari   \n",
       "2        Smit          Dasanudas       Smit Dasanudas   \n",
       "0  Shree Hari  Akshardhamatipati                  NaN   \n",
       "1      Tapuji      Vadtal Vihari                  NaN   \n",
       "\n",
       "                         Email Favorite_color  \n",
       "0        guruji@akshardham.com          White  \n",
       "1     Ghanshyam@akshardham.com          White  \n",
       "2           smit3569@gmail.com          White  \n",
       "0     Shreehari@akshardham.com            NaN  \n",
       "1  VadtalVihari@purshottam.com            NaN  "
      ]
     },
     "execution_count": 35,
     "metadata": {},
     "output_type": "execute_result"
    }
   ],
   "source": [
    "df"
   ]
  },
  {
   "cell_type": "code",
   "execution_count": 39,
   "id": "340f9b75-e585-48cc-b394-cd0984fb54db",
   "metadata": {},
   "outputs": [],
   "source": [
    "df.drop(columns = {'Favorite_color'}, inplace = True)"
   ]
  },
  {
   "cell_type": "code",
   "execution_count": 40,
   "id": "a9ead210-3cb0-47b9-9831-cb88b6698794",
   "metadata": {},
   "outputs": [
    {
     "data": {
      "text/html": [
       "<div>\n",
       "<style scoped>\n",
       "    .dataframe tbody tr th:only-of-type {\n",
       "        vertical-align: middle;\n",
       "    }\n",
       "\n",
       "    .dataframe tbody tr th {\n",
       "        vertical-align: top;\n",
       "    }\n",
       "\n",
       "    .dataframe thead th {\n",
       "        text-align: right;\n",
       "    }\n",
       "</style>\n",
       "<table border=\"1\" class=\"dataframe\">\n",
       "  <thead>\n",
       "    <tr style=\"text-align: right;\">\n",
       "      <th></th>\n",
       "      <th>First</th>\n",
       "      <th>Last</th>\n",
       "      <th>Full_Name</th>\n",
       "      <th>Email</th>\n",
       "    </tr>\n",
       "  </thead>\n",
       "  <tbody>\n",
       "    <tr>\n",
       "      <th>0</th>\n",
       "      <td>Guruji</td>\n",
       "      <td>Anadi-mukt</td>\n",
       "      <td>Guruji Anadi-mukt</td>\n",
       "      <td>guruji@akshardham.com</td>\n",
       "    </tr>\n",
       "    <tr>\n",
       "      <th>1</th>\n",
       "      <td>Ghanshyam</td>\n",
       "      <td>Sarvopari</td>\n",
       "      <td>Ghanshyam Sarvopari</td>\n",
       "      <td>Ghanshyam@akshardham.com</td>\n",
       "    </tr>\n",
       "    <tr>\n",
       "      <th>2</th>\n",
       "      <td>Smit</td>\n",
       "      <td>Dasanudas</td>\n",
       "      <td>Smit Dasanudas</td>\n",
       "      <td>smit3569@gmail.com</td>\n",
       "    </tr>\n",
       "    <tr>\n",
       "      <th>0</th>\n",
       "      <td>Shree Hari</td>\n",
       "      <td>Akshardhamatipati</td>\n",
       "      <td>NaN</td>\n",
       "      <td>Shreehari@akshardham.com</td>\n",
       "    </tr>\n",
       "    <tr>\n",
       "      <th>1</th>\n",
       "      <td>Tapuji</td>\n",
       "      <td>Vadtal Vihari</td>\n",
       "      <td>NaN</td>\n",
       "      <td>VadtalVihari@purshottam.com</td>\n",
       "    </tr>\n",
       "  </tbody>\n",
       "</table>\n",
       "</div>"
      ],
      "text/plain": [
       "        First               Last            Full_Name  \\\n",
       "0      Guruji         Anadi-mukt    Guruji Anadi-mukt   \n",
       "1   Ghanshyam          Sarvopari  Ghanshyam Sarvopari   \n",
       "2        Smit          Dasanudas       Smit Dasanudas   \n",
       "0  Shree Hari  Akshardhamatipati                  NaN   \n",
       "1      Tapuji      Vadtal Vihari                  NaN   \n",
       "\n",
       "                         Email  \n",
       "0        guruji@akshardham.com  \n",
       "1     Ghanshyam@akshardham.com  \n",
       "2           smit3569@gmail.com  \n",
       "0     Shreehari@akshardham.com  \n",
       "1  VadtalVihari@purshottam.com  "
      ]
     },
     "execution_count": 40,
     "metadata": {},
     "output_type": "execute_result"
    }
   ],
   "source": [
    "df"
   ]
  },
  {
   "cell_type": "code",
   "execution_count": 41,
   "id": "ec22dd5e-eb6a-416c-8565-b741b63234c6",
   "metadata": {},
   "outputs": [
    {
     "data": {
      "text/html": [
       "<div>\n",
       "<style scoped>\n",
       "    .dataframe tbody tr th:only-of-type {\n",
       "        vertical-align: middle;\n",
       "    }\n",
       "\n",
       "    .dataframe tbody tr th {\n",
       "        vertical-align: top;\n",
       "    }\n",
       "\n",
       "    .dataframe thead th {\n",
       "        text-align: right;\n",
       "    }\n",
       "</style>\n",
       "<table border=\"1\" class=\"dataframe\">\n",
       "  <thead>\n",
       "    <tr style=\"text-align: right;\">\n",
       "      <th></th>\n",
       "      <th>First</th>\n",
       "      <th>Last</th>\n",
       "      <th>Full_Name</th>\n",
       "      <th>Email</th>\n",
       "    </tr>\n",
       "  </thead>\n",
       "  <tbody>\n",
       "    <tr>\n",
       "      <th>0</th>\n",
       "      <td>Guruji</td>\n",
       "      <td>Anadi-mukt</td>\n",
       "      <td>Guruji Anadi-mukt</td>\n",
       "      <td>guruji@akshardham.com</td>\n",
       "    </tr>\n",
       "    <tr>\n",
       "      <th>2</th>\n",
       "      <td>Smit</td>\n",
       "      <td>Dasanudas</td>\n",
       "      <td>Smit Dasanudas</td>\n",
       "      <td>smit3569@gmail.com</td>\n",
       "    </tr>\n",
       "    <tr>\n",
       "      <th>0</th>\n",
       "      <td>Shree Hari</td>\n",
       "      <td>Akshardhamatipati</td>\n",
       "      <td>NaN</td>\n",
       "      <td>Shreehari@akshardham.com</td>\n",
       "    </tr>\n",
       "  </tbody>\n",
       "</table>\n",
       "</div>"
      ],
      "text/plain": [
       "        First               Last          Full_Name                     Email\n",
       "0      Guruji         Anadi-mukt  Guruji Anadi-mukt     guruji@akshardham.com\n",
       "2        Smit          Dasanudas     Smit Dasanudas        smit3569@gmail.com\n",
       "0  Shree Hari  Akshardhamatipati                NaN  Shreehari@akshardham.com"
      ]
     },
     "execution_count": 41,
     "metadata": {},
     "output_type": "execute_result"
    }
   ],
   "source": [
    "df.drop(index = 1)"
   ]
  },
  {
   "cell_type": "code",
   "execution_count": 42,
   "id": "45c0b68b-ba11-4e79-9e48-8a9c3acc0df5",
   "metadata": {},
   "outputs": [
    {
     "data": {
      "text/html": [
       "<div>\n",
       "<style scoped>\n",
       "    .dataframe tbody tr th:only-of-type {\n",
       "        vertical-align: middle;\n",
       "    }\n",
       "\n",
       "    .dataframe tbody tr th {\n",
       "        vertical-align: top;\n",
       "    }\n",
       "\n",
       "    .dataframe thead th {\n",
       "        text-align: right;\n",
       "    }\n",
       "</style>\n",
       "<table border=\"1\" class=\"dataframe\">\n",
       "  <thead>\n",
       "    <tr style=\"text-align: right;\">\n",
       "      <th></th>\n",
       "      <th>First</th>\n",
       "      <th>Last</th>\n",
       "      <th>Full_Name</th>\n",
       "      <th>Email</th>\n",
       "    </tr>\n",
       "  </thead>\n",
       "  <tbody>\n",
       "    <tr>\n",
       "      <th>0</th>\n",
       "      <td>Guruji</td>\n",
       "      <td>Anadi-mukt</td>\n",
       "      <td>Guruji Anadi-mukt</td>\n",
       "      <td>guruji@akshardham.com</td>\n",
       "    </tr>\n",
       "    <tr>\n",
       "      <th>1</th>\n",
       "      <td>Ghanshyam</td>\n",
       "      <td>Sarvopari</td>\n",
       "      <td>Ghanshyam Sarvopari</td>\n",
       "      <td>Ghanshyam@akshardham.com</td>\n",
       "    </tr>\n",
       "    <tr>\n",
       "      <th>2</th>\n",
       "      <td>Smit</td>\n",
       "      <td>Dasanudas</td>\n",
       "      <td>Smit Dasanudas</td>\n",
       "      <td>smit3569@gmail.com</td>\n",
       "    </tr>\n",
       "    <tr>\n",
       "      <th>0</th>\n",
       "      <td>Shree Hari</td>\n",
       "      <td>Akshardhamatipati</td>\n",
       "      <td>NaN</td>\n",
       "      <td>Shreehari@akshardham.com</td>\n",
       "    </tr>\n",
       "    <tr>\n",
       "      <th>1</th>\n",
       "      <td>Tapuji</td>\n",
       "      <td>Vadtal Vihari</td>\n",
       "      <td>NaN</td>\n",
       "      <td>VadtalVihari@purshottam.com</td>\n",
       "    </tr>\n",
       "  </tbody>\n",
       "</table>\n",
       "</div>"
      ],
      "text/plain": [
       "        First               Last            Full_Name  \\\n",
       "0      Guruji         Anadi-mukt    Guruji Anadi-mukt   \n",
       "1   Ghanshyam          Sarvopari  Ghanshyam Sarvopari   \n",
       "2        Smit          Dasanudas       Smit Dasanudas   \n",
       "0  Shree Hari  Akshardhamatipati                  NaN   \n",
       "1      Tapuji      Vadtal Vihari                  NaN   \n",
       "\n",
       "                         Email  \n",
       "0        guruji@akshardham.com  \n",
       "1     Ghanshyam@akshardham.com  \n",
       "2           smit3569@gmail.com  \n",
       "0     Shreehari@akshardham.com  \n",
       "1  VadtalVihari@purshottam.com  "
      ]
     },
     "execution_count": 42,
     "metadata": {},
     "output_type": "execute_result"
    }
   ],
   "source": [
    "df"
   ]
  },
  {
   "cell_type": "code",
   "execution_count": 44,
   "id": "fb83628d-444c-4c38-b352-ed8b56ef625c",
   "metadata": {},
   "outputs": [
    {
     "data": {
      "text/html": [
       "<div>\n",
       "<style scoped>\n",
       "    .dataframe tbody tr th:only-of-type {\n",
       "        vertical-align: middle;\n",
       "    }\n",
       "\n",
       "    .dataframe tbody tr th {\n",
       "        vertical-align: top;\n",
       "    }\n",
       "\n",
       "    .dataframe thead th {\n",
       "        text-align: right;\n",
       "    }\n",
       "</style>\n",
       "<table border=\"1\" class=\"dataframe\">\n",
       "  <thead>\n",
       "    <tr style=\"text-align: right;\">\n",
       "      <th></th>\n",
       "      <th>First</th>\n",
       "      <th>Last</th>\n",
       "      <th>Full_Name</th>\n",
       "      <th>Email</th>\n",
       "    </tr>\n",
       "  </thead>\n",
       "  <tbody>\n",
       "    <tr>\n",
       "      <th>2</th>\n",
       "      <td>Smit</td>\n",
       "      <td>Dasanudas</td>\n",
       "      <td>Smit Dasanudas</td>\n",
       "      <td>smit3569@gmail.com</td>\n",
       "    </tr>\n",
       "  </tbody>\n",
       "</table>\n",
       "</div>"
      ],
      "text/plain": [
       "  First       Last       Full_Name               Email\n",
       "2  Smit  Dasanudas  Smit Dasanudas  smit3569@gmail.com"
      ]
     },
     "execution_count": 44,
     "metadata": {},
     "output_type": "execute_result"
    }
   ],
   "source": [
    "df[df['Email']=='smit3569@gmail.com']"
   ]
  },
  {
   "cell_type": "code",
   "execution_count": 47,
   "id": "fd914909-2255-4885-b595-5e4a98fa56ed",
   "metadata": {},
   "outputs": [],
   "source": [
    "df.drop(columns={'Full_Name'}, inplace=True)"
   ]
  },
  {
   "cell_type": "code",
   "execution_count": 48,
   "id": "790c72d6-04d2-488b-a869-1e484345d4c8",
   "metadata": {},
   "outputs": [
    {
     "data": {
      "text/html": [
       "<div>\n",
       "<style scoped>\n",
       "    .dataframe tbody tr th:only-of-type {\n",
       "        vertical-align: middle;\n",
       "    }\n",
       "\n",
       "    .dataframe tbody tr th {\n",
       "        vertical-align: top;\n",
       "    }\n",
       "\n",
       "    .dataframe thead th {\n",
       "        text-align: right;\n",
       "    }\n",
       "</style>\n",
       "<table border=\"1\" class=\"dataframe\">\n",
       "  <thead>\n",
       "    <tr style=\"text-align: right;\">\n",
       "      <th></th>\n",
       "      <th>First</th>\n",
       "      <th>Last</th>\n",
       "      <th>Email</th>\n",
       "    </tr>\n",
       "  </thead>\n",
       "  <tbody>\n",
       "    <tr>\n",
       "      <th>0</th>\n",
       "      <td>Guruji</td>\n",
       "      <td>Anadi-mukt</td>\n",
       "      <td>guruji@akshardham.com</td>\n",
       "    </tr>\n",
       "    <tr>\n",
       "      <th>1</th>\n",
       "      <td>Ghanshyam</td>\n",
       "      <td>Sarvopari</td>\n",
       "      <td>Ghanshyam@akshardham.com</td>\n",
       "    </tr>\n",
       "    <tr>\n",
       "      <th>2</th>\n",
       "      <td>Smit</td>\n",
       "      <td>Dasanudas</td>\n",
       "      <td>smit3569@gmail.com</td>\n",
       "    </tr>\n",
       "    <tr>\n",
       "      <th>0</th>\n",
       "      <td>Shree Hari</td>\n",
       "      <td>Akshardhamatipati</td>\n",
       "      <td>Shreehari@akshardham.com</td>\n",
       "    </tr>\n",
       "    <tr>\n",
       "      <th>1</th>\n",
       "      <td>Tapuji</td>\n",
       "      <td>Vadtal Vihari</td>\n",
       "      <td>VadtalVihari@purshottam.com</td>\n",
       "    </tr>\n",
       "  </tbody>\n",
       "</table>\n",
       "</div>"
      ],
      "text/plain": [
       "        First               Last                        Email\n",
       "0      Guruji         Anadi-mukt        guruji@akshardham.com\n",
       "1   Ghanshyam          Sarvopari     Ghanshyam@akshardham.com\n",
       "2        Smit          Dasanudas           smit3569@gmail.com\n",
       "0  Shree Hari  Akshardhamatipati     Shreehari@akshardham.com\n",
       "1      Tapuji      Vadtal Vihari  VadtalVihari@purshottam.com"
      ]
     },
     "execution_count": 48,
     "metadata": {},
     "output_type": "execute_result"
    }
   ],
   "source": [
    "df"
   ]
  },
  {
   "cell_type": "code",
   "execution_count": 50,
   "id": "460ab9a0-96bb-4ed2-b364-e1170961d021",
   "metadata": {},
   "outputs": [
    {
     "data": {
      "text/plain": [
       "Index(['First', 'Last', 'Email'], dtype='object')"
      ]
     },
     "execution_count": 50,
     "metadata": {},
     "output_type": "execute_result"
    }
   ],
   "source": [
    "df.columns"
   ]
  },
  {
   "cell_type": "code",
   "execution_count": 55,
   "id": "46343f3c-201a-40bf-82b3-5ad45f3728b7",
   "metadata": {},
   "outputs": [],
   "source": [
    "# Now our task is to drop the row with the email = \"smit3569@gmail.com\"\n",
    "df.drop(index = df[df['Email']=='smit3569@gmail.com'].index, inplace=True)"
   ]
  },
  {
   "cell_type": "code",
   "execution_count": 56,
   "id": "3b2850a2-1bfa-45e5-8e72-bd86472beeb4",
   "metadata": {},
   "outputs": [
    {
     "data": {
      "text/html": [
       "<div>\n",
       "<style scoped>\n",
       "    .dataframe tbody tr th:only-of-type {\n",
       "        vertical-align: middle;\n",
       "    }\n",
       "\n",
       "    .dataframe tbody tr th {\n",
       "        vertical-align: top;\n",
       "    }\n",
       "\n",
       "    .dataframe thead th {\n",
       "        text-align: right;\n",
       "    }\n",
       "</style>\n",
       "<table border=\"1\" class=\"dataframe\">\n",
       "  <thead>\n",
       "    <tr style=\"text-align: right;\">\n",
       "      <th></th>\n",
       "      <th>First</th>\n",
       "      <th>Last</th>\n",
       "      <th>Email</th>\n",
       "    </tr>\n",
       "  </thead>\n",
       "  <tbody>\n",
       "    <tr>\n",
       "      <th>0</th>\n",
       "      <td>Guruji</td>\n",
       "      <td>Anadi-mukt</td>\n",
       "      <td>guruji@akshardham.com</td>\n",
       "    </tr>\n",
       "    <tr>\n",
       "      <th>1</th>\n",
       "      <td>Ghanshyam</td>\n",
       "      <td>Sarvopari</td>\n",
       "      <td>Ghanshyam@akshardham.com</td>\n",
       "    </tr>\n",
       "    <tr>\n",
       "      <th>0</th>\n",
       "      <td>Shree Hari</td>\n",
       "      <td>Akshardhamatipati</td>\n",
       "      <td>Shreehari@akshardham.com</td>\n",
       "    </tr>\n",
       "    <tr>\n",
       "      <th>1</th>\n",
       "      <td>Tapuji</td>\n",
       "      <td>Vadtal Vihari</td>\n",
       "      <td>VadtalVihari@purshottam.com</td>\n",
       "    </tr>\n",
       "  </tbody>\n",
       "</table>\n",
       "</div>"
      ],
      "text/plain": [
       "        First               Last                        Email\n",
       "0      Guruji         Anadi-mukt        guruji@akshardham.com\n",
       "1   Ghanshyam          Sarvopari     Ghanshyam@akshardham.com\n",
       "0  Shree Hari  Akshardhamatipati     Shreehari@akshardham.com\n",
       "1      Tapuji      Vadtal Vihari  VadtalVihari@purshottam.com"
      ]
     },
     "execution_count": 56,
     "metadata": {},
     "output_type": "execute_result"
    }
   ],
   "source": [
    "df"
   ]
  },
  {
   "cell_type": "code",
   "execution_count": 58,
   "id": "55867b9c-b8cc-4351-8580-40c44f75d7f2",
   "metadata": {},
   "outputs": [
    {
     "data": {
      "text/html": [
       "<div>\n",
       "<style scoped>\n",
       "    .dataframe tbody tr th:only-of-type {\n",
       "        vertical-align: middle;\n",
       "    }\n",
       "\n",
       "    .dataframe tbody tr th {\n",
       "        vertical-align: top;\n",
       "    }\n",
       "\n",
       "    .dataframe thead th {\n",
       "        text-align: right;\n",
       "    }\n",
       "</style>\n",
       "<table border=\"1\" class=\"dataframe\">\n",
       "  <thead>\n",
       "    <tr style=\"text-align: right;\">\n",
       "      <th></th>\n",
       "      <th>First</th>\n",
       "      <th>Last</th>\n",
       "      <th>Email</th>\n",
       "    </tr>\n",
       "  </thead>\n",
       "  <tbody>\n",
       "    <tr>\n",
       "      <th>0</th>\n",
       "      <td>Guruji</td>\n",
       "      <td>Anadi-mukt</td>\n",
       "      <td>guruji@akshardham.com</td>\n",
       "    </tr>\n",
       "    <tr>\n",
       "      <th>0</th>\n",
       "      <td>Shree Hari</td>\n",
       "      <td>Akshardhamatipati</td>\n",
       "      <td>Shreehari@akshardham.com</td>\n",
       "    </tr>\n",
       "  </tbody>\n",
       "</table>\n",
       "</div>"
      ],
      "text/plain": [
       "        First               Last                     Email\n",
       "0      Guruji         Anadi-mukt     guruji@akshardham.com\n",
       "0  Shree Hari  Akshardhamatipati  Shreehari@akshardham.com"
      ]
     },
     "execution_count": 58,
     "metadata": {},
     "output_type": "execute_result"
    }
   ],
   "source": [
    "df.drop(index = df[df['Last']=='Vadtal Vihari'].index)"
   ]
  },
  {
   "cell_type": "code",
   "execution_count": 59,
   "id": "d018d1e1-5505-45ff-88a8-7b08ec11d888",
   "metadata": {},
   "outputs": [],
   "source": [
    "# Hence, now i know how to drop the rows and columns in pandas. Also, merging two dataframes."
   ]
  },
  {
   "cell_type": "code",
   "execution_count": 60,
   "id": "13b27200-fe6e-47c7-8fc3-4e47e0fe309c",
   "metadata": {},
   "outputs": [
    {
     "data": {
      "text/html": [
       "<div>\n",
       "<style scoped>\n",
       "    .dataframe tbody tr th:only-of-type {\n",
       "        vertical-align: middle;\n",
       "    }\n",
       "\n",
       "    .dataframe tbody tr th {\n",
       "        vertical-align: top;\n",
       "    }\n",
       "\n",
       "    .dataframe thead th {\n",
       "        text-align: right;\n",
       "    }\n",
       "</style>\n",
       "<table border=\"1\" class=\"dataframe\">\n",
       "  <thead>\n",
       "    <tr style=\"text-align: right;\">\n",
       "      <th></th>\n",
       "      <th>First</th>\n",
       "      <th>Last</th>\n",
       "      <th>Email</th>\n",
       "    </tr>\n",
       "  </thead>\n",
       "  <tbody>\n",
       "    <tr>\n",
       "      <th>0</th>\n",
       "      <td>Guruji</td>\n",
       "      <td>Anadi-mukt</td>\n",
       "      <td>guruji@akshardham.com</td>\n",
       "    </tr>\n",
       "    <tr>\n",
       "      <th>1</th>\n",
       "      <td>Ghanshyam</td>\n",
       "      <td>Sarvopari</td>\n",
       "      <td>Ghanshyam@akshardham.com</td>\n",
       "    </tr>\n",
       "    <tr>\n",
       "      <th>0</th>\n",
       "      <td>Shree Hari</td>\n",
       "      <td>Akshardhamatipati</td>\n",
       "      <td>Shreehari@akshardham.com</td>\n",
       "    </tr>\n",
       "    <tr>\n",
       "      <th>1</th>\n",
       "      <td>Tapuji</td>\n",
       "      <td>Vadtal Vihari</td>\n",
       "      <td>VadtalVihari@purshottam.com</td>\n",
       "    </tr>\n",
       "  </tbody>\n",
       "</table>\n",
       "</div>"
      ],
      "text/plain": [
       "        First               Last                        Email\n",
       "0      Guruji         Anadi-mukt        guruji@akshardham.com\n",
       "1   Ghanshyam          Sarvopari     Ghanshyam@akshardham.com\n",
       "0  Shree Hari  Akshardhamatipati     Shreehari@akshardham.com\n",
       "1      Tapuji      Vadtal Vihari  VadtalVihari@purshottam.com"
      ]
     },
     "execution_count": 60,
     "metadata": {},
     "output_type": "execute_result"
    }
   ],
   "source": [
    "df"
   ]
  },
  {
   "cell_type": "code",
   "execution_count": 62,
   "id": "c3f13be7-261e-4a49-8e66-c8d116142420",
   "metadata": {},
   "outputs": [
    {
     "data": {
      "text/html": [
       "<div>\n",
       "<style scoped>\n",
       "    .dataframe tbody tr th:only-of-type {\n",
       "        vertical-align: middle;\n",
       "    }\n",
       "\n",
       "    .dataframe tbody tr th {\n",
       "        vertical-align: top;\n",
       "    }\n",
       "\n",
       "    .dataframe thead th {\n",
       "        text-align: right;\n",
       "    }\n",
       "</style>\n",
       "<table border=\"1\" class=\"dataframe\">\n",
       "  <thead>\n",
       "    <tr style=\"text-align: right;\">\n",
       "      <th></th>\n",
       "      <th>First</th>\n",
       "      <th>Last</th>\n",
       "      <th>Email</th>\n",
       "    </tr>\n",
       "  </thead>\n",
       "  <tbody>\n",
       "    <tr>\n",
       "      <th>1</th>\n",
       "      <td>Ghanshyam</td>\n",
       "      <td>Sarvopari</td>\n",
       "      <td>Ghanshyam@akshardham.com</td>\n",
       "    </tr>\n",
       "  </tbody>\n",
       "</table>\n",
       "</div>"
      ],
      "text/plain": [
       "       First       Last                     Email\n",
       "1  Ghanshyam  Sarvopari  Ghanshyam@akshardham.com"
      ]
     },
     "execution_count": 62,
     "metadata": {},
     "output_type": "execute_result"
    }
   ],
   "source": [
    "df[df['First']=='Ghanshyam']"
   ]
  },
  {
   "cell_type": "code",
   "execution_count": 65,
   "id": "37237975-ae9e-47ce-bde1-226f51baeffd",
   "metadata": {},
   "outputs": [
    {
     "data": {
      "text/html": [
       "<div>\n",
       "<style scoped>\n",
       "    .dataframe tbody tr th:only-of-type {\n",
       "        vertical-align: middle;\n",
       "    }\n",
       "\n",
       "    .dataframe tbody tr th {\n",
       "        vertical-align: top;\n",
       "    }\n",
       "\n",
       "    .dataframe thead th {\n",
       "        text-align: right;\n",
       "    }\n",
       "</style>\n",
       "<table border=\"1\" class=\"dataframe\">\n",
       "  <thead>\n",
       "    <tr style=\"text-align: right;\">\n",
       "      <th></th>\n",
       "      <th>First</th>\n",
       "      <th>Last</th>\n",
       "      <th>Email</th>\n",
       "    </tr>\n",
       "  </thead>\n",
       "  <tbody>\n",
       "    <tr>\n",
       "      <th>1</th>\n",
       "      <td>Tapuji</td>\n",
       "      <td>Vadtal Vihari</td>\n",
       "      <td>VadtalVihari@purshottam.com</td>\n",
       "    </tr>\n",
       "    <tr>\n",
       "      <th>1</th>\n",
       "      <td>Ghanshyam</td>\n",
       "      <td>Sarvopari</td>\n",
       "      <td>Ghanshyam@akshardham.com</td>\n",
       "    </tr>\n",
       "    <tr>\n",
       "      <th>0</th>\n",
       "      <td>Guruji</td>\n",
       "      <td>Anadi-mukt</td>\n",
       "      <td>guruji@akshardham.com</td>\n",
       "    </tr>\n",
       "    <tr>\n",
       "      <th>0</th>\n",
       "      <td>Shree Hari</td>\n",
       "      <td>Akshardhamatipati</td>\n",
       "      <td>Shreehari@akshardham.com</td>\n",
       "    </tr>\n",
       "  </tbody>\n",
       "</table>\n",
       "</div>"
      ],
      "text/plain": [
       "        First               Last                        Email\n",
       "1      Tapuji      Vadtal Vihari  VadtalVihari@purshottam.com\n",
       "1   Ghanshyam          Sarvopari     Ghanshyam@akshardham.com\n",
       "0      Guruji         Anadi-mukt        guruji@akshardham.com\n",
       "0  Shree Hari  Akshardhamatipati     Shreehari@akshardham.com"
      ]
     },
     "execution_count": 65,
     "metadata": {},
     "output_type": "execute_result"
    }
   ],
   "source": [
    "df.sort_values(by=['Last', 'First'], ascending=False)"
   ]
  },
  {
   "cell_type": "code",
   "execution_count": null,
   "id": "e49d1064-57cb-4cee-a7e7-9c9a8b65c886",
   "metadata": {},
   "outputs": [],
   "source": []
  }
 ],
 "metadata": {
  "kernelspec": {
   "display_name": "Python 3 (ipykernel)",
   "language": "python",
   "name": "python3"
  },
  "language_info": {
   "codemirror_mode": {
    "name": "ipython",
    "version": 3
   },
   "file_extension": ".py",
   "mimetype": "text/x-python",
   "name": "python",
   "nbconvert_exporter": "python",
   "pygments_lexer": "ipython3",
   "version": "3.9.6"
  }
 },
 "nbformat": 4,
 "nbformat_minor": 5
}
